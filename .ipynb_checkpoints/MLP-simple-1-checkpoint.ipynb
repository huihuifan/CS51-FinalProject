{
 "cells": [
  {
   "cell_type": "code",
   "execution_count": 1,
   "metadata": {
    "collapsed": true
   },
   "outputs": [],
   "source": [
    "%matplotlib inline\n",
    "\n",
    "from __future__ import absolute_import, print_function, unicode_literals, division\n",
    "from sklearn.datasets import fetch_mldata\n",
    "import matplotlib.pyplot as plt\n",
    "import numpy as np\n",
    "import pandas as pd\n",
    "import itertools\n",
    "import random as rand\n",
    "import copy"
   ]
  },
  {
   "cell_type": "code",
   "execution_count": 2,
   "metadata": {
    "collapsed": true
   },
   "outputs": [],
   "source": [
    "def mat_dbg(x):\n",
    "    print(x.shape, \": \\n\", x)"
   ]
  },
  {
   "cell_type": "code",
   "execution_count": 280,
   "metadata": {
    "collapsed": false
   },
   "outputs": [],
   "source": [
    "class MLP(object):\n",
    "    \"\"\"\n",
    "    NOTE: Matrix operations are modified from RBM file\n",
    "    In particular, we have an an an input of n data points with\n",
    "    dimension d as a d-by-n matrixspotify\n",
    "    \"\"\"\n",
    "    def __init__(self, data, num_hidden, learn_rate):\n",
    "        # First row are the target values\n",
    "        self.targets = data[0]\n",
    "        self.data = data[1:,:]\n",
    "        self.num_data = data.shape[1]\n",
    "        self.num_visible = data.shape[0] - 1\n",
    "        self.num_hidden = num_hidden\n",
    "        self.learn_rate = learn_rate\n",
    "        \n",
    "        self.weights = np.random.rand(self.num_visible + 1, self.num_hidden)/10\n",
    "        #self.weights = np.insert(self.weights, 0, 1, axis = 0)\n",
    "        self.data = np.insert(self.data, 0, 1, axis = 0)\n",
    "    \n",
    "    def _sigmoid(self,x):\n",
    "        return 1.0/(1.0+np.exp(-x))\n",
    "        \n",
    "    def _activated(self,mat):\n",
    "        activated = self._sigmoid(np.dot(self.weights.T,mat))\n",
    "        #activated = np.sign(activated - 0.5) # -0.5 for logistic sigmoid, 0 for tanh\n",
    "        #for elt in np.nditer(activated,op_flags=['readwrite']):\n",
    "        #    if elt == 0: \n",
    "        #        elt[...] = 1\n",
    "        return activated\n",
    "    \n",
    "    def _gradient(self,mat):\n",
    "        w = copy.deepcopy(mat)\n",
    "        for elt in np.nditer(w,op_flags=['readwrite']):\n",
    "            elt[...] = elt - elt * elt\n",
    "        return w\n",
    "    \n",
    "    def _feed_forward(self):\n",
    "        data_copy = copy.deepcopy(self.data)\n",
    "        for i in range(0,self.num_data):\n",
    "            data_col = data_copy[:,i]\n",
    "            data_col = np.reshape(data_col, (-1, 1))\n",
    "            \n",
    "            guess = (self._activated(data_col))[0]\n",
    "            error = self.targets[i] - guess\n",
    "            grad = (self._gradient(guess))[0]\n",
    "            c = (error * self.learn_rate)[0]\n",
    "            wt_change = c * grad * data_col\n",
    "            \n",
    "            self.weights = wt_change + self.weights\n",
    "            #self.weights = self.weights / (np.amax(self.weights))\n",
    "        \n",
    "        print(\"New weights: \",self.weights)            \n",
    "        \n",
    "    def _prop_backward(self):\n",
    "        return None\n",
    "    \n",
    "    def _calc_error(self,mat):\n",
    "        return None\n"
   ]
  },
  {
   "cell_type": "code",
   "execution_count": 283,
   "metadata": {
    "collapsed": false
   },
   "outputs": [
    {
     "name": "stdout",
     "output_type": "stream",
     "text": [
      "(3, 5000) : \n",
      " [[-1.  1.  1. ...,  1.  1.  1.]\n",
      " [-1.  1.  1. ...,  1.  1.  1.]\n",
      " [ 1.  1. -1. ...,  1.  1.  1.]]\n",
      "Weights^T: \n",
      " [[ 0.06999576  0.03027737  0.04028881]]\n",
      "Targets: \n",
      "[-1.  1.  1. ...,  1.  1.  1.]\n",
      "Data: \n",
      " [[ 1.  1.  1. ...,  1.  1.  1.]\n",
      " [-1.  1.  1. ...,  1.  1.  1.]\n",
      " [ 1.  1. -1. ...,  1.  1.  1.]]\n"
     ]
    }
   ],
   "source": [
    "# See www.cse.unsw.edu.au/~cs9417ml/MLP2/\n",
    "sample_data = np.sign(1-2*np.random.rand(3,5000))\n",
    "sample_data[0] = sample_data[1]\n",
    "# Need to write binary target values for data as well for MLP\n",
    "mat_dbg(sample_data)\n",
    "MLP_1 = MLP(sample_data,1,0.05)\n",
    "print(\"Weights^T: \\n\",MLP_1.weights.T)\n",
    "print(\"Targets: \")\n",
    "print(MLP_1.targets)\n",
    "print(\"Data: \\n\",MLP_1.data)"
   ]
  },
  {
   "cell_type": "code",
   "execution_count": 284,
   "metadata": {
    "collapsed": false
   },
   "outputs": [
    {
     "name": "stdout",
     "output_type": "stream",
     "text": [
      "New weights:  [[-1.25291073]\n",
      " [ 4.22680395]\n",
      " [-0.00575931]]\n",
      "New weights:  [[-1.40913934]\n",
      " [ 4.77291374]\n",
      " [-0.00583104]]\n",
      "New weights:  [[-1.50271854]\n",
      " [ 5.08822824]\n",
      " [-0.00588181]]\n",
      "New weights:  [[-1.56993042]\n",
      " [ 5.3105247 ]\n",
      " [-0.00592042]]\n",
      "New weights:  [[-1.62247406]\n",
      " [ 5.48226948]\n",
      " [-0.00595104]]\n"
     ]
    }
   ],
   "source": [
    "for i in range(0,5):\n",
    "    MLP_1._feed_forward()"
   ]
  },
  {
   "cell_type": "code",
   "execution_count": null,
   "metadata": {
    "collapsed": true
   },
   "outputs": [],
   "source": []
  }
 ],
 "metadata": {
  "kernelspec": {
   "display_name": "Python 2",
   "language": "python",
   "name": "python2"
  },
  "language_info": {
   "codemirror_mode": {
    "name": "ipython",
    "version": 2
   },
   "file_extension": ".py",
   "mimetype": "text/x-python",
   "name": "python",
   "nbconvert_exporter": "python",
   "pygments_lexer": "ipython2",
   "version": "2.7.9"
  }
 },
 "nbformat": 4,
 "nbformat_minor": 0
}
