{
 "cells": [
  {
   "cell_type": "code",
   "execution_count": 1,
   "metadata": {
    "collapsed": true
   },
   "outputs": [],
   "source": [
    "%matplotlib inline\n",
    "\n",
    "from __future__ import absolute_import, print_function, unicode_literals, division\n",
    "from sklearn.datasets import fetch_mldata\n",
    "import matplotlib.pyplot as plt\n",
    "import numpy as np\n",
    "import pandas as pd\n",
    "import itertools\n",
    "import random as rand\n",
    "import copy"
   ]
  },
  {
   "cell_type": "code",
   "execution_count": 2,
   "metadata": {
    "collapsed": true
   },
   "outputs": [],
   "source": [
    "def mat_dbg(x):\n",
    "    print(x.shape, \": \\n\", x)"
   ]
  },
  {
   "cell_type": "code",
   "execution_count": 240,
   "metadata": {
    "collapsed": false
   },
   "outputs": [],
   "source": [
    "class MLP(object):\n",
    "    \"\"\"\n",
    "    NOTE: Matrix operations are modified from RBM file\n",
    "    In particular, we have an an an input of n data points with\n",
    "    dimension d as a d-by-n matrix\n",
    "    \"\"\"\n",
    "    def __init__(self, data, num_hidden, learn_rate):\n",
    "        # First row are the target values\n",
    "        self.targets = data[0]\n",
    "        self.data = data[1:,:]\n",
    "        self.num_data = data.shape[1]\n",
    "        self.num_visible = data.shape[0] - 1\n",
    "        self.num_hidden = num_hidden\n",
    "        self.learn_rate = learn_rate\n",
    "        \n",
    "        self.weights = np.random.rand(self.num_visible, self.num_hidden)\n",
    "        self.weights = np.insert(self.weights, 0, 1, axis = 0)\n",
    "        self.data = np.insert(self.data, 0, 1, axis = 0)\n",
    "    \n",
    "    def _sigmoid(self,x):\n",
    "        return 1.0/(1.0+np.exp(-x))\n",
    "        \n",
    "    def _activated(self,mat):\n",
    "        activated = self._sigmoid(np.dot(self.weights.T,mat))\n",
    "        print(activated)\n",
    "        #activated = np.sign(activated - 0.5) # -0.5 for logistic sigmoid, 0 for tanh\n",
    "        #for elt in np.nditer(activated,op_flags=['readwrite']):\n",
    "        #    if elt == 0: \n",
    "        #        elt[...] = 1\n",
    "        return activated\n",
    "    \n",
    "    def _gradient(self,mat):\n",
    "        w = mat\n",
    "        for elt in np.nditer(w,op_flags=['readwrite']):\n",
    "            elt[...] = elt - elt * elt\n",
    "        return w\n",
    "    \n",
    "    def _feed_forward(self):\n",
    "        for i in range(0,self.num_data):\n",
    "            # print(\"000 weights: \", self.weights.T)\n",
    "            data_col = self.data[:,i]\n",
    "            print(\"Data: \", data_col.T)\n",
    "            guess = self._activated(data_col.T)\n",
    "            error = self.targets[i] - guess\n",
    "            print(\"Guess: \",guess, \" and target: \", self.targets[i], \" and error: \", error)\n",
    "            #print(\"Error: \", error)\n",
    "            grad = self._gradient(data_col)\n",
    "            # print(\"Gradient: \", grad)\n",
    "            wt_change = error * self.learn_rate * grad\n",
    "            # print(\"Weight change: \", wt_change)\n",
    "            # print(\"Old weights: \", self.weights.T)\n",
    "            self.weights = wt_change + self.weights\n",
    "            #print(\"New weights: \", self.weights.T)\n",
    "        \n",
    "    def _prop_backward(self):\n",
    "        return None\n",
    "    \n",
    "    def _calc_error(self,mat):\n",
    "        return None\n",
    "        \n",
    "        "
   ]
  },
  {
   "cell_type": "code",
   "execution_count": 241,
   "metadata": {
    "collapsed": false
   },
   "outputs": [
    {
     "name": "stdout",
     "output_type": "stream",
     "text": [
      "(4, 6) : \n",
      " [[ 1.  1.  1. -1.  1.  1.]\n",
      " [ 1.  1.  1. -1.  1.  1.]\n",
      " [ 1. -1. -1. -1. -1.  1.]\n",
      " [-1. -1.  1. -1. -1.  1.]]\n",
      "Weights^T: \n",
      " [[ 1.          0.00398295  0.68918945  0.09733515]]\n",
      "Targets: \n",
      "[ 1.  1.  1. -1.  1.  1.]\n",
      "Data: \n",
      " [[ 1.  1.  1.  1.  1.  1.]\n",
      " [ 1.  1.  1. -1.  1.  1.]\n",
      " [ 1. -1. -1. -1. -1.  1.]\n",
      " [-1. -1.  1. -1. -1.  1.]]\n"
     ]
    }
   ],
   "source": [
    "# See www.cse.unsw.edu.au/~cs9417ml/MLP2/\n",
    "sample_data = np.sign(1-2*np.random.rand(4,6))\n",
    "sample_data[0] = sample_data[1]\n",
    "# Need to write binary target values for data as well for MLP\n",
    "mat_dbg(sample_data)\n",
    "MLP_1 = MLP(sample_data,1,0.05)\n",
    "print(\"Weights^T: \\n\",MLP_1.weights.T)\n",
    "print(\"Targets: \")\n",
    "print(MLP_1.targets)\n",
    "print(\"Data: \\n\",MLP_1.data)"
   ]
  },
  {
   "cell_type": "code",
   "execution_count": 242,
   "metadata": {
    "collapsed": false
   },
   "outputs": [
    {
     "name": "stdout",
     "output_type": "stream",
     "text": [
      "Weights^T: \n",
      " [[ 1.          0.00398295  0.68918945  0.09733515]]\n",
      "[[ 1.        ]\n",
      " [ 0.00398295]\n",
      " [ 0.68918945]\n",
      " [ 0.09733515]]\n",
      "Data:  [ 1.  1.  1. -1.]\n",
      "[ 0.83143578]\n",
      "Guess:  [ 0.83143578]  and target:  1.0  and error:  [ 0.16856422]\n",
      "Data:  [ 1.  1. -1. -1.]\n",
      "[ 0.55415136  0.55415136  0.55415136  0.55415136]\n",
      "Guess:  [ 0.55415136  0.55415136  0.55415136  0.55415136]  and target:  1.0  and error:  [ 0.44584864  0.44584864  0.44584864  0.44584864]\n",
      "Data:  [ 1.  1. -1.  1.]\n",
      "[ 0.60159818  0.60159818  0.58004519  0.57181155]\n",
      "Guess:  [ 0.60159818  0.60159818  0.58004519  0.57181155]  and target:  1.0  and error:  [ 0.39840182  0.39840182  0.41995481  0.42818845]\n",
      "Data:  [ 1. -1. -1. -1.]\n",
      "[ 0.55218241  0.55218241  0.59451285  0.58233714]\n",
      "Guess:  [ 0.55218241  0.55218241  0.59451285  0.58233714]  and target:  -1.0  and error:  [-1.55218241 -1.55218241 -1.59451285 -1.58233714]\n",
      "Data:  [ 1.  1. -1. -1.]\n",
      "[ 0.55415136  0.55415136  0.55415136  0.55415136]\n",
      "Guess:  [ 0.55415136  0.55415136  0.55415136  0.55415136]  and target:  1.0  and error:  [ 0.44584864  0.44584864  0.44584864  0.44584864]\n",
      "Data:  [ 1.  1.  1.  1.]\n",
      "[ 0.85698949  0.91769102  0.87030429  0.88072754]\n",
      "Guess:  [ 0.85698949  0.91769102  0.87030429  0.88072754]  and target:  1.0  and error:  [ 0.14301051  0.08230898  0.12969571  0.11927246]\n"
     ]
    }
   ],
   "source": [
    "print(\"Weights^T: \\n\",MLP_1.weights.T)\n",
    "print(MLP_1.weights)\n",
    "MLP_1._feed_forward()"
   ]
  },
  {
   "cell_type": "code",
   "execution_count": null,
   "metadata": {
    "collapsed": true
   },
   "outputs": [],
   "source": []
  },
  {
   "cell_type": "code",
   "execution_count": null,
   "metadata": {
    "collapsed": true
   },
   "outputs": [],
   "source": []
  }
 ],
 "metadata": {
  "kernelspec": {
   "display_name": "Python 2",
   "language": "python",
   "name": "python2"
  },
  "language_info": {
   "codemirror_mode": {
    "name": "ipython",
    "version": 2
   },
   "file_extension": ".py",
   "mimetype": "text/x-python",
   "name": "python",
   "nbconvert_exporter": "python",
   "pygments_lexer": "ipython2",
   "version": "2.7.9"
  }
 },
 "nbformat": 4,
 "nbformat_minor": 0
}
