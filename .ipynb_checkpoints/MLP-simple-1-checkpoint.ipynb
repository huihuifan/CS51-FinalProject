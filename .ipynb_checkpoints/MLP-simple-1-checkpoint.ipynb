{
 "cells": [
  {
   "cell_type": "code",
   "execution_count": 384,
   "metadata": {
    "collapsed": true
   },
   "outputs": [],
   "source": [
    "%matplotlib inline\n",
    "\n",
    "from __future__ import absolute_import, print_function, unicode_literals, division\n",
    "from sklearn.datasets import fetch_mldata\n",
    "import matplotlib.pyplot as plt\n",
    "import numpy as np\n",
    "import pandas as pd\n",
    "import itertools\n",
    "import random as rand\n",
    "import copy"
   ]
  },
  {
   "cell_type": "code",
   "execution_count": 385,
   "metadata": {
    "collapsed": true
   },
   "outputs": [],
   "source": [
    "def mat_dbg(x):\n",
    "    print(x.shape, \": \\n\", x)"
   ]
  },
  {
   "cell_type": "code",
   "execution_count": 493,
   "metadata": {
    "collapsed": false
   },
   "outputs": [],
   "source": [
    "class MLP(object):\n",
    "    \"\"\"\n",
    "    NOTE: Matrix operations are modified from RBM file\n",
    "    In particular, we have an an an input of n data points with\n",
    "    dimension d as a d-by-n matrix\n",
    "    \"\"\"\n",
    "    def __init__(self, data, num_hidden, learn_rate):\n",
    "        # First row are the target values\n",
    "        self.targets = data[0]\n",
    "        self.data = data[1:,:]\n",
    "        self.num_data = data.shape[1]\n",
    "        self.num_visible = data.shape[0] - 1\n",
    "        self.num_hidden = num_hidden\n",
    "        self.learn_rate = learn_rate\n",
    "        \n",
    "        self.weights = np.random.rand(self.num_visible, self.num_hidden)\n",
    "        self.weights = np.insert(self.weights, 0, 1, axis = 0)\n",
    "        self.data = np.insert(self.data, 0, 1, axis = 0)\n",
    "    \n",
    "    def _sigmoid(self,x):\n",
    "        return 1.0/(1.0+np.exp(-x))\n",
    "        \n",
    "    def _activated(self,mat):\n",
    "        activated = self._sigmoid(np.dot(self.weights.T,mat))\n",
    "        #activated = np.sign(activated - 0.5) # -0.5 for logistic sigmoid, 0 for tanh\n",
    "        #for elt in np.nditer(activated,op_flags=['readwrite']):\n",
    "        #    if elt == 0: \n",
    "        #        elt[...] = 1\n",
    "        return activated\n",
    "    \n",
    "    def _gradient(self,mat):\n",
    "        w = mat\n",
    "        for elt in np.nditer(w,op_flags=['readwrite']):\n",
    "            elt[...] = elt - elt * elt\n",
    "        return w\n",
    "    \n",
    "    def _feed_forward(self):\n",
    "        data_copy = copy.deepcopy(self.data)\n",
    "        print(self.num_data)\n",
    "        for i in range(0,self.num_data):\n",
    "            data_col = data_copy[:,i]\n",
    "            print(\"Data entry shape: \", data_col.shape, \" \\n Data:\", data_col)\n",
    "            print(\"Weight shape: \", self.weights.shape, \" \\n Data: \", self.weights)\n",
    "            prod1 = np.dot(self.weights.T,data_col.T)\n",
    "            \n",
    "            guess = self._activated(data_col)\n",
    "            error = self.targets[i] - guess\n",
    "            grad = self._gradient(data_col)\n",
    "            wt_change = error * self.learn_rate * grad\n",
    "            self.weights = np.add(wt_change,self.weights)\n",
    "            print(self.weights)\n",
    "        \n",
    "    def _prop_backward(self):\n",
    "        return None\n",
    "    \n",
    "    def _calc_error(self,mat):\n",
    "        return None\n",
    "        \n",
    "        "
   ]
  },
  {
   "cell_type": "code",
   "execution_count": 494,
   "metadata": {
    "collapsed": false
   },
   "outputs": [
    {
     "name": "stdout",
     "output_type": "stream",
     "text": [
      "(4, 6) : \n",
      " [[ 1.  1.  1. -1.  1. -1.]\n",
      " [ 1.  1.  1. -1.  1. -1.]\n",
      " [ 1.  1. -1. -1.  1.  1.]\n",
      " [-1. -1. -1. -1. -1.  1.]]\n"
     ]
    },
    {
     "data": {
      "text/plain": [
       "u'\\nprint(\"Weights^T: \\n\",MLP_1.weights.T)\\nprint(\"Targets: \")\\nprint(MLP_1.targets)\\nprint(\"Data: \\n\",MLP_1.data)\\n'"
      ]
     },
     "execution_count": 494,
     "metadata": {},
     "output_type": "execute_result"
    }
   ],
   "source": [
    "# See www.cse.unsw.edu.au/~cs9417ml/MLP2/\n",
    "sample_data = np.sign(1-2*np.random.rand(4,6))\n",
    "sample_data[0] = sample_data[1]\n",
    "# Need to write binary target values for data as well for MLP\n",
    "mat_dbg(sample_data)\n",
    "MLP_1 = MLP(sample_data,1,0.05)\n",
    "\"\"\"\n",
    "print(\"Weights^T: \\n\",MLP_1.weights.T)\n",
    "print(\"Targets: \")\n",
    "print(MLP_1.targets)\n",
    "print(\"Data: \\n\",MLP_1.data)\n",
    "\"\"\""
   ]
  },
  {
   "cell_type": "code",
   "execution_count": 495,
   "metadata": {
    "collapsed": false
   },
   "outputs": [
    {
     "name": "stdout",
     "output_type": "stream",
     "text": [
      "6\n",
      "Data entry shape:  (4,)  \n",
      " Data: [ 1.  1.  1. -1.]\n",
      "Weight shape:  (4, 1)  \n",
      " Data:  [[ 1.        ]\n",
      " [ 0.37219383]\n",
      " [ 0.49338663]\n",
      " [ 0.65452727]]\n",
      "[[ 1.          1.          1.          0.97704852]\n",
      " [ 0.37219383  0.37219383  0.37219383  0.34924236]\n",
      " [ 0.49338663  0.49338663  0.49338663  0.47043516]\n",
      " [ 0.65452727  0.65452727  0.65452727  0.63157579]]\n",
      "Data entry shape:  (4,)  \n",
      " Data: [ 1.  1.  1. -1.]\n",
      "Weight shape:  (4, 4)  \n",
      " Data:  [[ 1.          1.          1.          0.97704852]\n",
      " [ 0.37219383  0.37219383  0.37219383  0.34924236]\n",
      " [ 0.49338663  0.49338663  0.49338663  0.47043516]\n",
      " [ 0.65452727  0.65452727  0.65452727  0.63157579]]\n",
      "[[ 1.          1.          1.          0.95327525]\n",
      " [ 0.37219383  0.37219383  0.37219383  0.32546909]\n",
      " [ 0.49338663  0.49338663  0.49338663  0.44666189]\n",
      " [ 0.65452727  0.65452727  0.65452727  0.60780252]]\n",
      "Data entry shape:  (4,)  \n",
      " Data: [ 1.  1. -1. -1.]\n",
      "Weight shape:  (4, 4)  \n",
      " Data:  [[ 1.          1.          1.          0.95327525]\n",
      " [ 0.37219383  0.37219383  0.37219383  0.32546909]\n",
      " [ 0.49338663  0.49338663  0.49338663  0.44666189]\n",
      " [ 0.65452727  0.65452727  0.65452727  0.60780252]]\n",
      "[[ 1.          1.          0.95558361  0.90885887]\n",
      " [ 0.37219383  0.37219383  0.32777745  0.2810527 ]\n",
      " [ 0.49338663  0.49338663  0.44897025  0.4022455 ]\n",
      " [ 0.65452727  0.65452727  0.61011088  0.56338614]]\n",
      "Data entry shape:  (4,)  \n",
      " Data: [ 1. -1. -1. -1.]\n",
      "Weight shape:  (4, 4)  \n",
      " Data:  [[ 1.          1.          0.95558361  0.90885887]\n",
      " [ 0.37219383  0.37219383  0.32777745  0.2810527 ]\n",
      " [ 0.49338663  0.49338663  0.44897025  0.4022455 ]\n",
      " [ 0.65452727  0.65452727  0.61011088  0.56338614]]\n",
      "[[ 1.          1.1372827   1.0949658   1.05049264]\n",
      " [ 0.37219383  0.50947654  0.46715964  0.42268648]\n",
      " [ 0.49338663  0.63066934  0.58835244  0.54387928]\n",
      " [ 0.65452727  0.79180997  0.74949307  0.70501991]]\n",
      "Data entry shape:  (4,)  \n",
      " Data: [ 1.  1.  1. -1.]\n",
      "Weight shape:  (4, 4)  \n",
      " Data:  [[ 1.          1.1372827   1.0949658   1.05049264]\n",
      " [ 0.37219383  0.50947654  0.46715964  0.42268648]\n",
      " [ 0.49338663  0.63066934  0.58835244  0.54387928]\n",
      " [ 0.65452727  0.79180997  0.74949307  0.70501991]]\n",
      "[[ 1.          1.1372827   1.0949658   1.02927805]\n",
      " [ 0.37219383  0.50947654  0.46715964  0.40147188]\n",
      " [ 0.49338663  0.63066934  0.58835244  0.52266469]\n",
      " [ 0.65452727  0.79180997  0.74949307  0.68380532]]\n",
      "Data entry shape:  (4,)  \n",
      " Data: [ 1. -1.  1.  1.]\n",
      "Weight shape:  (4, 4)  \n",
      " Data:  [[ 1.          1.1372827   1.0949658   1.02927805]\n",
      " [ 0.37219383  0.50947654  0.46715964  0.40147188]\n",
      " [ 0.49338663  0.63066934  0.58835244  0.52266469]\n",
      " [ 0.65452727  0.79180997  0.74949307  0.68380532]]\n",
      "[[ 1.          1.32588035  1.0949658   1.02927805]\n",
      " [ 0.37219383  0.69807418  0.46715964  0.40147188]\n",
      " [ 0.49338663  0.81926698  0.58835244  0.52266469]\n",
      " [ 0.65452727  0.98040762  0.74949307  0.68380532]]\n"
     ]
    }
   ],
   "source": [
    "#print(\"Weights: \\n\",MLP_1.weights)\n",
    "#print(MLP_1.data)\n",
    "#print(MLP_1.weights)\n",
    "#print(MLP_1.data)\n",
    "MLP_1._feed_forward()\n",
    "#print(MLP_1.data)"
   ]
  },
  {
   "cell_type": "code",
   "execution_count": null,
   "metadata": {
    "collapsed": true
   },
   "outputs": [],
   "source": []
  },
  {
   "cell_type": "code",
   "execution_count": null,
   "metadata": {
    "collapsed": true
   },
   "outputs": [],
   "source": []
  }
 ],
 "metadata": {
  "kernelspec": {
   "display_name": "Python 2",
   "language": "python",
   "name": "python2"
  },
  "language_info": {
   "codemirror_mode": {
    "name": "ipython",
    "version": 2
   },
   "file_extension": ".py",
   "mimetype": "text/x-python",
   "name": "python",
   "nbconvert_exporter": "python",
   "pygments_lexer": "ipython2",
   "version": "2.7.9"
  }
 },
 "nbformat": 4,
 "nbformat_minor": 0
}
