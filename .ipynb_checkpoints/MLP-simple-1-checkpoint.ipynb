{
 "cells": [
  {
   "cell_type": "code",
   "execution_count": 1,
   "metadata": {
    "collapsed": true
   },
   "outputs": [],
   "source": [
    "%matplotlib inline\n",
    "\n",
    "from __future__ import absolute_import, print_function, unicode_literals, division\n",
    "from sklearn.datasets import fetch_mldata\n",
    "import matplotlib.pyplot as plt\n",
    "import numpy as np\n",
    "import pandas as pd\n",
    "import itertools\n",
    "import random as rand\n",
    "import copy"
   ]
  },
  {
   "cell_type": "code",
   "execution_count": 2,
   "metadata": {
    "collapsed": true
   },
   "outputs": [],
   "source": [
    "def mat_dbg(x):\n",
    "    print(x.shape, \": \\n\", x)"
   ]
  },
  {
   "cell_type": "code",
   "execution_count": 6,
   "metadata": {
    "collapsed": false
   },
   "outputs": [],
   "source": [
    "class MLP(object):\n",
    "    \"\"\"\n",
    "    NOTE: Matrix operations are modified from RBM file\n",
    "    In particular, we have an an an input of n data points with\n",
    "    dimension d as a d-by-n matrix\n",
    "    \"\"\"\n",
    "    def __init__(self, data, num_hidden, learn_rate):\n",
    "        self.data = data\n",
    "        self.num_data = data.shape[1]\n",
    "        self.num_visible = data.shape[0]\n",
    "        self.num_hidden = num_hidden\n",
    "        self.learn_rate = learn_rate\n",
    "        \n",
    "        self.weights = np.random.rand(self.num_visible, self.num_hidden)\n",
    "        self.weights = np.insert(self.weights, 0, 0, axis = 0)\n",
    "        self.data = np.insert(self.data, 0, 1, axis = 0)\n",
    "    \n",
    "    def _sigmoid(self,x):\n",
    "        return 1.0/(1.0+np.exp(-x))\n",
    "        \n",
    "    def _activated(self):\n",
    "        activated = self._sigmoid(np.dot(self.weights.T,self.data)) \n",
    "        activated = np.sign(activated - 0.5) # -0.5 for logistic sigmoid\n",
    "        for elt in np.nditer(activated,op_flags=['readwrite']):\n",
    "            if elt == 0: \n",
    "                elt[...] = 1\n",
    "        return activated\n",
    "    \n",
    "    def _gradient(self,mat):\n",
    "        w = mat\n",
    "        for elt in np.nditer(w,op_flags=['readwrite']):\n",
    "            elt[...] = elt - elt * elt\n",
    "        return w\n",
    "    \n",
    "    def _feed_forward(self):\n",
    "        grad = self._gradient(self._activated())\n",
    "        a = np.dot(self.learn_rate,grad)\n",
    "        self.weights = np.add(self.weights,a)\n",
    "        \n",
    "    def _prop_backward(self):\n",
    "        return None\n",
    "    \n",
    "    def _calc_error(self):\n",
    "        return None\n",
    "        "
   ]
  },
  {
   "cell_type": "code",
   "execution_count": 10,
   "metadata": {
    "collapsed": false
   },
   "outputs": [
    {
     "name": "stdout",
     "output_type": "stream",
     "text": [
      "(3, 5) : \n",
      " [[-1. -1.  1.  1. -1.]\n",
      " [ 1. -1.  1. -1.  1.]\n",
      " [-1.  1.  1. -1. -1.]]\n",
      "Weights: \n",
      " [[ 0.          0.3979256   0.92557342  0.24865761]]\n",
      "Data: \n",
      " [[ 1.  1.  1.  1.  1.]\n",
      " [-1. -1.  1.  1. -1.]\n",
      " [ 1. -1.  1. -1.  1.]\n",
      " [-1.  1.  1. -1. -1.]]\n",
      "Activated: \n"
     ]
    },
    {
     "data": {
      "text/plain": [
       "array([[ 1., -1.,  1., -1.,  1.]])"
      ]
     },
     "execution_count": 10,
     "metadata": {},
     "output_type": "execute_result"
    }
   ],
   "source": [
    "sample_data = np.sign(1-2*np.random.rand(3,5))\n",
    "mat_dbg(sample_data)\n",
    "MLP_1 = MLP(sample_data,1,0.05)\n",
    "print(\"Weights: \\n\",MLP_1.weights.T)\n",
    "print(\"Data: \\n\",MLP_1.data)\n",
    "print(\"Activated: \")\n",
    "MLP_1._activated()\n"
   ]
  },
  {
   "cell_type": "code",
   "execution_count": 5,
   "metadata": {
    "collapsed": false
   },
   "outputs": [
    {
     "name": "stdout",
     "output_type": "stream",
     "text": [
      "(1, 5) : \n",
      " [[ 1.  1.  1. -1.  1.]]\n",
      "(5, 5) : \n",
      " [[ 1.  1.  1. -1.  1.]\n",
      " [ 1.  1.  1. -1.  1.]\n",
      " [ 1.  1.  1. -1.  1.]\n",
      " [ 1.  1.  1. -1.  1.]\n",
      " [ 1.  1.  1. -1.  1.]]\n"
     ]
    },
    {
     "ename": "ValueError",
     "evalue": "operands could not be broadcast together with shapes (4,5) (5,5) ",
     "output_type": "error",
     "traceback": [
      "\u001b[0;31m---------------------------------------------------------------------------\u001b[0m",
      "\u001b[0;31mValueError\u001b[0m                                Traceback (most recent call last)",
      "\u001b[0;32m<ipython-input-5-5fbafe06e7bf>\u001b[0m in \u001b[0;36m<module>\u001b[0;34m()\u001b[0m\n\u001b[1;32m      2\u001b[0m \u001b[0;31m#MLP_1._gradient(np.array([1,0.5,0.3,0.2]))\u001b[0m\u001b[0;34m\u001b[0m\u001b[0;34m\u001b[0m\u001b[0m\n\u001b[1;32m      3\u001b[0m \u001b[0mMLP_1\u001b[0m\u001b[0;34m.\u001b[0m\u001b[0m_feed_forward\u001b[0m\u001b[0;34m(\u001b[0m\u001b[0;34m)\u001b[0m\u001b[0;34m\u001b[0m\u001b[0m\n\u001b[0;32m----> 4\u001b[0;31m \u001b[0mMLP_1\u001b[0m\u001b[0;34m.\u001b[0m\u001b[0m_feed_forward\u001b[0m\u001b[0;34m(\u001b[0m\u001b[0;34m)\u001b[0m\u001b[0;34m\u001b[0m\u001b[0m\n\u001b[0m\u001b[1;32m      5\u001b[0m \u001b[0mMLP_1\u001b[0m\u001b[0;34m.\u001b[0m\u001b[0mweights\u001b[0m\u001b[0;34m\u001b[0m\u001b[0m\n",
      "\u001b[0;32m<ipython-input-3-15a67c7a19cd>\u001b[0m in \u001b[0;36m_feed_forward\u001b[0;34m(self)\u001b[0m\n\u001b[1;32m     40\u001b[0m         \u001b[0mgrad\u001b[0m \u001b[0;34m=\u001b[0m \u001b[0mself\u001b[0m\u001b[0;34m.\u001b[0m\u001b[0m_gradient\u001b[0m\u001b[0;34m(\u001b[0m\u001b[0mself\u001b[0m\u001b[0;34m.\u001b[0m\u001b[0m_activated\u001b[0m\u001b[0;34m(\u001b[0m\u001b[0;34m)\u001b[0m\u001b[0;34m)\u001b[0m\u001b[0;34m\u001b[0m\u001b[0m\n\u001b[1;32m     41\u001b[0m         \u001b[0ma\u001b[0m \u001b[0;34m=\u001b[0m \u001b[0mnp\u001b[0m\u001b[0;34m.\u001b[0m\u001b[0mdot\u001b[0m\u001b[0;34m(\u001b[0m\u001b[0mself\u001b[0m\u001b[0;34m.\u001b[0m\u001b[0mlearn_rate\u001b[0m\u001b[0;34m,\u001b[0m\u001b[0mgrad\u001b[0m\u001b[0;34m)\u001b[0m\u001b[0;34m\u001b[0m\u001b[0m\n\u001b[0;32m---> 42\u001b[0;31m         \u001b[0mself\u001b[0m\u001b[0;34m.\u001b[0m\u001b[0mweights\u001b[0m \u001b[0;34m=\u001b[0m \u001b[0mnp\u001b[0m\u001b[0;34m.\u001b[0m\u001b[0madd\u001b[0m\u001b[0;34m(\u001b[0m\u001b[0mself\u001b[0m\u001b[0;34m.\u001b[0m\u001b[0mweights\u001b[0m\u001b[0;34m,\u001b[0m\u001b[0ma\u001b[0m\u001b[0;34m)\u001b[0m\u001b[0;34m\u001b[0m\u001b[0m\n\u001b[0m\u001b[1;32m     43\u001b[0m \u001b[0;34m\u001b[0m\u001b[0m\n\u001b[1;32m     44\u001b[0m     \u001b[0;32mdef\u001b[0m \u001b[0m_prop_backward\u001b[0m\u001b[0;34m(\u001b[0m\u001b[0mself\u001b[0m\u001b[0;34m)\u001b[0m\u001b[0;34m:\u001b[0m\u001b[0;34m\u001b[0m\u001b[0m\n",
      "\u001b[0;31mValueError\u001b[0m: operands could not be broadcast together with shapes (4,5) (5,5) "
     ]
    }
   ],
   "source": [
    "#MLP_1.data\n",
    "#MLP_1._gradient(np.array([1,0.5,0.3,0.2]))\n",
    "MLP_1._feed_forward()\n",
    "MLP_1._feed_forward()\n",
    "MLP_1.weights"
   ]
  },
  {
   "cell_type": "code",
   "execution_count": null,
   "metadata": {
    "collapsed": true
   },
   "outputs": [],
   "source": []
  },
  {
   "cell_type": "code",
   "execution_count": null,
   "metadata": {
    "collapsed": true
   },
   "outputs": [],
   "source": []
  }
 ],
 "metadata": {
  "kernelspec": {
   "display_name": "Python 2",
   "language": "python",
   "name": "python2"
  },
  "language_info": {
   "codemirror_mode": {
    "name": "ipython",
    "version": 2
   },
   "file_extension": ".py",
   "mimetype": "text/x-python",
   "name": "python",
   "nbconvert_exporter": "python",
   "pygments_lexer": "ipython2",
   "version": "2.7.9"
  }
 },
 "nbformat": 4,
 "nbformat_minor": 0
}
