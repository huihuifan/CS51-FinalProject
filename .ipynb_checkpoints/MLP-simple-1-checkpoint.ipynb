{
 "cells": [
  {
   "cell_type": "code",
   "execution_count": 1,
   "metadata": {
    "collapsed": true
   },
   "outputs": [],
   "source": [
    "%matplotlib inline\n",
    "\n",
    "from __future__ import absolute_import, print_function, unicode_literals, division\n",
    "from sklearn.datasets import fetch_mldata\n",
    "import matplotlib.pyplot as plt\n",
    "import numpy as np\n",
    "import pandas as pd\n",
    "import itertools\n",
    "import random as rand\n",
    "import copy"
   ]
  },
  {
   "cell_type": "code",
   "execution_count": 2,
   "metadata": {
    "collapsed": true
   },
   "outputs": [],
   "source": [
    "def mat_dbg(x):\n",
    "    print(x.shape, \": \\n\", x)"
   ]
  },
  {
   "cell_type": "code",
   "execution_count": 160,
   "metadata": {
    "collapsed": false
   },
   "outputs": [],
   "source": [
    "class MLP(object):\n",
    "    \"\"\"\n",
    "    NOTE: Matrix operations are modified from RBM file\n",
    "    In particular, we have an an an input of n data points with\n",
    "    dimension d as a d-by-n matrix\n",
    "    \"\"\"\n",
    "    def __init__(self, data, num_hidden, learn_rate):\n",
    "        self.data = data\n",
    "        self.num_data = data.shape[1]\n",
    "        self.num_visible = data.shape[0]\n",
    "        self.num_hidden = num_hidden\n",
    "        self.learn_rate = learn_rate\n",
    "        \n",
    "        self.weights = np.random.rand(self.num_visible, self.num_hidden)\n",
    "        self.weights = np.insert(self.weights, 0, 0, axis = 0)\n",
    "        self.data = np.insert(self.data, 0, 1, axis = 0)\n",
    "        \n",
    "        #mat_dbg(self.weights.T)\n",
    "        #mat_dbg(self.data)\n",
    "    \n",
    "    def _sigmoid(self,x):\n",
    "        return 1.0/(1.0+np.exp(-x))\n",
    "        \n",
    "    def _activated(self):\n",
    "        activated = self._sigmoid(np.dot(self.weights.T,self.data)) \n",
    "        mat_dbg(activated)\n",
    "        activated = np.sign(activated - 0.5)\n",
    "        for elt in np.nditer(activated,op_flags=['readwrite']):\n",
    "            if elt == 0: \n",
    "                elt[...] = 1\n",
    "        return activated\n",
    "    \n",
    "    def _feed_forward(self):\n",
    "        error = self.weights.T - self._activated()\n",
    "        prods = np.dot(error.T,self._activated())\n",
    "        delta = np.dot(self.learn_rate,prods)\n",
    "        print(\"Feed forward outputs. \")\n",
    "        mat_dbg(error)\n",
    "        mat_dbg(prods)\n",
    "        mat_dbg(self._activated())\n",
    "        return delta\n",
    "        \n",
    "    def _prop_backward(self):\n",
    "        return None\n",
    "    \n",
    "    def _calc_error(self):\n",
    "        return None\n",
    "        "
   ]
  },
  {
   "cell_type": "code",
   "execution_count": 165,
   "metadata": {
    "collapsed": false
   },
   "outputs": [
    {
     "name": "stdout",
     "output_type": "stream",
     "text": [
      "(3, 4) : \n",
      " [[-1.  1. -1. -1.]\n",
      " [ 1. -1. -1. -1.]\n",
      " [-1.  1.  1. -1.]]\n",
      "[[ 0.          0.45627034  0.08831604  0.25241668]\n",
      " [ 0.          0.13669429  0.64497069  0.97419815]]\n",
      "(2, 4) : \n",
      " [[ 0.34969708  0.65030292  0.42747277  0.31066696]\n",
      " [ 0.38558196  0.61441804  0.54798515  0.14730921]]\n",
      "(2, 4) : \n",
      " [[ 0.34969708  0.65030292  0.42747277  0.31066696]\n",
      " [ 0.38558196  0.61441804  0.54798515  0.14730921]]\n",
      "Feed forward outputs. \n",
      "(2, 4) : \n",
      " [[ 1.         -0.54372966  1.08831604  1.25241668]\n",
      " [ 1.         -0.86330571 -0.35502931  1.97419815]]\n",
      "(4, 4) : \n",
      " [[-2.          2.          0.         -2.        ]\n",
      " [ 1.40703537 -1.40703537 -0.31957604  1.40703537]\n",
      " [-0.73328673  0.73328673 -1.44334536 -0.73328673]\n",
      " [-3.22661483  3.22661483  0.72178147 -3.22661483]]\n",
      "(2, 4) : \n",
      " [[ 0.34969708  0.65030292  0.42747277  0.31066696]\n",
      " [ 0.38558196  0.61441804  0.54798515  0.14730921]]\n",
      "(2, 4) : \n",
      " [[-1.  1. -1. -1.]\n",
      " [-1.  1.  1. -1.]]\n",
      "[[ 0.          0.45627034  0.08831604  0.25241668]\n",
      " [ 0.          0.13669429  0.64497069  0.97419815]]\n"
     ]
    }
   ],
   "source": [
    "sample_data = np.sign(1-2*np.random.rand(3,4))\n",
    "mat_dbg(sample_data)\n",
    "MLP_1 = MLP(sample_data,2,0.05)\n",
    "print(MLP_1.weights.T)\n",
    "#MLP_1._activated()\n",
    "MLP_1._feed_forward()\n",
    "print(MLP_1.weights.T)"
   ]
  },
  {
   "cell_type": "code",
   "execution_count": 166,
   "metadata": {
    "collapsed": false
   },
   "outputs": [
    {
     "name": "stdout",
     "output_type": "stream",
     "text": [
      "[[ 0.          0.45627034  0.08831604  0.25241668]\n",
      " [ 0.          0.13669429  0.64497069  0.97419815]]\n"
     ]
    }
   ],
   "source": [
    "print(MLP_1.weights.T)"
   ]
  },
  {
   "cell_type": "code",
   "execution_count": null,
   "metadata": {
    "collapsed": true
   },
   "outputs": [],
   "source": []
  },
  {
   "cell_type": "code",
   "execution_count": null,
   "metadata": {
    "collapsed": true
   },
   "outputs": [],
   "source": []
  }
 ],
 "metadata": {
  "kernelspec": {
   "display_name": "Python 2",
   "language": "python",
   "name": "python2"
  },
  "language_info": {
   "codemirror_mode": {
    "name": "ipython",
    "version": 2
   },
   "file_extension": ".py",
   "mimetype": "text/x-python",
   "name": "python",
   "nbconvert_exporter": "python",
   "pygments_lexer": "ipython2",
   "version": "2.7.9"
  }
 },
 "nbformat": 4,
 "nbformat_minor": 0
}
