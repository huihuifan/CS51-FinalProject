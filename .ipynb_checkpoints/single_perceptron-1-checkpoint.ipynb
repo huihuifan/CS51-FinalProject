{
 "cells": [
  {
   "cell_type": "code",
   "execution_count": 3,
   "metadata": {
    "collapsed": true
   },
   "outputs": [],
   "source": [
    "%matplotlib inline\n",
    "\n",
    "from __future__ import absolute_import, print_function, unicode_literals, division\n",
    "from sklearn.datasets import fetch_mldata\n",
    "import matplotlib.pyplot as plt\n",
    "import numpy as np\n",
    "import pandas as pd\n",
    "import itertools\n",
    "import random as rand\n",
    "import copy"
   ]
  },
  {
   "cell_type": "code",
   "execution_count": 4,
   "metadata": {
    "collapsed": true
   },
   "outputs": [],
   "source": [
    "def mat_dbg(x):\n",
    "    print(x.shape, \": \\n\", x)"
   ]
  },
  {
   "cell_type": "code",
   "execution_count": 38,
   "metadata": {
    "collapsed": false
   },
   "outputs": [],
   "source": [
    "class MLP(object):\n",
    "    \"\"\"\n",
    "    NOTE: Matrix operations are modified from RBM file\n",
    "    In particular, we have an an an input of n data points with\n",
    "    dimension d as a d-by-n matrix\n",
    "    \"\"\"\n",
    "    def __init__(self, data, num_hidden, learn_rate):\n",
    "        # First row are the target values\n",
    "        self.targets = data[0]\n",
    "        self.data = data[1:,:]\n",
    "        self.num_data = data.shape[1]\n",
    "        self.num_visible = data.shape[0] - 1\n",
    "        self.num_hidden = num_hidden\n",
    "        self.learn_rate = learn_rate\n",
    "        self.state_size = 2 * (np.amax(self.targets) - np.amin(self.targets)) + 4\n",
    "\n",
    "        self.weights = 2 * np.random.rand(self.num_visible + 1, self.num_hidden) - 1\n",
    "        self.data = np.insert(self.data, 0, 1, axis = 0)\n",
    "    \n",
    "    def _sigmoid(self,x):\n",
    "        return 1.0/(1.0+np.exp(-x))\n",
    "        \n",
    "    def _activated(self,mat):\n",
    "        activated = self._sigmoid(np.dot(self.weights.T,mat))\n",
    "        return activated\n",
    "    \n",
    "    def _gradient(self,mat):\n",
    "        w = copy.deepcopy(mat)\n",
    "        for elt in np.nditer(w,op_flags=['readwrite']):\n",
    "            elt[...] = elt - elt * elt\n",
    "        return w\n",
    "    \n",
    "    def train(self):\n",
    "        data_copy = copy.deepcopy(self.data)\n",
    "        for i in range(0,self.num_data):\n",
    "            \n",
    "            \"\"\"Feed-forward phase\"\"\"\n",
    "            data_col = data_copy[:,i]\n",
    "            data_col = np.reshape(data_col, (-1, 1))\n",
    "            \n",
    "            activated_output = (self._activated(data_col))[0]\n",
    "            guess = self.state_size * (2 * activated_output - 1)\n",
    "            \n",
    "            \"\"\"Error calculation phase\"\"\"\n",
    "            error = self.targets[i] - guess\n",
    "            \n",
    "            \"\"\"Back-propagation phase\"\"\"\n",
    "            grad = (self._gradient(activated_output))[0]\n",
    "            \n",
    "            c = (error * self.learn_rate)[0]\n",
    "            wt_change = c * grad * data_col\n",
    "            \n",
    "            self.weights = wt_change + self.weights\n",
    "    \n",
    "    def pred(self, test):\n",
    "        test_copy = copy.deepcopy(test)\n",
    "        test_copy = np.insert(test_copy, 0, 1, axis = 0)\n",
    "        pred_p = self._activated(test_copy)\n",
    "        pred = 2 * pred_p - 1\n",
    "        pred = self.state_size * pred\n",
    "        return pred\n"
   ]
  },
  {
   "cell_type": "code",
   "execution_count": 46,
   "metadata": {
    "collapsed": false
   },
   "outputs": [
    {
     "name": "stdout",
     "output_type": "stream",
     "text": [
      "(20, 6000) : \n",
      " [[ 3. -5. -5. ...,  3.  5. -5.]\n",
      " [ 1. -1. -1. ...,  1.  1. -1.]\n",
      " [-1. -1. -1. ..., -1.  1. -1.]\n",
      " ..., \n",
      " [-1.  1.  1. ..., -1. -1. -1.]\n",
      " [-1.  1.  1. ..., -1. -1. -1.]\n",
      " [-1.  1. -1. ...,  1.  1. -1.]]\n",
      "Weights^T: \n",
      " [[ 0.69799927  0.02570457 -0.33940486  0.90193583 -0.94722321 -0.16368074\n",
      "   0.69105469  0.12277772 -0.06033179  0.77215886  0.30273275  0.46919501\n",
      "  -0.06880732  0.76447629 -0.24444874 -0.85387114  0.8977421   0.0881037\n",
      "  -0.99559411 -0.36450032]]\n",
      "Targets: \n",
      "[ 3. -5. -5. ...,  3.  5. -5.]\n",
      "Data sample: \n",
      " [[ 1. -1. -1. ...,  1.  1. -1.]\n",
      " [-1. -1. -1. ..., -1.  1. -1.]\n",
      " [ 1.  1.  1. ..., -1. -1.  1.]\n",
      " [-1. -1.  1. ..., -1. -1. -1.]]\n"
     ]
    }
   ],
   "source": [
    "# See www.cse.unsw.edu.au/~cs9417ml/MLP2/\n",
    "# https://www.hiit.fi/u/ahonkela/dippa/node41.html\n",
    "dims = 20\n",
    "data_pts = 300 * dims\n",
    "sample_data = np.sign(2*np.random.rand(dims,data_pts)-1)\n",
    "sample_data[0] = (4 * sample_data[1] + 1 * sample_data[2]) \n",
    "# Need to write binary target values for data as well for MLP\n",
    "mat_dbg(sample_data)\n",
    "MLP_1 = MLP(sample_data,1,0.01) #0.035 threshold\n",
    "print(\"Weights^T: \\n\",MLP_1.weights.T)\n",
    "print(\"Targets: \")\n",
    "print(MLP_1.targets)\n",
    "print(\"Data sample: \\n\",MLP_1.data[1:5])"
   ]
  },
  {
   "cell_type": "code",
   "execution_count": 47,
   "metadata": {
    "collapsed": false
   },
   "outputs": [
    {
     "name": "stdout",
     "output_type": "stream",
     "text": [
      "Weights: \n",
      " [[  3.71535847e-17]\n",
      " [  3.37085640e-01]\n",
      " [  8.57712113e-02]\n",
      " [ -8.87422853e-18]\n",
      " [ -1.00805845e-17]\n",
      " [  7.38412843e-19]\n",
      " [  6.39151660e-17]\n",
      " [ -5.70512293e-18]\n",
      " [  1.20977258e-17]\n",
      " [  1.48671348e-17]\n",
      " [ -4.97181316e-17]\n",
      " [ -1.07513512e-17]\n",
      " [  1.90279879e-17]\n",
      " [  4.62550061e-18]\n",
      " [ -2.49062913e-17]\n",
      " [ -5.80445582e-19]\n",
      " [  9.78984241e-18]\n",
      " [ -2.06795823e-17]\n",
      " [  3.50754853e-18]\n",
      " [  3.82445379e-17]]\n",
      "Targets: \n",
      " [ 3. -5. -5. ...,  3.  5. -5.]\n"
     ]
    }
   ],
   "source": [
    "iterations = 2\n",
    "for i in range(0,iterations):\n",
    "    MLP_1.train()\n",
    "#MLP_1._feed_forward()\n",
    "print(\"Weights: \\n\", MLP_1.weights)\n",
    "print(\"Targets: \\n\", MLP_1.targets)"
   ]
  },
  {
   "cell_type": "code",
   "execution_count": 48,
   "metadata": {
    "collapsed": false
   },
   "outputs": [
    {
     "name": "stdout",
     "output_type": "stream",
     "text": [
      "[[ 1. -1.  1. -1.  1.  1.  1. -1.  1. -1.]\n",
      " [ 1. -1.  1.  1.  1. -1. -1.  1. -1. -1.]\n",
      " [ 1.  1. -1. -1. -1.  1. -1.  1. -1. -1.]\n",
      " [-1.  1. -1.  1.  1.  1. -1.  1.  1. -1.]\n",
      " [ 1.  1. -1.  1.  1.  1.  1.  1. -1. -1.]\n",
      " [-1.  1.  1.  1.  1.  1. -1.  1. -1. -1.]\n",
      " [-1. -1. -1. -1.  1. -1. -1. -1.  1. -1.]\n",
      " [-1. -1.  1. -1. -1. -1. -1.  1.  1. -1.]\n",
      " [ 1. -1.  1.  1. -1. -1. -1. -1.  1.  1.]\n",
      " [-1. -1.  1. -1.  1.  1.  1.  1. -1. -1.]\n",
      " [-1. -1. -1. -1.  1.  1.  1. -1. -1. -1.]\n",
      " [ 1.  1.  1.  1. -1.  1. -1. -1. -1. -1.]\n",
      " [-1. -1. -1. -1. -1. -1. -1. -1.  1. -1.]\n",
      " [ 1.  1.  1. -1. -1. -1.  1.  1. -1.  1.]\n",
      " [ 1. -1. -1. -1. -1.  1. -1. -1.  1.  1.]\n",
      " [-1.  1. -1. -1.  1. -1.  1.  1. -1.  1.]\n",
      " [ 1.  1.  1.  1.  1. -1.  1.  1.  1. -1.]\n",
      " [ 1. -1. -1.  1.  1.  1. -1. -1.  1.  1.]\n",
      " [-1. -1.  1.  1. -1.  1. -1. -1. -1.  1.]]\n",
      "targets:  [ 5. -5.  5. -3.  5.  3.  3. -3.  3. -5.]\n",
      "Shape: (1, 10)\n",
      "Guesses: \n",
      " [[ 5. -5.  5. -3.  5.  3.  3. -3.  3. -5.]]\n"
     ]
    }
   ],
   "source": [
    "dims = 19\n",
    "test_pts = 10\n",
    "test_data = np.sign(2*np.random.rand(dims,test_pts)-1)\n",
    "print(test_data)\n",
    "print(\"targets: \", 4 * test_data[0] + 1 * test_data[1])\n",
    "guesses = MLP_1.pred(test_data)\n",
    "print(\"Shape:\",np.shape(a))\n",
    "print(\"Guesses: \\n\", guesses)"
   ]
  },
  {
   "cell_type": "code",
   "execution_count": null,
   "metadata": {
    "collapsed": true
   },
   "outputs": [],
   "source": []
  },
  {
   "cell_type": "code",
   "execution_count": null,
   "metadata": {
    "collapsed": true
   },
   "outputs": [],
   "source": []
  }
 ],
 "metadata": {
  "kernelspec": {
   "display_name": "Python 2",
   "language": "python",
   "name": "python2"
  },
  "language_info": {
   "codemirror_mode": {
    "name": "ipython",
    "version": 2
   },
   "file_extension": ".py",
   "mimetype": "text/x-python",
   "name": "python",
   "nbconvert_exporter": "python",
   "pygments_lexer": "ipython2",
   "version": "2.7.9"
  }
 },
 "nbformat": 4,
 "nbformat_minor": 0
}
