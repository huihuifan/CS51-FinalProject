{
 "cells": [
  {
   "cell_type": "code",
   "execution_count": 1,
   "metadata": {
    "collapsed": true
   },
   "outputs": [],
   "source": [
    "%matplotlib inline\n",
    "\n",
    "from __future__ import absolute_import, print_function, unicode_literals, division\n",
    "from sklearn.datasets import fetch_mldata\n",
    "import matplotlib.pyplot as plt\n",
    "import numpy as np\n",
    "import pandas as pd\n",
    "import itertools\n",
    "import random as rand\n",
    "import copy"
   ]
  },
  {
   "cell_type": "code",
   "execution_count": 2,
   "metadata": {
    "collapsed": true
   },
   "outputs": [],
   "source": [
    "def mat_dbg(x):\n",
    "    print(x.shape, \": \\n\", x)"
   ]
  },
  {
   "cell_type": "code",
   "execution_count": 94,
   "metadata": {
    "collapsed": false
   },
   "outputs": [],
   "source": [
    "class MLP(object):\n",
    "    \"\"\"\n",
    "    NOTE: Matrix operations are modified from RBM file\n",
    "    In particular, we have an an an input of n data points with\n",
    "    dimension d as a d-by-n matrix\n",
    "    \"\"\"\n",
    "    def __init__(self, data, num_hidden, learn_rate):\n",
    "        self.data = data\n",
    "        self.num_data = data.shape[1]\n",
    "        self.num_visible = data.shape[0]\n",
    "        self.num_hidden = num_hidden\n",
    "        self.learn_rate = learn_rate\n",
    "        \n",
    "        self.weights = np.random.rand(self.num_visible, self.num_hidden)\n",
    "        self.weights = np.insert(self.weights, 0, 0, axis = 0)\n",
    "        self.data = np.insert(self.data, 0, 1, axis = 0)\n",
    "        \n",
    "        #mat_dbg(self.weights.T)\n",
    "        #mat_dbg(self.data)\n",
    "    \n",
    "    def _sigmoid(self,x):\n",
    "        return 1.0/(1.0+np.exp(-x))\n",
    "        \n",
    "    def _activate_fun(self):\n",
    "        activated = self._sigmoid(np.dot(self.weights.T,self.data)) \n",
    "        activated = np.sign(activated - 0.5)\n",
    "        for elt in np.nditer(activated,op_flags=['readwrite']):\n",
    "            if elt == 0:\n",
    "                elt[...] = 1\n",
    "        return activated\n",
    "    \n",
    "    def _prop_forward(self):\n",
    "        return None\n",
    "        \n",
    "    def _prop_backward(self):\n",
    "        return None\n",
    "    \n",
    "    def _calc_error(self):\n",
    "        return None\n",
    "        "
   ]
  },
  {
   "cell_type": "code",
   "execution_count": 95,
   "metadata": {
    "collapsed": false
   },
   "outputs": [
    {
     "name": "stdout",
     "output_type": "stream",
     "text": [
      "(3, 4) : \n",
      " [[ 0.51790095  0.32054292 -0.48104622  0.48161559]\n",
      " [-0.28239893  0.65450862  0.80899291 -0.57484962]\n",
      " [-0.59582509 -0.23546264 -0.78700595 -0.09211934]]\n"
     ]
    },
    {
     "data": {
      "text/plain": [
       "array([[-1.,  1., -1., -1.],\n",
       "       [ 1.,  1., -1., -1.]])"
      ]
     },
     "execution_count": 95,
     "metadata": {},
     "output_type": "execute_result"
    }
   ],
   "source": [
    "sample_data = 1-2*np.random.rand(3,4)\n",
    "mat_dbg(sample_data)\n",
    "MLP_1 = MLP(sample_data,2,0.1)\n",
    "MLP_1._activate_fun()"
   ]
  },
  {
   "cell_type": "code",
   "execution_count": null,
   "metadata": {
    "collapsed": true
   },
   "outputs": [],
   "source": []
  }
 ],
 "metadata": {
  "kernelspec": {
   "display_name": "Python 2",
   "language": "python",
   "name": "python2"
  },
  "language_info": {
   "codemirror_mode": {
    "name": "ipython",
    "version": 2
   },
   "file_extension": ".py",
   "mimetype": "text/x-python",
   "name": "python",
   "nbconvert_exporter": "python",
   "pygments_lexer": "ipython2",
   "version": "2.7.9"
  }
 },
 "nbformat": 4,
 "nbformat_minor": 0
}
