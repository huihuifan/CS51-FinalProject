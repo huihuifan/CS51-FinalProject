{
 "cells": [
  {
   "cell_type": "code",
   "execution_count": 330,
   "metadata": {
    "collapsed": true
   },
   "outputs": [],
   "source": [
    "%matplotlib inline\n",
    "\n",
    "from __future__ import absolute_import, print_function, unicode_literals, division\n",
    "from sklearn.datasets import fetch_mldata\n",
    "import matplotlib.pyplot as plt\n",
    "import numpy as np\n",
    "import pandas as pd\n",
    "import itertools\n",
    "import random as rand\n",
    "import copy"
   ]
  },
  {
   "cell_type": "code",
   "execution_count": 331,
   "metadata": {
    "collapsed": true
   },
   "outputs": [],
   "source": [
    "def mat_dbg(x):\n",
    "    print(x.shape, \": \\n\", x)"
   ]
  },
  {
   "cell_type": "code",
   "execution_count": 332,
   "metadata": {
    "collapsed": false
   },
   "outputs": [],
   "source": [
    "class MLP(object):\n",
    "    \"\"\"\n",
    "    NOTE: Matrix operations are modified from RBM file\n",
    "    In particular, we have an an an input of n data points with\n",
    "    dimension d as a d-by-n matrix\n",
    "    \"\"\"\n",
    "    def __init__(self, data, num_hidden, learn_rate):\n",
    "        self.data = data\n",
    "        self.num_data = data.shape[1]\n",
    "        self.num_visible = data.shape[0]\n",
    "        self.num_hidden = num_hidden\n",
    "        self.learn_rate = learn_rate\n",
    "        \n",
    "        self.weights = np.random.rand(self.num_visible, self.num_hidden)\n",
    "\n",
    "        self.weights = np.insert(self.weights, 0, 0, axis = 0)\n",
    "        self.data = np.insert(self.data, 0, 1, axis = 0)\n",
    "        mat_dbg(self.weights.T)\n",
    "        mat_dbg(self.data)\n",
    "    \n",
    "    def _sigmoid(self,x):\n",
    "        return 1.0/(1.0+np.exp(-x))\n",
    "        \n",
    "    def _activate_fun(self):\n",
    "        activated = self._sigmoid(np.dot(self.weights.T,self.data))\n",
    "        return activated\n",
    "    \n",
    "    def _prop_forward(self):\n",
    "        return None\n",
    "        \n",
    "    def _prop_backward(self):\n",
    "        return None\n",
    "    \n",
    "    def _calc_error(self):\n",
    "        return None\n",
    "        "
   ]
  },
  {
   "cell_type": "code",
   "execution_count": 334,
   "metadata": {
    "collapsed": false
   },
   "outputs": [
    {
     "name": "stdout",
     "output_type": "stream",
     "text": [
      "(3, 30) : \n",
      " [[-0.10021808  0.68375508  0.093044   -0.94547326 -0.50991838  0.31029402\n",
      "  -0.29932993  0.69261303 -0.33037587 -0.88172264 -0.8723054  -0.59444307\n",
      "   0.31561016  0.64189384  0.08355821  0.37375279 -0.35161464 -0.93311498\n",
      "   0.9934432   0.23255012 -0.91187317  0.19208534 -0.38828815  0.77483485\n",
      "  -0.36996978  0.96043636  0.47384823 -0.81167012 -0.31583744  0.76157598]\n",
      " [-0.81289569 -0.49230762  0.86035538  0.59643541 -0.54536456 -0.18539828\n",
      "  -0.29619237  0.19758959 -0.30642483 -0.21968083 -0.13954674 -0.70069534\n",
      "   0.26501523  0.7671882  -0.35158972 -0.51681523  0.51807683  0.8783893\n",
      "  -0.82757524  0.89589882 -0.9738402   0.63570933 -0.93082811 -0.99774118\n",
      "  -0.89282388  0.93911419 -0.32413566  0.04295505  0.79406875 -0.8287112 ]\n",
      " [ 0.87982738 -0.041043   -0.28111505 -0.15975513  0.95861828  0.56645046\n",
      "  -0.6696716   0.70072772  0.23447833  0.30876492  0.04590597  0.10343455\n",
      "  -0.42630713  0.56305322  0.10286928 -0.53247616 -0.32021565 -0.34431631\n",
      "  -0.05760537 -0.00398981 -0.46888434  0.67852206  0.07679609  0.09493846\n",
      "  -0.34239591 -0.81024764  0.82542799 -0.88416099 -0.23207149 -0.275237  ]]\n",
      "(2, 4) : \n",
      " [[ 0.          0.65828311  0.07398664  0.6983737 ]\n",
      " [ 0.          0.54374184  0.91049701  0.02784021]]\n",
      "(4, 30) : \n",
      " [[ 1.          1.          1.          1.          1.          1.          1.\n",
      "   1.          1.          1.          1.          1.          1.          1.\n",
      "   1.          1.          1.          1.          1.          1.          1.\n",
      "   1.          1.          1.          1.          1.          1.          1.\n",
      "   1.          1.        ]\n",
      " [-0.10021808  0.68375508  0.093044   -0.94547326 -0.50991838  0.31029402\n",
      "  -0.29932993  0.69261303 -0.33037587 -0.88172264 -0.8723054  -0.59444307\n",
      "   0.31561016  0.64189384  0.08355821  0.37375279 -0.35161464 -0.93311498\n",
      "   0.9934432   0.23255012 -0.91187317  0.19208534 -0.38828815  0.77483485\n",
      "  -0.36996978  0.96043636  0.47384823 -0.81167012 -0.31583744  0.76157598]\n",
      " [-0.81289569 -0.49230762  0.86035538  0.59643541 -0.54536456 -0.18539828\n",
      "  -0.29619237  0.19758959 -0.30642483 -0.21968083 -0.13954674 -0.70069534\n",
      "   0.26501523  0.7671882  -0.35158972 -0.51681523  0.51807683  0.8783893\n",
      "  -0.82757524  0.89589882 -0.9738402   0.63570933 -0.93082811 -0.99774118\n",
      "  -0.89282388  0.93911419 -0.32413566  0.04295505  0.79406875 -0.8287112 ]\n",
      " [ 0.87982738 -0.041043   -0.28111505 -0.15975513  0.95861828  0.56645046\n",
      "  -0.6696716   0.70072772  0.23447833  0.30876492  0.04590597  0.10343455\n",
      "  -0.42630713  0.56305322  0.10286928 -0.53247616 -0.32021565 -0.34431631\n",
      "  -0.05760537 -0.00398981 -0.46888434  0.67852206  0.07679609  0.09493846\n",
      "  -0.34239591 -0.81024764  0.82542799 -0.88416099 -0.23207149 -0.275237  ]]\n"
     ]
    },
    {
     "data": {
      "text/plain": [
       "array([[ 0.61971366,  0.59508254,  0.48215277,  0.33407098,  0.57284138,\n",
       "         0.64247863,  0.33478113,  0.72310664,  0.48090961,  0.4058753 ,\n",
       "         0.36528714,  0.40831923,  0.48241893,  0.7052721 ,  0.52518697,\n",
       "         0.45907436,  0.39729198,  0.31222746,  0.6347171 ,  0.55393483,\n",
       "         0.268985  ,  0.65641135,  0.43270089,  0.62305692,  0.36616092,\n",
       "         0.53391417,  0.70357949,  0.2407439 ,  0.4228139 ,  0.56163512],\n",
       "       [ 0.31644941,  0.48060948,  0.69553318,  0.50612761,  0.32144728,\n",
       "         0.50392126,  0.389103  ,  0.64015013,  0.38885918,  0.33830606,\n",
       "         0.35432361,  0.2772137 ,  0.59893691,  0.74330591,  0.43245951,\n",
       "         0.42992481,  0.56748687,  0.57023533,  0.44647293,  0.71951343,\n",
       "         0.19852225,  0.6686635 ,  0.25797759,  0.38119312,  0.26432406,\n",
       "         0.79490228,  0.49637672,  0.39488026,  0.63292884,  0.413843  ]])"
      ]
     },
     "execution_count": 334,
     "metadata": {},
     "output_type": "execute_result"
    }
   ],
   "source": [
    "sample_data = 1-2*np.random.rand(3,30)\n",
    "matrix_debug(sample_data)\n",
    "MLP_1 = MLP(sample_data,2,0.1)\n",
    "MLP_1._activate_fun()"
   ]
  },
  {
   "cell_type": "code",
   "execution_count": null,
   "metadata": {
    "collapsed": true
   },
   "outputs": [],
   "source": []
  },
  {
   "cell_type": "code",
   "execution_count": null,
   "metadata": {
    "collapsed": true
   },
   "outputs": [],
   "source": []
  }
 ],
 "metadata": {
  "kernelspec": {
   "display_name": "Python 2",
   "language": "python",
   "name": "python2"
  },
  "language_info": {
   "codemirror_mode": {
    "name": "ipython",
    "version": 2
   },
   "file_extension": ".py",
   "mimetype": "text/x-python",
   "name": "python",
   "nbconvert_exporter": "python",
   "pygments_lexer": "ipython2",
   "version": "2.7.9"
  }
 },
 "nbformat": 4,
 "nbformat_minor": 0
}
