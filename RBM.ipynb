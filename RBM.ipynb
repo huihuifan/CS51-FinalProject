{
 "metadata": {
  "name": "",
  "signature": "sha256:69aa20f26fe7542a6781fc18bd0dccf3803c7c303ea2469bf34bb4ea340092b3"
 },
 "nbformat": 3,
 "nbformat_minor": 0,
 "worksheets": [
  {
   "cells": [
    {
     "cell_type": "code",
     "collapsed": false,
     "input": [
      "%matplotlib inline\n",
      "\n",
      "from __future__ import absolute_import, print_function, unicode_literals, division\n",
      "from sklearn.datasets import fetch_mldata\n",
      "import matplotlib.pyplot as plt\n",
      "import numpy as np\n",
      "import pandas as pd\n",
      "import itertools\n",
      "import random as rand"
     ],
     "language": "python",
     "metadata": {},
     "outputs": [],
     "prompt_number": 8
    },
    {
     "cell_type": "code",
     "collapsed": false,
     "input": [
      "\"\"\" \n",
      "alice = {\"Interstellar\":1, \"Whiplash\":1, \"Selma\":0, \"Lego Movie\":0, \"Birdman\":0}\n",
      "eric = {\"Interstellar\":0, \"Whiplash\":0, \"Selma\":0, \"Lego Movie\":1, \"Birdman\":0}\n",
      "nancy = {\"Interstellar\":1, \"Whiplash\":1, \"Selma\":1, \"Lego Movie\":0, \"Birdman\":1}\n",
      "sarah = {\"Interstellar\":0, \"Whiplash\":1, \"Selma\":0, \"Lego Movie\":0, \"Birdman\":1}\n",
      "mike = {\"Interstellar\":1, \"Whiplash\":1, \"Selma\":1, \"Lego Movie\":1, \"Birdman\":1}\n",
      "\n",
      "data = {\"alice\":alice, \"eric\":eric, \"nancy\":nancy, \"sarah\":sarah, \"mike\":mike}\n",
      "\"\"\"\n",
      "\n",
      "DATA_PATH = '~/data'\n",
      "mnist = fetch_mldata('MNIST original', data_home=DATA_PATH)\n",
      "print(mnist.data.shape)"
     ],
     "language": "python",
     "metadata": {},
     "outputs": [
      {
       "metadata": {},
       "output_type": "pyout",
       "prompt_number": 12,
       "text": [
        "u\"\\nDATA_PATH = '~/data'\\nmnist = fetch_mldata('MNIST original', data_home=DATA_PATH)\\nprint(mnist.data.shape)\\n\""
       ]
      }
     ],
     "prompt_number": 12
    },
    {
     "cell_type": "code",
     "collapsed": false,
     "input": [
      "#data = pd.DataFrame.from_dict(data)"
     ],
     "language": "python",
     "metadata": {},
     "outputs": [],
     "prompt_number": 9
    },
    {
     "cell_type": "code",
     "collapsed": false,
     "input": [
      "data_array = mnist.data[:100]\n",
      "print(data_array[0])\n",
      "print(data_array.shape)\n",
      "\"\"\"\n",
      "data_array = np.array(data)\n",
      "print(data_array)\n",
      "\"\"\""
     ],
     "language": "python",
     "metadata": {},
     "outputs": [
      {
       "ename": "KeyError",
       "evalue": "0",
       "output_type": "pyerr",
       "traceback": [
        "\u001b[0;31m---------------------------------------------------------------------------\u001b[0m\n\u001b[0;31mKeyError\u001b[0m                                  Traceback (most recent call last)",
        "\u001b[0;32m<ipython-input-14-a7da7825e972>\u001b[0m in \u001b[0;36m<module>\u001b[0;34m()\u001b[0m\n\u001b[1;32m      1\u001b[0m \u001b[0mdata_array\u001b[0m \u001b[0;34m=\u001b[0m \u001b[0mdata\u001b[0m\u001b[0;34m\u001b[0m\u001b[0m\n\u001b[0;32m----> 2\u001b[0;31m \u001b[0;32mprint\u001b[0m\u001b[0;34m(\u001b[0m\u001b[0mdata_array\u001b[0m\u001b[0;34m[\u001b[0m\u001b[0;36m0\u001b[0m\u001b[0;34m]\u001b[0m\u001b[0;34m)\u001b[0m\u001b[0;34m\u001b[0m\u001b[0m\n\u001b[0m\u001b[1;32m      3\u001b[0m \u001b[0;32mprint\u001b[0m\u001b[0;34m(\u001b[0m\u001b[0mdata_array\u001b[0m\u001b[0;34m.\u001b[0m\u001b[0mshape\u001b[0m\u001b[0;34m)\u001b[0m\u001b[0;34m\u001b[0m\u001b[0m\n\u001b[1;32m      4\u001b[0m \"\"\"\n\u001b[1;32m      5\u001b[0m \u001b[0mdata_array\u001b[0m \u001b[0;34m=\u001b[0m \u001b[0mnp\u001b[0m\u001b[0;34m.\u001b[0m\u001b[0marray\u001b[0m\u001b[0;34m(\u001b[0m\u001b[0mdata\u001b[0m\u001b[0;34m)\u001b[0m\u001b[0;34m\u001b[0m\u001b[0m\n",
        "\u001b[0;31mKeyError\u001b[0m: 0"
       ]
      }
     ],
     "prompt_number": 14
    },
    {
     "cell_type": "code",
     "collapsed": false,
     "input": [
      "plt.imshow(data_array[0].reshape(28, 28), cmap = 'Greys')\n",
      "plt.show()"
     ],
     "language": "python",
     "metadata": {},
     "outputs": [
      {
       "metadata": {},
       "output_type": "display_data",
       "png": "[encoded data removed]",
       "text": [
        "<matplotlib.figure.Figure at 0x106e224d0>"
       ]
      }
     ],
     "prompt_number": 17
    },
    {
     "cell_type": "code",
     "collapsed": false,
     "input": [
      "#Convert image to binary matrix\n",
      "for img in data_array:\n",
      "    img[img < 100] = 0\n",
      "    img[img > 0] = 1\n",
      "\n",
      "plt.imshow(data_array[0].reshape(28, 28), cmap = 'Greys')\n",
      "plt.show()"
     ],
     "language": "python",
     "metadata": {},
     "outputs": [
      {
       "metadata": {},
       "output_type": "display_data",
       "png": "[encoded data removed]",
       "text": [
        "<matplotlib.figure.Figure at 0x111e63e50>"
       ]
      }
     ],
     "prompt_number": 25
    },
    {
     "cell_type": "code",
     "collapsed": false,
     "input": [
      "from __future__ import absolute_import, print_function, unicode_literals, division\n",
      "import matplotlib.pyplot as plt\n",
      "import numpy as np\n",
      "import pandas as pd\n",
      "import itertools\n",
      "import random as rand\n",
      "import copy"
     ],
     "language": "python",
     "metadata": {},
     "outputs": [],
     "prompt_number": 26
    },
    {
     "cell_type": "code",
     "collapsed": false,
     "input": [
      "class RBM(object):\n",
      "    \"\"\"\n",
      "    Implementation of RBM\n",
      "    num_vis and num_hidden do not include bias \n",
      "    \"\"\"\n",
      "\n",
      "    def __init__(self, data, num_hidden, num_visible, learning_rate):\n",
      "        # set variables based on input\n",
      "        self.data = data\n",
      "        self.data_wbias = copy.deepcopy(self.data)\n",
      "        self.num_hidden = num_hidden\n",
      "        self.num_vis = num_visible\n",
      "        self.learning_rate = learning_rate\n",
      "\n",
      "        # set weight matrix first row and first column to be RBM bias\n",
      "        self.hidden_states = np.random.rand(self.num_hidden + 1)\n",
      "        self.num_data = data.shape[0]\n",
      "        self.visible_states = np.concatenate((np.ones((self.num_data,1)), self.data),axis=1)\n",
      "        self.weights = np.random.rand(self.visible_states.shape[1], self.num_hidden + 1)\n",
      "\n",
      "    # Logistic Sigmoid Function\n",
      "    def _sigmoid(self,x):\n",
      "        return 1.0/(1.0+np.exp(-x))\n",
      "    \n",
      "    # Binomial Sampling Function\n",
      "    def _binom_sample(self, a, b):\n",
      "        prob = self._sigmoid(np.dot(a,b))\n",
      "        sample = [np.random.binomial(n=1, p=i) for i in prob]\n",
      "        return np.array(sample)\n",
      "    \n",
      "    # Predict hidden given visible\n",
      "    def _sample_h_given_v(self, v):\n",
      "        return self._binom_sample((self.weights[1:,:]).T, v.T)#DIMENSIONS DON'T WORK UNLESS TAKE OFF THE FIRST ROW\n",
      "        #BECAUSE THE PREDICTION FOR TOY DATASET INCLUDED THE BIAS.  THIS WILL BE VERY HARD WHEN DEALING WITH IMAGES.\n",
      "\n",
      "    # Predict visible given hidden\n",
      "    def _sample_v_given_h(self, h):\n",
      "        return self._binom_sample(self.weights, h)\n",
      "    \n",
      "    def propagate_up(self, vis):\n",
      "        \"\"\"\n",
      "        Propagates visible layer activation to hidden layer\n",
      "        \"\"\"\n",
      "        # add in bias\n",
      "        vis = np.insert(vis, 0, 1, axis=0)\n",
      "        vis = np.insert(vis, 0, 1, axis=1)\n",
      "        vis_activation = self._sigmoid(np.dot(vis, self.weights))\n",
      "        sample = [np.random.binomial(n=1, p=i) for i in vis_activation]\n",
      "        \n",
      "        return [vis_activation, sample]\n",
      "\n",
      "    def propagate_down(self, hid):\n",
      "        \"\"\"\n",
      "        Propagates hidden layer activation to visible layer\n",
      "        \"\"\"\n",
      "        hidden_activation = self._sigmoid(np.dot(hid, self.weights.T))\n",
      "        return hidden_activation\n",
      "\n",
      "    \n",
      "    def CDk(self, max_epochs=1000):\n",
      "        \"\"\"\n",
      "        Trains the RBM\n",
      "        \"\"\"\n",
      "        \n",
      "        for epoch in xrange(0,max_epochs):\n",
      "\n",
      "            data = np.insert(self.data, 0, 1, axis=1)\n",
      "            data = np.insert(data, 0, 1, axis=0)\n",
      "            \n",
      "            # CDk positive phase\n",
      "            up_data = self.propagate_up(self.data)\n",
      "            up_associations = np.dot(data.T, up_data[1])\n",
      "            \n",
      "            # CDk negative phase\n",
      "            down_vis_probs = self.propagate_down(up_data[0])\n",
      "            down_vis_probs[:,0] = 1 #remove the bias layer\n",
      "            down_associations = self.propagate_down(down_vis_probs) #I REMOVED THE TRANSPOSE!!!\n",
      "            down_associations = np.dot(down_vis_probs.T, down_associations)\n",
      "            \n",
      "            self.weights += self.learning_rate * \\\n",
      "                ((up_associations - down_associations)/self.num_data)\n",
      "                \n",
      "            error = np.sum((data - down_vis_probs) ** 2)\n",
      "            if epoch == 1000:\n",
      "                return down_vis_probs\n",
      "            #print(\"Epoch: \", epoch, \", Error: \", error)\n",
      "    \n",
      "    \n",
      "    def Gibbs_alternating(num_gen_samples):\n",
      "        samples = np.ones((num_gen_samples, self.num_vis + 1))\n",
      "        samples[0,1:] = np.random.rand(self.num_vis)\n",
      "        for i in xrange(0, self.num_data-1):\n",
      "            # calculate hidden from visible\n",
      "            v = samples [i,:]\n",
      "            h = _sample_h_given_v(v)\n",
      "            h[0] = 1\n",
      "            # calculate visible\n",
      "            v = _sample_v_given_h(h)\n",
      "            samples[i+1,:] = v      \n",
      "        return samples[:,1:]\n",
      "    "
     ],
     "language": "python",
     "metadata": {},
     "outputs": [],
     "prompt_number": 15
    },
    {
     "cell_type": "code",
     "collapsed": false,
     "input": [
      "r = RBM(data_array, 784, 3, .1)\n",
      "sample = r.CDk(max_epochs=1001)\n",
      "print(r.weights)\n",
      "#user = data[11] #np.array([[1, 0, 0, 0, 1, 0]])\n",
      "#print(r._sample_h_given_v(user))"
     ],
     "language": "python",
     "metadata": {},
     "outputs": [
      {
       "ename": "NameError",
       "evalue": "name 'data_array' is not defined",
       "output_type": "pyerr",
       "traceback": [
        "\u001b[0;31m---------------------------------------------------------------------------\u001b[0m\n\u001b[0;31mNameError\u001b[0m                                 Traceback (most recent call last)",
        "\u001b[0;32m<ipython-input-6-7fb16e90e96a>\u001b[0m in \u001b[0;36m<module>\u001b[0;34m()\u001b[0m\n\u001b[0;32m----> 1\u001b[0;31m \u001b[0mr\u001b[0m \u001b[0;34m=\u001b[0m \u001b[0mRBM\u001b[0m\u001b[0;34m(\u001b[0m\u001b[0mdata_array\u001b[0m\u001b[0;34m,\u001b[0m \u001b[0;36m784\u001b[0m\u001b[0;34m,\u001b[0m \u001b[0;36m3\u001b[0m\u001b[0;34m,\u001b[0m \u001b[0;36m.1\u001b[0m\u001b[0;34m)\u001b[0m\u001b[0;34m\u001b[0m\u001b[0m\n\u001b[0m\u001b[1;32m      2\u001b[0m \u001b[0msample\u001b[0m \u001b[0;34m=\u001b[0m \u001b[0mr\u001b[0m\u001b[0;34m.\u001b[0m\u001b[0mCDk\u001b[0m\u001b[0;34m(\u001b[0m\u001b[0mmax_epochs\u001b[0m\u001b[0;34m=\u001b[0m\u001b[0;36m1001\u001b[0m\u001b[0;34m)\u001b[0m\u001b[0;34m\u001b[0m\u001b[0m\n\u001b[1;32m      3\u001b[0m \u001b[0;32mprint\u001b[0m\u001b[0;34m(\u001b[0m\u001b[0mr\u001b[0m\u001b[0;34m.\u001b[0m\u001b[0mweights\u001b[0m\u001b[0;34m)\u001b[0m\u001b[0;34m\u001b[0m\u001b[0m\n\u001b[1;32m      4\u001b[0m \u001b[0;31m#user = data[11] #np.array([[1, 0, 0, 0, 1, 0]])\u001b[0m\u001b[0;34m\u001b[0m\u001b[0;34m\u001b[0m\u001b[0m\n\u001b[1;32m      5\u001b[0m \u001b[0;31m#print(r._sample_h_given_v(user))\u001b[0m\u001b[0;34m\u001b[0m\u001b[0;34m\u001b[0m\u001b[0m\n",
        "\u001b[0;31mNameError\u001b[0m: name 'data_array' is not defined"
       ]
      }
     ],
     "prompt_number": 6
    },
    {
     "cell_type": "code",
     "collapsed": false,
     "input": [
      "#10 EPOCHS\n",
      "plt.imshow((sample[0][1:]).reshape(28, 28), cmap = 'Greys')\n",
      "plt.show()"
     ],
     "language": "python",
     "metadata": {},
     "outputs": [
      {
       "metadata": {},
       "output_type": "display_data",
       "png": "[encoded data removed]",
       "text": [
        "<matplotlib.figure.Figure at 0x11212d610>"
       ]
      }
     ],
     "prompt_number": 72
    },
    {
     "cell_type": "code",
     "collapsed": false,
     "input": [
      "#100 EPOCHS\n",
      "plt.imshow((sample[0][1:]).reshape(28, 28), cmap = 'Greys')\n",
      "plt.show()"
     ],
     "language": "python",
     "metadata": {},
     "outputs": [
      {
       "metadata": {},
       "output_type": "display_data",
       "png": "[encoded data removed]",
       "text": [
        "<matplotlib.figure.Figure at 0x111db08d0>"
       ]
      }
     ],
     "prompt_number": 76
    },
    {
     "cell_type": "code",
     "collapsed": false,
     "input": [
      "#1000 EPOCHS\n",
      "plt.imshow((sample[0][1:]).reshape(28, 28), cmap = 'Greys')\n",
      "plt.show()"
     ],
     "language": "python",
     "metadata": {},
     "outputs": [
      {
       "metadata": {},
       "output_type": "display_data",
       "png": "[encoded data removed]",
       "text": [
        "<matplotlib.figure.Figure at 0x111ebc8d0>"
       ]
      }
     ],
     "prompt_number": 87
    },
    {
     "cell_type": "code",
     "collapsed": false,
     "input": [
      "sample[1]"
     ],
     "language": "python",
     "metadata": {},
     "outputs": [
      {
       "metadata": {},
       "output_type": "pyout",
       "prompt_number": 83,
       "text": [
        "array([ 1.        ,  0.70991   ,  0.71052377,  0.70958841,  0.71032524,\n",
        "        0.71011301,  0.70943296,  0.71035501,  0.7094051 ,  0.70997653,\n",
        "        0.70929837,  0.70931933,  0.70981835,  0.71015599,  0.71005381,\n",
        "        0.70998184,  0.70930041,  0.71015815,  0.71029546,  0.71027888,\n",
        "        0.70977211,  0.70983857,  0.70994413,  0.70981897,  0.70968148,\n",
        "        0.70969609,  0.70990855,  0.70934528,  0.71045886,  0.70977254,\n",
        "        0.70979995,  0.7099116 ,  0.71010454,  0.70934906,  0.709682  ,\n",
        "        0.7100429 ,  0.70929182,  0.70941809,  0.70935032,  0.70974902,\n",
        "        0.70999589,  0.70941235,  0.7093624 ,  0.70981382,  0.70941027,\n",
        "        0.7091919 ,  0.70927277,  0.70935373,  0.70922736,  0.70931672,\n",
        "        0.7099506 ,  0.70988278,  0.70935129,  0.71029863,  0.71018122,\n",
        "        0.70932513,  0.70984735,  0.70979613,  0.70947437,  0.70986066,\n",
        "        0.70938919,  0.70936257,  0.71006447,  0.70929479,  0.70933822,\n",
        "        0.70937032,  0.71007113,  0.71020885,  0.70973953,  0.70925235,\n",
        "        0.70934654,  0.71009873,  0.70953841,  0.70948686,  0.70928082,\n",
        "        0.70971474,  0.70931358,  0.70932413,  0.710315  ,  0.70940213,\n",
        "        0.70967072,  0.71000866,  0.70986907,  0.70932506,  0.71015192,\n",
        "        0.70989536,  0.70937152,  0.71012484,  0.70930528,  0.70945263,\n",
        "        0.70930549,  0.70923521,  0.7092241 ,  0.70920397,  0.70940642,\n",
        "        0.71012849,  0.70999348,  1.        ,  1.        ,  0.70993788,\n",
        "        1.        ,  1.        ,  1.        ,  1.        ,  1.        ,\n",
        "        1.        ,  0.70941134,  0.7094068 ,  0.70990933,  0.70970885,\n",
        "        0.7093286 ,  0.70929197,  0.70935161,  0.71021895,  0.70927941,\n",
        "        0.71015274,  0.70997654,  0.70994611,  0.70936059,  0.70945237,\n",
        "        0.70939798,  0.70946168,  1.        ,  1.        ,  1.        ,\n",
        "        1.        ,  1.        ,  1.        ,  1.        ,  1.        ,\n",
        "        1.        ,  1.        ,  1.        ,  1.        ,  1.        ,\n",
        "        1.        ,  1.        ,  0.70921816,  0.70999497,  0.71001821,\n",
        "        0.70932878,  0.70998108,  0.71001507,  0.70982571,  0.70941426,\n",
        "        0.70919236,  0.71012044,  0.71020595,  1.        ,  1.        ,\n",
        "        1.        ,  1.        ,  1.        ,  1.        ,  1.        ,\n",
        "        1.        ,  1.        ,  1.        ,  1.        ,  1.        ,\n",
        "        1.        ,  1.        ,  1.        ,  1.        ,  1.        ,\n",
        "        1.        ,  0.70943274,  0.70941418,  0.70941188,  0.70999831,\n",
        "        0.70985522,  0.70941049,  0.70920127,  0.70993247,  0.70925699,\n",
        "        0.71002893,  1.        ,  1.        ,  1.        ,  1.        ,\n",
        "        1.        ,  1.        ,  1.        ,  1.        ,  1.        ,\n",
        "        1.        ,  1.        ,  1.        ,  1.        ,  1.        ,\n",
        "        1.        ,  1.        ,  1.        ,  1.        ,  0.70970639,\n",
        "        0.70934268,  0.70989853,  0.70939684,  0.7092549 ,  0.70926064,\n",
        "        0.71021148,  0.70913377,  0.7097685 ,  1.        ,  1.        ,\n",
        "        1.        ,  1.        ,  1.        ,  1.        ,  1.        ,\n",
        "        1.        ,  1.        ,  1.        ,  1.        ,  1.        ,\n",
        "        1.        ,  1.        ,  1.        ,  1.        ,  1.        ,\n",
        "        1.        ,  1.        ,  0.70934713,  0.70928111,  0.70986915,\n",
        "        0.70963698,  0.71020232,  0.70921971,  0.71027796,  0.71027542,\n",
        "        0.70931257,  1.        ,  1.        ,  1.        ,  1.        ,\n",
        "        1.        ,  1.        ,  1.        ,  1.        ,  1.        ,\n",
        "        1.        ,  1.        ,  1.        ,  1.        ,  1.        ,\n",
        "        1.        ,  1.        ,  1.        ,  1.        ,  1.        ,\n",
        "        0.71027385,  0.71000978,  0.70974561,  0.70927679,  0.70925708,\n",
        "        0.70935872,  0.70968787,  0.70936081,  1.        ,  1.        ,\n",
        "        1.        ,  1.        ,  1.        ,  1.        ,  1.        ,\n",
        "        1.        ,  1.        ,  1.        ,  1.        ,  1.        ,\n",
        "        1.        ,  1.        ,  1.        ,  1.        ,  1.        ,\n",
        "        1.        ,  1.        ,  1.        ,  0.70925351,  0.70920158,\n",
        "        0.71019813,  0.7102386 ,  0.70999371,  0.70936305,  0.70927321,\n",
        "        0.70932733,  1.        ,  1.        ,  1.        ,  1.        ,\n",
        "        1.        ,  1.        ,  1.        ,  1.        ,  1.        ,\n",
        "        1.        ,  1.        ,  1.        ,  1.        ,  1.        ,\n",
        "        1.        ,  1.        ,  1.        ,  1.        ,  1.        ,\n",
        "        1.        ,  0.70940427,  0.70929476,  0.70919034,  0.70935463,\n",
        "        0.7094024 ,  0.70931719,  0.70918385,  0.71001715,  1.        ,\n",
        "        1.        ,  1.        ,  1.        ,  1.        ,  1.        ,\n",
        "        1.        ,  1.        ,  1.        ,  1.        ,  1.        ,\n",
        "        1.        ,  1.        ,  1.        ,  1.        ,  1.        ,\n",
        "        1.        ,  1.        ,  1.        ,  1.        ,  0.7094176 ,\n",
        "        1.        ,  0.70998907,  0.71020674,  0.70971177,  0.70978667,\n",
        "        0.70930466,  0.70980876,  1.        ,  1.        ,  1.        ,\n",
        "        1.        ,  1.        ,  1.        ,  1.        ,  1.        ,\n",
        "        1.        ,  1.        ,  1.        ,  1.        ,  1.        ,\n",
        "        1.        ,  1.        ,  1.        ,  1.        ,  1.        ,\n",
        "        1.        ,  1.        ,  1.        ,  1.        ,  0.71004849,\n",
        "        0.7100511 ,  0.7092345 ,  0.70934649,  0.70924597,  1.        ,\n",
        "        1.        ,  1.        ,  1.        ,  1.        ,  1.        ,\n",
        "        1.        ,  1.        ,  1.        ,  1.        ,  1.        ,\n",
        "        1.        ,  1.        ,  1.        ,  1.        ,  1.        ,\n",
        "        1.        ,  1.        ,  1.        ,  1.        ,  1.        ,\n",
        "        0.70934059,  0.71031892,  0.7102526 ,  0.70940535,  0.70925084,\n",
        "        0.70928217,  0.71008677,  1.        ,  1.        ,  1.        ,\n",
        "        1.        ,  1.        ,  1.        ,  1.        ,  1.        ,\n",
        "        1.        ,  1.        ,  0.70918294,  0.70925261,  0.70988477,\n",
        "        1.        ,  1.        ,  1.        ,  1.        ,  1.        ,\n",
        "        1.        ,  1.        ,  1.        ,  0.7097313 ,  0.71000547,\n",
        "        0.7092651 ,  0.70974616,  0.7098926 ,  0.70999315,  0.71003837,\n",
        "        1.        ,  1.        ,  1.        ,  1.        ,  1.        ,\n",
        "        1.        ,  1.        ,  1.        ,  1.        ,  1.        ,\n",
        "        0.70998095,  0.70942788,  1.        ,  1.        ,  1.        ,\n",
        "        1.        ,  1.        ,  1.        ,  1.        ,  1.        ,\n",
        "        1.        ,  0.71004717,  0.70989138,  0.70937129,  0.70981603,\n",
        "        0.70925835,  0.70936874,  0.70954752,  1.        ,  1.        ,\n",
        "        1.        ,  1.        ,  1.        ,  1.        ,  1.        ,\n",
        "        1.        ,  1.        ,  0.70932589,  0.70928402,  1.        ,\n",
        "        1.        ,  1.        ,  1.        ,  1.        ,  1.        ,\n",
        "        1.        ,  1.        ,  1.        ,  1.        ,  0.70926868,\n",
        "        0.70988813,  0.70996594,  0.71014132,  0.70935068,  0.70992185,\n",
        "        0.70986943,  1.        ,  1.        ,  1.        ,  1.        ,\n",
        "        1.        ,  1.        ,  1.        ,  1.        ,  1.        ,\n",
        "        0.70940135,  1.        ,  1.        ,  1.        ,  1.        ,\n",
        "        1.        ,  1.        ,  1.        ,  1.        ,  1.        ,\n",
        "        1.        ,  1.        ,  0.70927171,  0.70928986,  0.70937138,\n",
        "        0.70979193,  0.70939965,  0.71016752,  0.7093727 ,  1.        ,\n",
        "        1.        ,  1.        ,  1.        ,  1.        ,  1.        ,\n",
        "        1.        ,  1.        ,  1.        ,  1.        ,  1.        ,\n",
        "        1.        ,  1.        ,  1.        ,  1.        ,  1.        ,\n",
        "        1.        ,  1.        ,  1.        ,  1.        ,  1.        ,\n",
        "        0.70942293,  0.70927339,  0.70924282,  0.70919074,  0.70993613,\n",
        "        0.70975389,  0.71041764,  1.        ,  1.        ,  1.        ,\n",
        "        1.        ,  1.        ,  1.        ,  1.        ,  1.        ,\n",
        "        1.        ,  1.        ,  1.        ,  1.        ,  1.        ,\n",
        "        1.        ,  1.        ,  1.        ,  1.        ,  1.        ,\n",
        "        1.        ,  1.        ,  1.        ,  0.70937343,  0.71010857,\n",
        "        0.70926161,  0.71045968,  0.71006895,  0.70926933,  0.70943245,\n",
        "        1.        ,  1.        ,  1.        ,  1.        ,  1.        ,\n",
        "        1.        ,  1.        ,  1.        ,  1.        ,  1.        ,\n",
        "        1.        ,  1.        ,  1.        ,  1.        ,  1.        ,\n",
        "        1.        ,  1.        ,  1.        ,  1.        ,  1.        ,\n",
        "        1.        ,  0.71016466,  1.        ,  0.70920301,  0.70958249,\n",
        "        0.71013852,  0.7099853 ,  0.71022745,  1.        ,  1.        ,\n",
        "        1.        ,  1.        ,  1.        ,  1.        ,  1.        ,\n",
        "        1.        ,  1.        ,  1.        ,  1.        ,  1.        ,\n",
        "        1.        ,  1.        ,  1.        ,  1.        ,  1.        ,\n",
        "        1.        ,  1.        ,  1.        ,  1.        ,  1.        ,\n",
        "        1.        ,  0.71026523,  0.70994307,  0.70990089,  0.70925957,\n",
        "        0.70914573,  1.        ,  1.        ,  1.        ,  1.        ,\n",
        "        1.        ,  1.        ,  1.        ,  1.        ,  1.        ,\n",
        "        1.        ,  1.        ,  1.        ,  1.        ,  1.        ,\n",
        "        1.        ,  1.        ,  1.        ,  1.        ,  1.        ,\n",
        "        0.70931023,  0.7093246 ,  0.70998418,  1.        ,  0.71015942,\n",
        "        0.70995066,  0.71015412,  0.70998813,  0.71016508,  1.        ,\n",
        "        1.        ,  1.        ,  1.        ,  1.        ,  1.        ,\n",
        "        1.        ,  1.        ,  1.        ,  1.        ,  1.        ,\n",
        "        1.        ,  1.        ,  1.        ,  1.        ,  1.        ,\n",
        "        1.        ,  0.71011616,  0.71005923,  0.70960787,  0.70941099,\n",
        "        0.70933091,  0.70970482,  0.71006717,  0.70936025,  0.71019012,\n",
        "        0.70942261,  0.70987493,  0.70926606,  0.7094097 ,  0.71011332,\n",
        "        1.        ,  1.        ,  1.        ,  1.        ,  1.        ,\n",
        "        1.        ,  1.        ,  1.        ,  1.        ,  1.        ,\n",
        "        1.        ,  1.        ,  0.70930794,  0.70994297,  0.70941914,\n",
        "        0.70930643,  0.70923118,  0.70919602,  0.70994672,  0.70938759,\n",
        "        0.70934796,  0.71021558,  0.70924786,  0.70918335,  0.71015602,\n",
        "        0.70931237,  0.71008346,  0.70993041,  0.7093685 ,  0.7094054 ,\n",
        "        0.70923386,  0.70946634,  0.70936772,  0.70929925,  0.70964346,\n",
        "        0.71021156,  0.70996723,  0.7093433 ,  0.70996247,  0.71025753,\n",
        "        0.70999764,  0.70958064,  0.71015306,  0.7093882 ,  0.70924012,\n",
        "        0.70936217,  0.70920424,  0.7095721 ,  0.71000922,  0.70996089,\n",
        "        0.70997829,  0.71009692,  0.70920695,  0.70941624,  0.70934975,\n",
        "        0.70926568,  0.70936282,  0.70943768,  0.7092685 ,  0.70929624,\n",
        "        0.70937914,  0.70937631,  0.70939224,  0.70924008,  0.71002662,\n",
        "        0.7093804 ,  0.71004227,  0.71044394,  0.70961961,  0.70930474,\n",
        "        0.70924838,  0.70929983,  0.70927178,  0.71005964,  0.70990908,\n",
        "        0.70935211,  0.71008261,  0.7099637 ,  0.70978604,  0.71013643,\n",
        "        0.70991214,  0.70965296,  0.70935688,  0.71017729,  0.70996037,\n",
        "        0.70959169,  0.70969821,  0.70936039,  0.70992728,  0.71016241,\n",
        "        0.70943469,  0.70934058,  0.70998328,  0.71023985,  0.70926687,\n",
        "        0.70998886,  0.7100607 ,  0.70969009,  0.71010611,  0.70941353,\n",
        "        0.71018755,  0.70942458,  0.70958619,  0.70984902,  0.70990797])"
       ]
      }
     ],
     "prompt_number": 83
    },
    {
     "cell_type": "code",
     "collapsed": false,
     "input": [],
     "language": "python",
     "metadata": {},
     "outputs": []
    }
   ],
   "metadata": {}
  }
 ]
}