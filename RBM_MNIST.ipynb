{
 "cells": [
  {
   "cell_type": "code",
   "execution_count": 9,
   "metadata": {
    "collapsed": false
   },
   "outputs": [],
   "source": [
    "%matplotlib inline\n",
    "\n",
    "from __future__ import absolute_import, print_function, unicode_literals, division\n",
    "from sklearn.datasets import fetch_mldata\n",
    "import matplotlib.pyplot as plt\n",
    "import numpy as np\n",
    "import pandas as pd\n",
    "import itertools\n",
    "import random as rand\n",
    "import copy"
   ]
  },
  {
   "cell_type": "code",
   "execution_count": 10,
   "metadata": {
    "collapsed": false
   },
   "outputs": [
    {
     "name": "stdout",
     "output_type": "stream",
     "text": [
      "(70000, 784)\n"
     ]
    }
   ],
   "source": [
    "DATA_PATH = '~/data'\n",
    "mnist = fetch_mldata('MNIST original', data_home=DATA_PATH)\n",
    "print(mnist.data.shape)"
   ]
  },
  {
   "cell_type": "code",
   "execution_count": 11,
   "metadata": {
    "collapsed": false
   },
   "outputs": [
    {
     "data": {
      "image/png": "iVBORw0KGgoAAAANSUhEUgAAAPwAAAD8CAYAAABTq8lnAAAABHNCSVQICAgIfAhkiAAAAAlwSFlz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\n",
      "text/plain": [
<<<<<<< HEAD
       "<matplotlib.figure.Figure at 0x106090a10>"
=======
       "<matplotlib.figure.Figure at 0x1040b0890>"
>>>>>>> 74cdde9b55fda50f357e40813838fe12c9dbabbc
      ]
     },
     "metadata": {},
     "output_type": "display_data"
    }
   ],
   "source": [
    "data_array = mnist.data\n",
    "plt.imshow(data_array[0].reshape(28, 28), cmap = 'Greys')\n",
    "plt.show()"
   ]
  },
  {
   "cell_type": "code",
   "execution_count": 12,
   "metadata": {
    "collapsed": false
   },
   "outputs": [
    {
     "data": {
      "image/png": "iVBORw0KGgoAAAANSUhEUgAAAPwAAAD8CAYAAABTq8lnAAAABHNCSVQICAgIfAhkiAAAAAlwSFlz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\nYII=\n",
      "text/plain": [
<<<<<<< HEAD
       "<matplotlib.figure.Figure at 0x10cc15fd0>"
=======
       "<matplotlib.figure.Figure at 0x10cc9eb10>"
>>>>>>> 74cdde9b55fda50f357e40813838fe12c9dbabbc
      ]
     },
     "metadata": {},
     "output_type": "display_data"
    }
   ],
   "source": [
    "#Convert image to binary matrix\n",
    "for img in data_array:\n",
    "    img[img < 100] = 0\n",
    "    img[img > 0] = 1\n",
    "\n",
    "plt.imshow(data_array[0].reshape(28, 28), cmap = 'Greys')\n",
    "plt.show()"
   ]
  },
  {
   "cell_type": "code",
<<<<<<< HEAD
   "execution_count": 112,
=======
   "execution_count": 11,
>>>>>>> 74cdde9b55fda50f357e40813838fe12c9dbabbc
   "metadata": {
    "collapsed": false
   },
   "outputs": [],
   "source": [
    "class RBM(object):\n",
    "    \"\"\"\n",
    "    Implementation of Restricted Boltzmann Machine for binary prediction\n",
    "    \n",
    "    Inputs:\n",
    "    Data\n",
    "    Number of hidden and visible states\n",
    "    Learning rate, default set to 0.1\n",
    "    \n",
    "    Outputs:\n",
    "    Weight matrix\n",
    "    Epoch number and error\n",
    "    \"\"\"\n",
    "\n",
    "    def __init__(self, data, num_visible, num_hidden, num_epochs, learning_rate=0.1):\n",
    "        \n",
    "        self.data = data\n",
    "        self.num_data = data.shape[0]\n",
    "        self.num_hidden = num_hidden\n",
    "        self.num_visible = num_visible\n",
    "        self.learning_rate = learning_rate\n",
    "        self.num_epochs = num_epochs\n",
    "\n",
    "        # weight matrix first row and first column represent the bias\n",
    "        self.weights = np.random.rand(self.num_visible, self.num_hidden) \n",
    "        self.weights = np.insert(self.weights, 0, 0, axis = 0)\n",
    "        self.weights = np.insert(self.weights, 0, 0, axis = 1)\n",
    "\n",
    "        # Debugging\n",
    "        print(self.data.shape,self.weights.shape)\n",
    "    \n",
    "    def _sigmoid(self,x):\n",
    "        return 1.0/(1.0+np.exp(-x))\n",
    "    \n",
    "    def _gen_prob(self,a,b):\n",
    "        return self._sigmoid(np.dot(a,b))\n",
    "    \n",
    "    def _gen_assoc(self,a):\n",
    "        probs = self._gen_prob(a,self.weights)\n",
    "        return np.dot(a.T,probs)\n",
    "    \n",
    "    def _sample_v_given_h(self, h):  # h does not contain bias\n",
    "        probs = self._gen_prob(self.weights, np.insert(h,0,1))\n",
    "        sample = probs > np.random.rand(self.num_visible + 1)\n",
    "        return sample[1:]\n",
    "    \n",
    "    def _sample_h_given_v(self, v):  # v does not contain bias\n",
    "        probs = self._gen_prob(self.weights.T, np.insert(v,0,1, axis = 1).T)\n",
    "        sample = probs > np.random.rand(self.num_hidden + 1, self.num_data)\n",
    "        return sample[1:].T\n",
    "    \n",
    "    def _sample_h_given_v_nontrain(self, v):  # v does not contain bias\n",
    "        probs = self._gen_prob(self.weights.T, np.insert(v,0,1).T)\n",
    "        sample = probs > np.random.rand(self.num_hidden + 1)\n",
    "        return sample[1:]\n",
    "\n",
    "    def CDk(self):\n",
    "        max_epochs = self.num_epochs + 1\n",
    "        self.data = np.insert(self.data, 0, 1, axis=1)\n",
    "        \n",
    "        # Debugging\n",
    "        print(self.data.shape,self.weights.shape)\n",
    "        \n",
    "        for epoch in xrange(0, max_epochs):\n",
    "            up_probs = self._gen_prob(self.data,self.weights)\n",
    "            up_associations = self._gen_assoc(self.data)\n",
    "            up_states = up_probs > np.random.rand(self.num_data, self.num_hidden + 1)\n",
    "            \n",
    "            down_probs = self._gen_prob(up_states,self.weights.T)\n",
    "            down_probs[:,0] = 1 \n",
    "            down_associations = self._gen_assoc(down_probs)\n",
    "            \n",
    "            self.weights += self.learning_rate * \\\n",
    "                ((up_associations - down_associations)/self.num_data)\n",
    "                \n",
    "            error = np.sum((self.data - down_probs) ** 2)\n",
    "            print(\"Epoch: \", epoch, \", Error: \", error)\n",
    "            if epoch == self.num_epochs:\n",
    "                return down_probs\n",
    "   "
   ]
  },
  {
   "cell_type": "code",
<<<<<<< HEAD
   "execution_count": 113,
   "metadata": {
    "collapsed": true
   },
   "outputs": [],
   "source": [
    "class DBN(object):\n",
    "    '''\n",
    "    Deep Belief Network\n",
    "    \n",
    "    'layer_nodes' describes the network architechture \n",
    "    i.e. [3,4,5,3] is a DBN with 3 visible units (not including bias), \n",
    "        4 unit hidden layer, 5 unit hidden layer, 3 unit hidden layer\n",
    "    '''\n",
    "\n",
    "    def __init__(self, data, layer_nodes, num_epochs, learning_rate=0.1):\n",
    "        self.data = data\n",
    "        self.num_data = data.shape[0]\n",
    "        self.learning_rate = learning_rate\n",
    "        self.num_epochs = num_epochs\n",
    "        self.layer_nodes = layer_nodes\n",
    "        self.num_layers = len(self.layer_nodes)\n",
    "        self.RBM_layer = range(0,len(self.layer_nodes)-1)  # list of stacked RBMs\n",
    "        self.RBM_layer_messages = range(0,len(self.layer_nodes))  # list of messages \n",
    "        self.RBM_layer_messages[0] = self.data\n",
    "        \n",
    "    def _build(self):\n",
    "        for i in xrange(0,len(self.layer_nodes)-1):\n",
    "            self.RBM_layer[i] = RBM(self.RBM_layer_messages[i], self.layer_nodes[i], self.layer_nodes[i+1], self.num_epochs, self.learning_rate)\n",
    "            down_probs = self.RBM_layer[i].CDk()  # train\n",
    "            \n",
    "            self.RBM_layer_messages[i+1] = self.RBM_layer[i]._sample_h_given_v(self.RBM_layer_messages[i])\n",
    "            \n",
    "            error = np.sum((self.RBM_layer_messages[i] - down_probs[:,1:]) ** 2)\n",
    "            print(\"DBN Layer: \", i, \", DBN Error: \", error)\n",
    "        return\n",
    "    \n",
    "    def _dbn_sample_v_given_h(self, h):  # h does not contain bias\n",
    "        temp = h\n",
    "        for i in xrange(len(self.layer_nodes)-2,-1,-1):\n",
    "            temp = self.RBM_layer[i]._sample_v_given_h(temp)\n",
    "        return temp\n",
    "    \n",
    "    def _dbn_sample_h_given_v(self, v):  # v does not contain bias\n",
    "        temp = v\n",
    "        for i in xrange(0,len(self.layer_nodes)-1):\n",
    "            temp = self.RBM_layer[i]._sample_h_given_v_nontrain(temp)\n",
    "        return temp\n",
    "\n",
    "        \n"
   ]
  },
  {
   "cell_type": "code",
   "execution_count": 123,
=======
   "execution_count": 12,
>>>>>>> 74cdde9b55fda50f357e40813838fe12c9dbabbc
   "metadata": {
    "collapsed": false
   },
   "outputs": [
    {
     "name": "stdout",
     "output_type": "stream",
     "text": [
<<<<<<< HEAD
      "Epoch:  0 , Error:  47051392.9928\n",
      "Epoch:  1 , Error:  45458123.7746\n",
      "Epoch:  2 , Error:  6730871.52882\n",
      "Epoch:  3 , Error:  10708782.2697\n",
      "Epoch:  4 , Error:  8903026.83835\n",
      "Epoch:  5 , Error:  7007671.45953\n",
      "Epoch:  6 , Error:  6360941.14794\n",
      "Epoch:  7 , Error:  6107507.74058\n",
      "Epoch:  8 , Error:  5817480.27648\n",
      "Epoch:  9 , Error:  5933766.87432\n",
      "Epoch:  10 , Error:  5654227.25811\n",
      "Epoch:  11 , Error:  5665222.29652\n",
      "Epoch:  12 , Error:  5473359.10589\n",
      "Epoch:  13 , Error:  5397174.05553\n",
      "Epoch:  14 , Error:  5269417.89145\n",
      "Epoch:  15 , Error:  5161303.45835\n",
      "Epoch:  16 , Error:  5078938.52576\n",
      "Epoch:  17 , Error:  4948227.76435\n",
      "Epoch:  18 , Error:  4893721.41623\n",
      "Epoch:  19 , Error:  4761875.18843\n",
      "Epoch:  20 , Error:  4728571.89581\n",
      "Epoch:  21 , Error:  4600376.5069\n",
      "Epoch:  22 , Error:  4580620.46642\n",
      "Epoch:  23 , Error:  4459418.41794\n",
      "Epoch:  24 , Error:  4451558.58585\n",
      "Epoch:  25 , Error:  4340147.37208\n",
      "Epoch:  26 , Error:  4335321.3282\n",
      "Epoch:  27 , Error:  4235564.20923\n",
      "Epoch:  28 , Error:  4225260.87023\n",
      "Epoch:  29 , Error:  4144586.96174\n",
      "Epoch:  30 , Error:  4124264.45341\n",
      "Epoch:  31 , Error:  4060962.02843\n",
      "Epoch:  32 , Error:  4034596.60083\n",
      "Epoch:  33 , Error:  3985545.40596\n",
      "Epoch:  34 , Error:  3953716.87036\n",
      "Epoch:  35 , Error:  3913902.17243\n",
      "Epoch:  36 , Error:  3882174.72078\n",
      "Epoch:  37 , Error:  3848766.39185\n",
      "Epoch:  38 , Error:  3817910.46964\n",
      "Epoch:  39 , Error:  3788929.25369\n",
      "Epoch:  40 , Error:  3759850.29081\n",
      "Epoch:  41 , Error:  3731980.15329\n",
      "Epoch:  42 , Error:  3707062.55872\n",
      "Epoch:  43 , Error:  3681540.33347\n",
      "Epoch:  44 , Error:  3656591.98611\n",
      "Epoch:  45 , Error:  3634832.29024\n",
      "Epoch:  46 , Error:  3612583.29198\n",
      "Epoch:  47 , Error:  3591198.29765\n",
      "Epoch:  48 , Error:  3570287.30122\n",
      "Epoch:  49 , Error:  3551910.26254\n",
      "Epoch:  50 , Error:  3532721.63543\n",
      "Epoch:  51 , Error:  3513912.64151\n",
      "Epoch:  52 , Error:  3497161.21557\n",
      "Epoch:  53 , Error:  3478918.81544\n",
      "Epoch:  54 , Error:  3463147.22803\n",
      "Epoch:  55 , Error:  3446040.72268\n",
      "Epoch:  56 , Error:  3431010.76162\n",
      "Epoch:  57 , Error:  3416305.3618\n",
      "Epoch:  58 , Error:  3401860.93968\n",
      "Epoch:  59 , Error:  3387963.14264\n",
      "Epoch:  60 , Error:  3373593.8209\n",
      "Epoch:  61 , Error:  3360342.58384\n",
      "Epoch:  62 , Error:  3347898.08496\n",
      "Epoch:  63 , Error:  3335408.17543\n",
      "Epoch:  64 , Error:  3322559.7967\n",
      "Epoch:  65 , Error:  3310494.50797\n",
      "Epoch:  66 , Error:  3298907.4309\n",
      "Epoch:  67 , Error:  3287417.78134\n",
      "Epoch:  68 , Error:  3276222.97234\n",
      "Epoch:  69 , Error:  3265234.13365\n",
      "Epoch:  70 , Error:  3255193.62546\n",
      "Epoch:  71 , Error:  3244189.07317\n",
      "Epoch:  72 , Error:  3234575.24501\n",
      "Epoch:  73 , Error:  3224641.15838\n",
      "Epoch:  74 , Error:  3214740.38269\n",
      "Epoch:  75 , Error:  3205852.85825\n",
      "Epoch:  76 , Error:  3197413.74386\n",
      "Epoch:  77 , Error:  3187507.04917\n",
      "Epoch:  78 , Error:  3178216.61702\n",
      "Epoch:  79 , Error:  3170352.70914\n",
      "Epoch:  80 , Error:  3161658.49278\n",
      "Epoch:  81 , Error:  3153360.92596\n",
      "Epoch:  82 , Error:  3145190.40083\n",
      "Epoch:  83 , Error:  3137741.18321\n",
      "Epoch:  84 , Error:  3130769.06242\n",
      "Epoch:  85 , Error:  3122686.15305\n",
      "Epoch:  86 , Error:  3114657.43104\n",
      "Epoch:  87 , Error:  3107773.69978\n",
      "Epoch:  88 , Error:  3100963.43597\n",
      "Epoch:  89 , Error:  3094061.30917\n",
      "Epoch:  90 , Error:  3087542.46991\n",
      "Epoch:  91 , Error:  3080774.0448\n",
      "Epoch:  92 , Error:  3073439.29703\n",
      "Epoch:  93 , Error:  3067656.89886\n",
      "Epoch:  94 , Error:  3061340.29705\n",
      "Epoch:  95 , Error:  3055138.09646\n",
      "Epoch:  96 , Error:  3049145.73998\n",
      "Epoch:  97 , Error:  3043024.32197\n",
      "Epoch:  98 , Error:  3037658.20067\n",
      "Epoch:  99 , Error:  3031315.82376\n",
      "Epoch:  100 , Error:  3026260.86941\n",
      "DBN Layer:  0 , DBN Error:  3026260.86941\n",
      "Epoch:  0 , Error:  2396210.99349\n",
      "Epoch:  1 , Error:  2367372.023\n",
      "Epoch:  2 , Error:  843135.025195\n",
      "Epoch:  3 , Error:  565295.095741\n",
      "Epoch:  4 , Error:  540939.444287\n",
      "Epoch:  5 , Error:  524662.26736\n",
      "Epoch:  6 , Error:  511698.038773\n",
      "Epoch:  7 , Error:  501293.105051\n",
      "Epoch:  8 , Error:  491020.916442\n",
      "Epoch:  9 , Error:  481353.14809\n",
      "Epoch:  10 , Error:  471584.268353\n",
      "Epoch:  11 , Error:  462076.119846\n",
      "Epoch:  12 , Error:  452706.345166\n",
      "Epoch:  13 , Error:  442486.138477\n",
      "Epoch:  14 , Error:  432934.339249\n",
      "Epoch:  15 , Error:  424092.967704\n",
      "Epoch:  16 , Error:  415830.71698\n",
      "Epoch:  17 , Error:  407164.191568\n",
      "Epoch:  18 , Error:  399666.607811\n",
      "Epoch:  19 , Error:  392079.656649\n",
      "Epoch:  20 , Error:  385141.915194\n",
      "Epoch:  21 , Error:  378509.453193\n",
      "Epoch:  22 , Error:  372314.427907\n",
      "Epoch:  23 , Error:  366021.834377\n",
      "Epoch:  24 , Error:  360771.015924\n",
      "Epoch:  25 , Error:  355429.379864\n",
      "Epoch:  26 , Error:  350166.848237\n",
      "Epoch:  27 , Error:  345662.117124\n",
      "Epoch:  28 , Error:  340993.946774\n",
      "Epoch:  29 , Error:  336481.995641\n",
      "Epoch:  30 , Error:  332302.499129\n",
      "Epoch:  31 , Error:  328925.43235\n",
      "Epoch:  32 , Error:  325360.778683\n",
      "Epoch:  33 , Error:  321271.288402\n",
      "Epoch:  34 , Error:  318469.887872\n",
      "Epoch:  35 , Error:  315302.211553\n",
      "Epoch:  36 , Error:  311902.757711\n",
      "Epoch:  37 , Error:  309156.30644\n",
      "Epoch:  38 , Error:  306107.919342\n",
      "Epoch:  39 , Error:  303775.209225\n",
      "Epoch:  40 , Error:  300815.147447\n",
      "Epoch:  41 , Error:  298614.402925\n",
      "Epoch:  42 , Error:  295737.696045\n",
      "Epoch:  43 , Error:  293626.346898\n",
      "Epoch:  44 , Error:  291060.736935\n",
      "Epoch:  45 , Error:  289013.995185\n",
      "Epoch:  46 , Error:  286694.119438\n",
      "Epoch:  47 , Error:  285013.18018\n",
      "Epoch:  48 , Error:  282758.624179\n",
      "Epoch:  49 , Error:  280757.741673\n",
      "Epoch:  50 , Error:  278555.480063\n",
      "Epoch:  51 , Error:  276835.740721\n",
      "Epoch:  52 , Error:  275111.307499\n",
      "Epoch:  53 , Error:  273630.560557\n",
      "Epoch:  54 , Error:  271761.558185\n",
      "Epoch:  55 , Error:  269986.76541\n",
      "Epoch:  56 , Error:  268449.798788\n",
      "Epoch:  57 , Error:  266677.380712\n",
      "Epoch:  58 , Error:  265232.679883\n",
      "Epoch:  59 , Error:  263656.889288\n",
      "Epoch:  60 , Error:  262539.411882\n",
      "Epoch:  61 , Error:  261015.705682\n",
      "Epoch:  62 , Error:  259763.369496\n",
      "Epoch:  63 , Error:  258676.311543\n",
      "Epoch:  64 , Error:  257189.408426\n",
      "Epoch:  65 , Error:  255900.12818\n",
      "Epoch:  66 , Error:  254759.024698\n",
      "Epoch:  67 , Error:  253193.343841\n",
      "Epoch:  68 , Error:  252737.760759\n",
      "Epoch:  69 , Error:  251394.632258\n",
      "Epoch:  70 , Error:  249721.755158\n",
      "Epoch:  71 , Error:  249039.926601\n",
      "Epoch:  72 , Error:  247754.646771\n",
      "Epoch:  73 , Error:  247050.620179\n",
      "Epoch:  74 , Error:  245934.514123\n",
      "Epoch:  75 , Error:  244967.867451\n",
      "Epoch:  76 , Error:  243665.599794\n",
      "Epoch:  77 , Error:  242794.025692\n",
      "Epoch:  78 , Error:  241892.257694\n",
      "Epoch:  79 , Error:  240993.062164\n",
      "Epoch:  80 , Error:  240508.556136\n",
      "Epoch:  81 , Error:  239291.123749\n",
      "Epoch:  82 , Error:  238415.685844\n",
      "Epoch:  83 , Error:  237711.953518\n",
      "Epoch:  84 , Error:  236615.288213\n",
      "Epoch:  85 , Error:  236048.676493\n",
      "Epoch:  86 , Error:  235304.996569\n",
      "Epoch:  87 , Error:  234115.513844\n",
      "Epoch:  88 , Error:  233874.101225\n",
      "Epoch:  89 , Error:  232867.714177\n",
      "Epoch:  90 , Error:  232040.470618\n",
      "Epoch:  91 , Error:  231514.006735\n",
      "Epoch:  92 , Error:  230656.445289\n",
      "Epoch:  93 , Error:  230138.088075\n",
      "Epoch:  94 , Error:  229186.377057\n",
      "Epoch:  95 , Error:  228113.052495\n",
      "Epoch:  96 , Error:  227811.383919\n",
      "Epoch:  97 , Error:  227756.615829\n",
      "Epoch:  98 , Error:  226779.642657\n",
      "Epoch:  99 , Error:  225996.264685\n",
      "Epoch:  100 , Error:  225024.608942\n",
      "DBN Layer:  1 , DBN Error:  225024.608942\n",
      "Epoch:  0 , Error:  1917951.22917\n",
      "Epoch:  1 , Error:  1662415.42556\n",
      "Epoch:  2 , Error:  1016161.65061\n",
      "Epoch:  3 , Error:  824825.487234\n",
      "Epoch:  4 , Error:  807811.832892\n",
      "Epoch:  5 , Error:  798125.599303\n",
      "Epoch:  6 , Error:  789788.891576\n",
      "Epoch:  7 , Error:  782333.384127\n",
      "Epoch:  8 , Error:  775175.473178\n",
      "Epoch:  9 , Error:  769024.340522\n",
      "Epoch:  10 , Error:  762786.076223\n",
      "Epoch:  11 , Error:  756969.722343\n",
      "Epoch:  12 , Error:  751009.353999\n",
      "Epoch:  13 , Error:  745684.862028\n",
      "Epoch:  14 , Error:  741004.7731\n",
      "Epoch:  15 , Error:  735392.62393\n",
      "Epoch:  16 , Error:  730518.657467\n",
      "Epoch:  17 , Error:  725790.687827\n",
      "Epoch:  18 , Error:  721306.859522\n",
      "Epoch:  19 , Error:  716432.537262\n",
      "Epoch:  20 , Error:  711787.986208\n",
      "Epoch:  21 , Error:  707679.345942\n",
      "Epoch:  22 , Error:  703301.180641\n",
      "Epoch:  23 , Error:  699040.917966\n",
      "Epoch:  24 , Error:  695261.601434\n",
      "Epoch:  25 , Error:  691093.537318\n",
      "Epoch:  26 , Error:  687434.558247\n",
      "Epoch:  27 , Error:  683375.06614\n",
      "Epoch:  28 , Error:  679984.23114\n",
      "Epoch:  29 , Error:  676366.300693\n",
      "Epoch:  30 , Error:  672927.002091\n",
      "Epoch:  31 , Error:  669585.944205\n",
      "Epoch:  32 , Error:  666098.962483\n",
      "Epoch:  33 , Error:  662954.211319\n",
      "Epoch:  34 , Error:  660031.329675\n",
      "Epoch:  35 , Error:  657156.940759\n",
      "Epoch:  36 , Error:  653917.133352\n",
      "Epoch:  37 , Error:  651163.354042\n",
      "Epoch:  38 , Error:  648222.032407\n",
      "Epoch:  39 , Error:  645698.961111\n",
      "Epoch:  40 , Error:  643072.723698\n",
      "Epoch:  41 , Error:  640518.498719\n",
      "Epoch:  42 , Error:  637875.6096\n",
      "Epoch:  43 , Error:  635522.367074\n",
      "Epoch:  44 , Error:  633084.301424\n",
      "Epoch:  45 , Error:  631053.255939\n",
      "Epoch:  46 , Error:  628834.217518\n",
      "Epoch:  47 , Error:  626564.689681\n",
      "Epoch:  48 , Error:  624802.367018\n",
      "Epoch:  49 , Error:  622428.914975\n",
      "Epoch:  50 , Error:  620816.77294\n",
      "Epoch:  51 , Error:  618705.540196\n",
      "Epoch:  52 , Error:  617004.319003\n",
      "Epoch:  53 , Error:  615070.96934\n",
      "Epoch:  54 , Error:  613372.900804\n",
      "Epoch:  55 , Error:  611941.180289\n",
      "Epoch:  56 , Error:  610144.671544\n",
      "Epoch:  57 , Error:  608575.475525\n",
      "Epoch:  58 , Error:  607332.931373\n",
      "Epoch:  59 , Error:  605908.405273\n",
      "Epoch:  60 , Error:  604176.288896\n",
      "Epoch:  61 , Error:  602874.600343\n",
      "Epoch:  62 , Error:  601466.82439\n",
      "Epoch:  63 , Error:  599982.793143\n",
      "Epoch:  64 , Error:  598763.221315\n",
      "Epoch:  65 , Error:  597374.183809\n",
      "Epoch:  66 , Error:  596391.681062\n",
      "Epoch:  67 , Error:  595419.462626\n",
      "Epoch:  68 , Error:  593611.186755\n",
      "Epoch:  69 , Error:  592356.876383\n",
      "Epoch:  70 , Error:  591365.950749\n",
      "Epoch:  71 , Error:  590237.105042\n",
      "Epoch:  72 , Error:  589428.962892\n",
      "Epoch:  73 , Error:  587763.417303\n",
      "Epoch:  74 , Error:  586875.077154\n",
      "Epoch:  75 , Error:  585990.300798\n",
      "Epoch:  76 , Error:  584806.83601\n",
      "Epoch:  77 , Error:  583801.068386\n",
      "Epoch:  78 , Error:  582711.250322\n",
      "Epoch:  79 , Error:  581681.181143\n",
      "Epoch:  80 , Error:  580614.324036\n",
      "Epoch:  81 , Error:  579888.976159\n",
      "Epoch:  82 , Error:  578821.87373\n",
      "Epoch:  83 , Error:  577792.034324\n",
      "Epoch:  84 , Error:  576839.091784\n",
      "Epoch:  85 , Error:  576346.51216\n",
      "Epoch:  86 , Error:  575047.615175\n",
      "Epoch:  87 , Error:  574023.918118\n",
      "Epoch:  88 , Error:  573526.184929\n",
      "Epoch:  89 , Error:  572348.512165\n",
      "Epoch:  90 , Error:  571882.970822\n",
      "Epoch:  91 , Error:  570404.331721\n",
      "Epoch:  92 , Error:  569794.098737\n",
      "Epoch:  93 , Error:  568871.451961\n",
      "Epoch:  94 , Error:  568107.414431\n",
      "Epoch:  95 , Error:  567345.829415\n",
      "Epoch:  96 , Error:  566463.25256\n",
      "Epoch:  97 , Error:  565685.353832\n",
      "Epoch:  98 , Error:  565363.270895\n",
      "Epoch:  99 , Error:  564175.693362\n",
      "Epoch:  100 , Error:  563464.010531\n",
      "DBN Layer:  2 , DBN Error:  563464.010531\n"
=======
      "(70000, 784) (785, 301)\n",
      "(70000, 785) (785, 301)\n",
      "Epoch:  0 , Error:  47051393.0\n",
      "Epoch:  1 , Error:  47051392.1549\n",
      "Epoch:  2 , Error:  7329124.54929\n",
      "[[  3.21468549e-04  -1.15032402e-01  -1.56083739e-01 ...,  -1.71669598e-01\n",
      "   -1.58178355e-01  -1.62920073e-01]\n",
      " [ -2.00000000e-01  -6.87575114e-02  -5.77214666e-01 ...,  -6.67131422e-01\n",
      "   -1.04913280e-01  -6.56156202e-01]\n",
      " [ -2.00000000e-01  -3.34460557e-01  -1.06964325e-02 ...,  -3.12789067e-01\n",
      "   -5.15833874e-01  -6.61516114e-01]\n",
      " ..., \n",
      " [ -2.00000000e-01   1.05892587e-01  -2.99781476e-01 ...,  -1.68332767e-01\n",
      "   -7.26002305e-01  -7.97426736e-01]\n",
      " [ -2.00000000e-01  -7.48974572e-01  -7.80839395e-01 ...,  -5.80484193e-01\n",
      "   -3.90736286e-01   1.63949674e-01]\n",
      " [ -2.00000000e-01  -5.28953158e-03  -5.74806279e-01 ...,  -3.80257967e-01\n",
      "   -6.09300102e-01  -2.19897679e-01]]\n"
>>>>>>> 74cdde9b55fda50f357e40813838fe12c9dbabbc
     ]
    }
   ],
   "source": [
    "'''\n",
    "Andre's DBN tests\n",
    "'''\n",
    "visible_units = data_array.shape[1]\n",
    "num_epochs = 100\n",
    "learning_rate = 0.4\n",
    "\n",
    "dbn_learner = DBN(data_array, [visible_units,50,50,10], num_epochs, learning_rate)\n",
    "dbn_learner._build()"
   ]
  },
  {
   "cell_type": "code",
<<<<<<< HEAD
   "execution_count": 124,
=======
   "execution_count": 15,
   "metadata": {
    "collapsed": false
   },
   "outputs": [
    {
     "name": "stdout",
     "output_type": "stream",
     "text": [
      "300\n"
     ]
    }
   ],
   "source": [
    "print(r.num_hidden)"
   ]
  },
  {
   "cell_type": "code",
   "execution_count": 14,
>>>>>>> 74cdde9b55fda50f357e40813838fe12c9dbabbc
   "metadata": {
    "collapsed": false
   },
   "outputs": [
    {
     "name": "stdout",
     "output_type": "stream",
     "text": [
      "(785, 51)\n",
      "(784,)\n"
     ]
    }
   ],
   "source": [
    "print(dbn_learner.RBM_layer[0].weights.shape)\n",
    "print(data_array[11].shape)"
   ]
  },
  {
   "cell_type": "code",
   "execution_count": 153,
   "metadata": {
    "collapsed": false
   },
   "outputs": [
    {
     "data": {
      "image/png": "iVBORw0KGgoAAAANSUhEUgAAAPwAAAD8CAYAAABTq8lnAAAABHNCSVQICAgIfAhkiAAAAAlwSFlz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\n7BEs4S0s9giW8BYWewRLeAuLPcL/B2GB5De87z33AAAAAElFTkSuQmCC\n",
      "text/plain": [
       "<matplotlib.figure.Figure at 0x10c995410>"
      ]
     },
     "metadata": {},
     "output_type": "display_data"
    },
    {
     "data": {
      "image/png": "iVBORw0KGgoAAAANSUhEUgAAAPwAAAD8CAYAAABTq8lnAAAABHNCSVQICAgIfAhkiAAAAAlwSFlz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\nUBRE0wcAAAAASUVORK5CYII=\n",
      "text/plain": [
       "<matplotlib.figure.Figure at 0x10cc08f50>"
      ]
     },
     "metadata": {},
     "output_type": "display_data"
    }
   ],
   "source": [
    "h = dbn_learner._dbn_sample_h_given_v(data_array[11])\n",
    "v = dbn_learner._dbn_sample_v_given_h(h)\n",
    "\n",
    "plt.imshow(v.reshape(28,28), cmap = 'Greys')\n",
    "plt.show()\n",
    "\n",
    "plt.imshow(data_array[11].reshape(28,28), cmap = 'Greys')\n",
    "plt.show()"
   ]
  },
  {
   "cell_type": "code",
   "execution_count": 154,
   "metadata": {
    "collapsed": false
   },
   "outputs": [
    {
     "name": "stdout",
     "output_type": "stream",
     "text": [
      "Epoch:  0 , Error:  47051392.9903\n",
      "Epoch:  1 , Error:  45211103.5609\n",
      "Epoch:  2 , Error:  6780073.84362\n",
      "Epoch:  3 , Error:  11032760.3835\n",
      "Epoch:  4 , Error:  9680449.88479\n",
      "Epoch:  5 , Error:  7730288.15195\n",
      "Epoch:  6 , Error:  6778437.00564\n",
      "Epoch:  7 , Error:  6163621.32749\n",
      "Epoch:  8 , Error:  6128918.39686\n",
      "Epoch:  9 , Error:  5820261.36833\n",
      "Epoch:  10 , Error:  5809841.33918\n",
      "Epoch:  11 , Error:  5590761.33879\n",
      "Epoch:  12 , Error:  5540502.89319\n",
      "Epoch:  13 , Error:  5377457.931\n",
      "Epoch:  14 , Error:  5309275.89461\n",
      "Epoch:  15 , Error:  5180346.9861\n",
      "Epoch:  16 , Error:  5097191.92852\n",
      "Epoch:  17 , Error:  5001833.38896\n",
      "Epoch:  18 , Error:  4902492.27596\n",
      "Epoch:  19 , Error:  4837232.32982\n",
      "Epoch:  20 , Error:  4720016.65414\n",
      "Epoch:  21 , Error:  4674950.3209\n",
      "Epoch:  22 , Error:  4555731.18859\n",
      "Epoch:  23 , Error:  4522319.40386\n",
      "Epoch:  24 , Error:  4404730.17699\n",
      "Epoch:  25 , Error:  4380153.63134\n",
      "Epoch:  26 , Error:  4272934.06101\n",
      "Epoch:  27 , Error:  4251314.1301\n",
      "Epoch:  28 , Error:  4157781.50383\n",
      "Epoch:  29 , Error:  4135405.54222\n",
      "Epoch:  30 , Error:  4061210.19338\n",
      "Epoch:  31 , Error:  4034957.19594\n",
      "Epoch:  32 , Error:  3975419.91657\n",
      "Epoch:  33 , Error:  3946653.12846\n",
      "Epoch:  34 , Error:  3900369.49038\n",
      "Epoch:  35 , Error:  3869991.65545\n",
      "Epoch:  36 , Error:  3832669.45412\n",
      "Epoch:  37 , Error:  3800831.79648\n",
      "Epoch:  38 , Error:  3768791.40807\n",
      "Epoch:  39 , Error:  3740690.90699\n",
      "Epoch:  40 , Error:  3713451.30922\n",
      "Epoch:  41 , Error:  3687047.76314\n",
      "Epoch:  42 , Error:  3661422.56478\n",
      "Epoch:  43 , Error:  3636671.39943\n",
      "Epoch:  44 , Error:  3614304.71544\n",
      "Epoch:  45 , Error:  3591141.10401\n",
      "Epoch:  46 , Error:  3570008.34086\n",
      "Epoch:  47 , Error:  3548498.99451\n",
      "Epoch:  48 , Error:  3529083.26743\n",
      "Epoch:  49 , Error:  3509728.57708\n",
      "Epoch:  50 , Error:  3491772.84929\n",
      "Epoch:  51 , Error:  3473689.13334\n",
      "Epoch:  52 , Error:  3456576.83403\n",
      "Epoch:  53 , Error:  3440218.1846\n",
      "Epoch:  54 , Error:  3421980.57927\n",
      "Epoch:  55 , Error:  3407684.64791\n",
      "Epoch:  56 , Error:  3392671.46522\n",
      "Epoch:  57 , Error:  3377843.33946\n",
      "Epoch:  58 , Error:  3363724.88823\n",
      "Epoch:  59 , Error:  3351269.61322\n",
      "Epoch:  60 , Error:  3336920.1577\n",
      "Epoch:  61 , Error:  3324442.14438\n",
      "Epoch:  62 , Error:  3311420.71656\n",
      "Epoch:  63 , Error:  3299055.05127\n",
      "Epoch:  64 , Error:  3287255.68756\n",
      "Epoch:  65 , Error:  3275308.18674\n",
      "Epoch:  66 , Error:  3263596.27543\n",
      "Epoch:  67 , Error:  3253070.0335\n",
      "Epoch:  68 , Error:  3242451.3944\n",
      "Epoch:  69 , Error:  3231583.10284\n",
      "Epoch:  70 , Error:  3220463.47088\n",
      "Epoch:  71 , Error:  3210048.54935\n",
      "Epoch:  72 , Error:  3200635.88251\n",
      "Epoch:  73 , Error:  3191300.00482\n",
      "Epoch:  74 , Error:  3181645.92842\n",
      "Epoch:  75 , Error:  3172627.66679\n",
      "Epoch:  76 , Error:  3162539.52984\n",
      "Epoch:  77 , Error:  3155009.30524\n",
      "Epoch:  78 , Error:  3145592.84896\n",
      "Epoch:  79 , Error:  3136356.83136\n",
      "Epoch:  80 , Error:  3128020.6862\n",
      "Epoch:  81 , Error:  3119495.15941\n",
      "Epoch:  82 , Error:  3111880.68512\n",
      "Epoch:  83 , Error:  3103460.19738\n",
      "Epoch:  84 , Error:  3096613.10016\n",
      "Epoch:  85 , Error:  3088313.20065\n",
      "Epoch:  86 , Error:  3080717.15371\n",
      "Epoch:  87 , Error:  3074298.07871\n",
      "Epoch:  88 , Error:  3066207.84464\n",
      "Epoch:  89 , Error:  3058596.46555\n",
      "Epoch:  90 , Error:  3052702.2588\n",
      "Epoch:  91 , Error:  3044917.14062\n",
      "Epoch:  92 , Error:  3039302.93142\n",
      "Epoch:  93 , Error:  3032141.74919\n",
      "Epoch:  94 , Error:  3025897.00611\n",
      "Epoch:  95 , Error:  3019888.23388\n",
      "Epoch:  96 , Error:  3013062.69947\n",
      "Epoch:  97 , Error:  3006923.54425\n",
      "Epoch:  98 , Error:  3001141.92864\n",
      "Epoch:  99 , Error:  2995138.89488\n",
      "Epoch:  100 , Error:  2990014.3944\n"
     ]
    }
   ],
   "source": [
    "'''\n",
    "Vincent's old RBM tests\n",
    "'''\n",
    "\n",
    "visible_units = data_array.shape[1]\n",
    "epochs = 100\n",
    "hidden_layers = 50\n",
    "learning_rate = 0.4\n",
    "\n",
    "r = RBM(data_array, visible_units, hidden_layers, epochs, learning_rate)\n",
    "sample = r.CDk()"
   ]
  },
  {
   "cell_type": "code",
   "execution_count": 185,
   "metadata": {
    "collapsed": false
   },
   "outputs": [
    {
     "data": {
      "image/png": "iVBORw0KGgoAAAANSUhEUgAAAPwAAAD8CAYAAABTq8lnAAAABHNCSVQICAgIfAhkiAAAAAlwSFlz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\nYII=\n",
      "text/plain": [
       "<matplotlib.figure.Figure at 0x11b59d8d0>"
      ]
     },
     "metadata": {},
     "output_type": "display_data"
    },
    {
     "data": {
      "image/png": "iVBORw0KGgoAAAANSUhEUgAAAPwAAAD8CAYAAABTq8lnAAAABHNCSVQICAgIfAhkiAAAAAlwSFlz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\nUBRE0wcAAAAASUVORK5CYII=\n",
      "text/plain": [
       "<matplotlib.figure.Figure at 0x11b98e2d0>"
      ]
     },
     "metadata": {},
     "output_type": "display_data"
    }
   ],
   "source": [
    "plt.imshow(sample[11][1:].reshape(28,28) > np.random.rand(28,28), cmap = 'Greys')\n",
    "plt.show()\n",
    "#print(sample[11][1:].reshape(28,28))\n",
    "plt.imshow(data_array[11].reshape(28,28), cmap = 'Greys')\n",
    "plt.show()"
   ]
  },
  {
   "cell_type": "code",
   "execution_count": null,
   "metadata": {
    "collapsed": true
   },
   "outputs": [],
   "source": []
  },
  {
   "cell_type": "code",
   "execution_count": null,
   "metadata": {
    "collapsed": true
   },
   "outputs": [],
   "source": []
  }
 ],
 "metadata": {
  "kernelspec": {
   "display_name": "Python 2",
   "language": "python",
   "name": "python2"
  },
  "language_info": {
   "codemirror_mode": {
    "name": "ipython",
    "version": 2
   },
   "file_extension": ".py",
   "mimetype": "text/x-python",
   "name": "python",
   "nbconvert_exporter": "python",
   "pygments_lexer": "ipython2",
   "version": "2.7.9"
  }
 },
 "nbformat": 4,
 "nbformat_minor": 0
}
