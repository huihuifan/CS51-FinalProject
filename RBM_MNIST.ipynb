{
 "cells": [
  {
   "cell_type": "code",
   "execution_count": 1,
   "metadata": {
    "collapsed": false
   },
   "outputs": [],
   "source": [
    "%matplotlib inline\n",
    "\n",
    "from __future__ import absolute_import, print_function, unicode_literals, division\n",
    "from sklearn.datasets import fetch_mldata\n",
    "import matplotlib.pyplot as plt\n",
    "import numpy as np\n",
    "import pandas as pd\n",
    "import itertools\n",
    "import random as rand\n",
    "import copy"
   ]
  },
  {
   "cell_type": "code",
   "execution_count": 2,
   "metadata": {
    "collapsed": false
   },
   "outputs": [
    {
     "name": "stdout",
     "output_type": "stream",
     "text": [
      "(70000, 784)\n"
     ]
    }
   ],
   "source": [
    "DATA_PATH = '~/data'\n",
    "mnist = fetch_mldata('MNIST original', data_home=DATA_PATH)\n",
    "print(mnist.data.shape)"
   ]
  },
  {
   "cell_type": "code",
   "execution_count": 3,
   "metadata": {
    "collapsed": false
   },
   "outputs": [
    {
     "name": "stdout",
     "output_type": "stream",
     "text": [
      "[  0   0   0   0   0   0   0   0   0   0   0   0   0   0   0   0   0   0\n",
      "   0   0   0   0   0   0   0   0   0   0   0   0   0   0   0   0   0   0\n",
      "   0   0   0   0   0   0   0   0   0   0   0   0   0   0   0   0   0   0\n",
      "   0   0   0   0   0   0   0   0   0   0   0   0   0   0   0   0   0   0\n",
      "   0   0   0   0   0   0   0   0   0   0   0   0   0   0   0   0   0   0\n",
      "   0   0   0   0   0   0   0   0   0   0   0   0   0   0   0   0   0   0\n",
      "   0   0   0   0   0   0   0   0   0   0   0   0   0   0   0   0   0   0\n",
      "   0  51 159 253 159  50   0   0   0   0   0   0   0   0   0   0   0   0\n",
      "   0   0   0   0   0   0   0   0   0   0  48 238 252 252 252 237   0   0\n",
      "   0   0   0   0   0   0   0   0   0   0   0   0   0   0   0   0   0   0\n",
      "   0  54 227 253 252 239 233 252  57   6   0   0   0   0   0   0   0   0\n",
      "   0   0   0   0   0   0   0   0   0  10  60 224 252 253 252 202  84 252\n",
      " 253 122   0   0   0   0   0   0   0   0   0   0   0   0   0   0   0   0\n",
      "   0 163 252 252 252 253 252 252  96 189 253 167   0   0   0   0   0   0\n",
      "   0   0   0   0   0   0   0   0   0   0  51 238 253 253 190 114 253 228\n",
      "  47  79 255 168   0   0   0   0   0   0   0   0   0   0   0   0   0   0\n",
      "   0  48 238 252 252 179  12  75 121  21   0   0 253 243  50   0   0   0\n",
      "   0   0   0   0   0   0   0   0   0   0  38 165 253 233 208  84   0   0\n",
      "   0   0   0   0 253 252 165   0   0   0   0   0   0   0   0   0   0   0\n",
      "   0   7 178 252 240  71  19  28   0   0   0   0   0   0 253 252 195   0\n",
      "   0   0   0   0   0   0   0   0   0   0   0  57 252 252  63   0   0   0\n",
      "   0   0   0   0   0   0 253 252 195   0   0   0   0   0   0   0   0   0\n",
      "   0   0   0 198 253 190   0   0   0   0   0   0   0   0   0   0 255 253\n",
      " 196   0   0   0   0   0   0   0   0   0   0   0  76 246 252 112   0   0\n",
      "   0   0   0   0   0   0   0   0 253 252 148   0   0   0   0   0   0   0\n",
      "   0   0   0   0  85 252 230  25   0   0   0   0   0   0   0   0   7 135\n",
      " 253 186  12   0   0   0   0   0   0   0   0   0   0   0  85 252 223   0\n",
      "   0   0   0   0   0   0   0   7 131 252 225  71   0   0   0   0   0   0\n",
      "   0   0   0   0   0   0  85 252 145   0   0   0   0   0   0   0  48 165\n",
      " 252 173   0   0   0   0   0   0   0   0   0   0   0   0   0   0  86 253\n",
      " 225   0   0   0   0   0   0 114 238 253 162   0   0   0   0   0   0   0\n",
      "   0   0   0   0   0   0   0   0  85 252 249 146  48  29  85 178 225 253\n",
      " 223 167  56   0   0   0   0   0   0   0   0   0   0   0   0   0   0   0\n",
      "  85 252 252 252 229 215 252 252 252 196 130   0   0   0   0   0   0   0\n",
      "   0   0   0   0   0   0   0   0   0   0  28 199 252 252 253 252 252 233\n",
      " 145   0   0   0   0   0   0   0   0   0   0   0   0   0   0   0   0   0\n",
      "   0   0   0  25 128 252 253 252 141  37   0   0   0   0   0   0   0   0\n",
      "   0   0   0   0   0   0   0   0   0   0   0   0   0   0   0   0   0   0\n",
      "   0   0   0   0   0   0   0   0   0   0   0   0   0   0   0   0   0   0\n",
      "   0   0   0   0   0   0   0   0   0   0   0   0   0   0   0   0   0   0\n",
      "   0   0   0   0   0   0   0   0   0   0   0   0   0   0   0   0   0   0\n",
      "   0   0   0   0   0   0   0   0   0   0   0   0   0   0   0   0   0   0\n",
      "   0   0   0   0   0   0   0   0   0   0   0   0   0   0   0   0   0   0\n",
      "   0   0   0   0   0   0   0   0   0   0]\n",
      "(70000, 784)\n"
     ]
    }
   ],
   "source": [
    "data_array = mnist.data\n",
    "print(data_array[0])\n",
    "print(data_array.shape)"
   ]
  },
  {
   "cell_type": "code",
   "execution_count": 4,
   "metadata": {
    "collapsed": false
   },
   "outputs": [
    {
     "data": {
      "image/png": "[encoded data removed]",
      "text/plain": [
       "<matplotlib.figure.Figure at 0x108fd0f50>"
      ]
     },
     "metadata": {},
     "output_type": "display_data"
    }
   ],
   "source": [
    "plt.imshow(data_array[0].reshape(28, 28), cmap = 'Greys')\n",
    "plt.show()"
   ]
  },
  {
   "cell_type": "code",
   "execution_count": 5,
   "metadata": {
    "collapsed": false
   },
   "outputs": [
    {
     "data": {
      "image/png": "[encoded data removed]",
      "text/plain": [
       "<matplotlib.figure.Figure at 0x109075e90>"
      ]
     },
     "metadata": {},
     "output_type": "display_data"
    }
   ],
   "source": [
    "#Convert image to binary matrix\n",
    "for img in data_array:\n",
    "    img[img < 100] = 0\n",
    "    img[img > 0] = 1\n",
    "\n",
    "plt.imshow(data_array[0].reshape(28, 28), cmap = 'Greys')\n",
    "plt.show()"
   ]
  },
  {
   "cell_type": "code",
   "execution_count": 6,
   "metadata": {
    "collapsed": false
   },
   "outputs": [],
   "source": [
    "class RBM(object):\n",
    "    \"\"\"\n",
    "    Implementation of Restricted Boltzmann Machine \n",
    "    \"\"\"\n",
    "\n",
    "    def __init__(self, data, num_hidden, num_visible, learning_rate):\n",
    "        self.data = data\n",
    "        self.num_hidden = num_hidden\n",
    "        self.num_vis = num_visible\n",
    "        self.learning_rate = learning_rate\n",
    "\n",
    "        # set weight matrix first row and first column to be RBM bias\n",
    "        self.weights = np.random.rand(self.num_visible, self.num_hidden) \n",
    "        self.weights = np.insert(self.weights, 0, 0, axis = 0)\n",
    "        self.weights = np.insert(self.weights, 0, 0, axis = 1)\n",
    "        \n",
    "        self.hidden_states = np.random.rand(self.num_hidden + 1)\n",
    "        self.visible_states = np.concatenate((np.ones((self.num_data,1)), self.data),axis=1)\n",
    "\n",
    "        self.num_data = data.shape[0]\n",
    "\n",
    "    # Logistic Sigmoid Function\n",
    "    def _sigmoid(self,x):\n",
    "        return 1.0/(1.0+np.exp(-x))\n",
    "    \n",
    "    # Binomial Sampling Function\n",
    "    def _binom_sample(self, a, b):\n",
    "        prob = self._sigmoid(np.dot(a,b))\n",
    "        sample = [np.random.binomial(n=1, p=i) for i in prob]\n",
    "        return np.array(sample)\n",
    "    \n",
    "    # Predict hidden given visible\n",
    "    def _sample_h_given_v(self, v):\n",
    "        return self._binom_sample(self.weights.T, v.T)#DIMENSIONS DON'T WORK UNLESS TAKE OFF THE FIRST ROW\n",
    "        #BECAUSE THE PREDICTION FOR TOY DATASET INCLUDED THE BIAS.  THIS WILL BE VERY HARD WHEN DEALING WITH IMAGES.\n",
    "\n",
    "    # Predict visible given hidden\n",
    "    def _sample_v_given_h(self, h):\n",
    "        return self._binom_sample(self.weights, h)\n",
    "    \n",
    "    def propagate_up(self, vis):\n",
    "        \"\"\"\n",
    "        Propagates visible layer activation to hidden layer\n",
    "        \"\"\"\n",
    "        # add in bias\n",
    "        vis = np.insert(vis, 0, 1, axis=0)\n",
    "        vis = np.insert(vis, 0, 1, axis=1)\n",
    "        vis_activation = self._sigmoid(np.dot(vis, self.weights))\n",
    "        sample = [np.random.binomial(n=1, p=i) for i in vis_activation]\n",
    "        \n",
    "        return [vis_activation, sample]\n",
    "\n",
    "    def propagate_down(self, hid):\n",
    "        \"\"\"\n",
    "        Propagates hidden layer activation to visible layer\n",
    "        \"\"\"\n",
    "        hidden_activation = self._sigmoid(np.dot(hid, self.weights.T))\n",
    "        return hidden_activation\n",
    "\n",
    "    \n",
    "    def CDk(self, max_epochs=1000):\n",
    "        \"\"\"\n",
    "        Trains the RBM\n",
    "        \"\"\"\n",
    "        \n",
    "        for epoch in xrange(0,max_epochs):\n",
    "\n",
    "            data = np.insert(self.data, 0, 1, axis=1)\n",
    "            data = np.insert(data, 0, 1, axis=0)\n",
    "            \n",
    "            # CDk positive phase\n",
    "            up_data = self.propagate_up(self.data)\n",
    "            up_associations = np.dot(data.T, up_data[1])\n",
    "            \n",
    "            # CDk negative phase\n",
    "            down_vis_probs = self.propagate_down(up_data[0])\n",
    "            down_vis_probs[:,0] = 1 #remove the bias layer\n",
    "            down_associations = self.propagate_down(down_vis_probs.T) #I REMOVED THE TRANSPOSE!!!\n",
    "            down_associations = np.dot(down_vis_probs.T, down_associations)\n",
    "            \n",
    "            self.weights += self.learning_rate * \\\n",
    "                ((up_associations - down_associations)/self.num_data)\n",
    "                \n",
    "            error = np.sum((data - down_vis_probs) ** 2)\n",
    "            print(\"Epoch: \", epoch, \", Error: \", error)\n",
    "    \n",
    "    \n",
    "    def Gibbs_alternating(num_gen_samples):\n",
    "        samples = np.ones((num_gen_samples, self.num_vis + 1))\n",
    "        samples[0,1:] = np.random.rand(self.num_vis)\n",
    "        for i in xrange(0, self.num_data-1):\n",
    "            # calculate hidden from visible\n",
    "            v = samples [i,:]\n",
    "            h = _sample_h_given_v(v)\n",
    "            h[0] = 1\n",
    "            # calculate visible\n",
    "            v = _sample_v_given_h(h)\n",
    "            samples[i+1,:] = v      \n",
    "        return samples[:,1:]\n",
    "    "
   ]
  },
  {
   "cell_type": "code",
   "execution_count": null,
   "metadata": {
    "collapsed": false
   },
   "outputs": [],
   "source": [
    "r = RBM(data_array, 784, 3, .1)\n",
    "sample = r.CDk(max_epochs=10)\n",
    "print(r.weights)\n",
    "#user = data[11] #np.array([[1, 0, 0, 0, 1, 0]])\n",
    "#print(r._sample_h_given_v(user))"
   ]
  },
  {
   "cell_type": "code",
   "execution_count": null,
   "metadata": {
    "collapsed": false
   },
   "outputs": [],
   "source": []
  }
 ],
 "metadata": {
  "kernelspec": {
   "display_name": "Python 2",
   "language": "python",
   "name": "python2"
  },
  "language_info": {
   "codemirror_mode": {
    "name": "ipython",
    "version": 2
   },
   "file_extension": ".py",
   "mimetype": "text/x-python",
   "name": "python",
   "nbconvert_exporter": "python",
   "pygments_lexer": "ipython2",
   "version": "2.7.9"
  }
 },
 "nbformat": 4,
 "nbformat_minor": 0
}
