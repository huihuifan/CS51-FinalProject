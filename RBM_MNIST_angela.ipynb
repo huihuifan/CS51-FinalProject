{
 "cells": [
  {
   "cell_type": "code",
   "execution_count": 1,
   "metadata": {
    "collapsed": false
   },
   "outputs": [],
   "source": [
    "%matplotlib inline\n",
    "\n",
    "from __future__ import absolute_import, print_function, unicode_literals, division\n",
    "from sklearn.datasets import fetch_mldata\n",
    "import matplotlib.pyplot as plt\n",
    "import numpy as np\n",
    "import pandas as pd\n",
    "import itertools\n",
    "import random as rand\n",
    "import copy\n",
    "from pylab import rcParams"
   ]
  },
  {
   "cell_type": "code",
   "execution_count": 2,
   "metadata": {
    "collapsed": false
   },
   "outputs": [
    {
     "name": "stdout",
     "output_type": "stream",
     "text": [
      "(70000, 784)\n"
     ]
    }
   ],
   "source": [
    "DATA_PATH = '~/data'\n",
    "mnist = fetch_mldata('MNIST original', data_home=DATA_PATH)\n",
    "print(mnist.data.shape)"
   ]
  },
  {
   "cell_type": "code",
   "execution_count": 3,
   "metadata": {
    "collapsed": false
   },
   "outputs": [
    {
     "data": {
      "image/png": "[encoded data removed]",
      "text/plain": [
       "<matplotlib.figure.Figure at 0x1090ca6d0>"
      ]
     },
     "metadata": {},
     "output_type": "display_data"
    }
   ],
   "source": [
    "data_array = mnist.data\n",
    "plt.imshow(data_array[0].reshape(28, 28), cmap = 'Greys')\n",
    "plt.show()"
   ]
  },
  {
   "cell_type": "code",
   "execution_count": 4,
   "metadata": {
    "collapsed": false
   },
   "outputs": [
    {
     "data": {
      "image/png": "[encoded data removed]",
      "text/plain": [
       "<matplotlib.figure.Figure at 0x109135a50>"
      ]
     },
     "metadata": {},
     "output_type": "display_data"
    }
   ],
   "source": [
    "#Convert image to binary matrix\n",
    "for img in data_array:\n",
    "    img[img < 100] = 0\n",
    "    img[img > 0] = 1\n",
    "\n",
    "plt.imshow(data_array[0].reshape(28, 28), cmap = 'Greys')\n",
    "plt.show()"
   ]
  },
  {
   "cell_type": "code",
   "execution_count": 93,
   "metadata": {
    "collapsed": false
   },
   "outputs": [],
   "source": [
    "class RBM(object):\n",
    "    \"\"\"\n",
    "    Implementation of Restricted Boltzmann Machine for binary prediction\n",
    "    \n",
    "    Inputs:\n",
    "    Data\n",
    "    Number of hidden and visible states\n",
    "    Learning rate, default set to 0.1\n",
    "    \n",
    "    Outputs:\n",
    "    Weight matrix\n",
    "    Epoch number and error\n",
    "    \"\"\"\n",
    "\n",
    "    def __init__(self, data, num_visible, num_hidden, num_epochs, learning_rate=0.1):\n",
    "        \n",
    "        self.data = data\n",
    "        self.num_data = data.shape[0]\n",
    "        self.num_hidden = num_hidden\n",
    "        self.num_visible = num_visible\n",
    "        self.learning_rate = learning_rate\n",
    "        self.num_epochs = num_epochs\n",
    "\n",
    "        # weight matrix first row and first column represent the bias\n",
    "        self.weights = np.random.rand(self.num_visible, self.num_hidden) \n",
    "        self.weights = np.insert(self.weights, 0, 0, axis = 0)\n",
    "        self.weights = np.insert(self.weights, 0, 0, axis = 1)\n",
    "    \n",
    "    def _sigmoid(self,x):\n",
    "        return 1.0/(1.0+np.exp(-x))\n",
    "    \n",
    "    def _gen_prob(self,a,b):\n",
    "        return self._sigmoid(np.dot(a,b))\n",
    "    \n",
    "    def _gen_assoc(self,a):\n",
    "        probs = self._gen_prob(a,self.weights)\n",
    "        return np.dot(a.T,probs)\n",
    "\n",
    "    def CDk(self):\n",
    "        max_epochs = self.num_epochs + 1\n",
    "        self.data = np.insert(self.data, 0, 1, axis=1)\n",
    "        \n",
    "        error_array = []\n",
    "        \n",
    "        for epoch in xrange(0, max_epochs):\n",
    "            up_probs = self._gen_prob(self.data,self.weights)\n",
    "            up_associations = self._gen_assoc(self.data)\n",
    "            up_states = up_probs > np.random.rand(self.num_data, self.num_hidden + 1)\n",
    "            \n",
    "            down_probs = self._gen_prob(up_states,self.weights.T)\n",
    "            down_probs[:,0] = 1 \n",
    "            down_associations = self._gen_assoc(down_probs)\n",
    "            \n",
    "            self.weights += self.learning_rate * \\\n",
    "                ((up_associations - down_associations)/self.num_data)\n",
    "                \n",
    "            error = np.sum((self.data - down_probs) ** 2)\n",
    "            error_array.append(error)\n",
    "            print(\"Epoch: \", epoch, \", Error: \", error)\n",
    "            \n",
    "            if epoch == self.num_epochs:\n",
    "                return down_probs, error_array\n",
    "               "
   ]
  },
  {
   "cell_type": "code",
   "execution_count": 78,
   "metadata": {
    "collapsed": false
   },
   "outputs": [
    {
     "name": "stdout",
     "output_type": "stream",
     "text": [
      "47051393.0\n",
      "Epoch:  0 , Error:  47051393.0\n",
      "47051392.9654\n",
      "Epoch:  1 , Error:  47051392.9654\n",
      "7308860.86024\n",
      "Epoch:  2 , Error:  7308860.86024\n",
      "[47051393.0, 47051392.965390526, 7308860.86023991]\n",
      "[[  3.21447212e-04  -2.47357698e-01  -1.21429092e-01 ...,  -1.45253615e-01\n",
      "   -9.22509595e-02  -1.99492148e-01]\n",
      " [ -2.00000000e-01   6.02450218e-02  -7.41201867e-01 ...,  -6.72183979e-01\n",
      "   -5.97830013e-01  -5.43456448e-01]\n",
      " [ -2.00000000e-01  -3.67659345e-01  -3.60639876e-01 ...,  -3.86783113e-02\n",
      "   -9.81620490e-02  -6.16417470e-01]\n",
      " ..., \n",
      " [ -2.00000000e-01  -1.68764542e-01  -7.84892750e-01 ...,  -3.36015620e-01\n",
      "   -2.61816973e-01  -7.37657201e-01]\n",
      " [ -2.00000000e-01  -1.60948590e-02   1.23479290e-01 ...,  -5.89437740e-01\n",
      "    4.27307764e-02   7.20609213e-03]\n",
      " [ -2.00000000e-01  -6.90983309e-01   6.96088393e-02 ...,  -7.97596637e-01\n",
      "   -6.29076778e-01  -1.70609732e-01]]\n"
     ]
    }
   ],
   "source": [
    "visible_units = data_array.shape[1]\n",
    "epochs = 2\n",
    "hidden_layers = 300\n",
    "learning_rate = 0.4\n",
    "\n",
    "r = RBM(data_array, visible_units, hidden_layers, epochs, learning_rate)\n",
    "sample = r.CDk()\n",
    "print(r.weights)"
   ]
  },
  {
   "cell_type": "code",
   "execution_count": 90,
   "metadata": {
    "collapsed": false
   },
   "outputs": [
    {
     "data": {
      "text/plain": [
       "<matplotlib.text.Text at 0x119c7b110>"
      ]
     },
     "execution_count": 90,
     "metadata": {},
     "output_type": "execute_result"
    },
    {
     "data": {
      "image/png": "[encoded data removed]",
      "text/plain": [
       "<matplotlib.figure.Figure at 0x125423890>"
      ]
     },
     "metadata": {},
     "output_type": "display_data"
    }
   ],
   "source": [
    "rcParams['figure.figsize'] = 5, 5\n",
    "err = sample[1]\n",
    "plt.plot(err)\n",
    "plt.ylabel(\"Error\")\n",
    "plt.xlabel(\"Epoch\")\n",
    "plt.title(\"Error over Epochs\")"
   ]
  },
  {
   "cell_type": "code",
   "execution_count": 74,
   "metadata": {
    "collapsed": false
   },
   "outputs": [
    {
     "data": {
      "text/plain": [
       "array([  1.00000000e+00,   1.89473288e-07,   4.15785452e-08,\n",
       "         1.29842642e-07,   5.41539281e-07,   5.66150145e-06,\n",
       "         2.15063247e-06,   1.47916574e-08,   1.32944019e-07,\n",
       "         4.12742452e-08,   2.47364456e-08,   6.78216052e-06,\n",
       "         4.26411607e-07,   5.59405902e-08,   6.32887099e-08,\n",
       "         1.56231872e-07,   1.44807767e-07,   1.01222911e-07,\n",
       "         3.94194164e-07,   2.50126241e-06,   4.98291783e-08,\n",
       "         8.80802670e-07,   1.24885228e-07,   6.08729075e-07,\n",
       "         9.14853742e-08,   3.12012437e-06,   3.55060489e-08,\n",
       "         7.08020961e-08,   4.82256975e-08,   1.33576765e-06,\n",
       "         6.52004068e-08,   1.13156164e-06,   1.81490544e-07,\n",
       "         9.97086123e-07,   4.31269702e-07,   6.32513820e-08,\n",
       "         6.47113432e-07,   5.33358338e-07,   8.95088446e-06,\n",
       "         1.58694763e-07,   1.53276364e-07,   9.31591350e-07,\n",
       "         2.78499894e-07,   2.11210170e-05,   1.98324707e-07,\n",
       "         1.12474175e-07,   3.30978920e-08,   6.14565257e-08,\n",
       "         6.85314220e-07,   1.09492869e-06,   2.17010935e-07,\n",
       "         1.88914465e-05,   6.11690762e-07,   2.89710301e-08,\n",
       "         5.96123661e-07,   2.99269506e-07,   2.33026742e-05,\n",
       "         1.82634706e-06,   3.39461399e-08,   5.84005728e-07,\n",
       "         2.60152273e-09,   7.34607067e-07,   1.21543180e-06,\n",
       "         7.40566993e-07,   4.38246196e-07,   1.99829313e-06,\n",
       "         1.88323895e-07,   5.28675273e-08,   6.52080658e-07,\n",
       "         2.11661450e-06,   1.46132257e-07,   7.39151608e-08,\n",
       "         1.33174403e-06,   3.26531723e-06,   7.62087560e-07,\n",
       "         1.02993610e-07,   4.69505979e-08,   1.57491868e-06,\n",
       "         3.19202267e-08,   5.16723766e-08,   9.57475315e-09,\n",
       "         2.14224723e-06,   3.52393004e-07,   1.18571864e-07,\n",
       "         2.18573204e-08,   3.17421714e-07,   6.72293105e-07,\n",
       "         5.38944102e-08,   2.19008333e-06,   2.31127556e-07,\n",
       "         2.13142581e-07,   1.07350900e-07,   1.33074114e-06,\n",
       "         9.91597441e-06,   1.22412939e-07,   9.97005954e-07,\n",
       "         4.31616853e-07,   1.45206520e-07,   1.34703607e-06,\n",
       "         5.02514142e-08,   4.69706704e-06,   1.96375326e-06,\n",
       "         9.45651409e-07,   2.21264981e-05,   2.88151235e-06,\n",
       "         7.47927492e-06,   3.22939878e-06,   1.28027458e-05,\n",
       "         5.50280284e-08,   5.38654938e-07,   2.32026364e-06,\n",
       "         9.37538715e-08,   4.66808038e-07,   3.76132071e-06,\n",
       "         4.92303461e-09,   1.87630891e-06,   2.33065120e-08,\n",
       "         6.53870990e-07,   5.67179338e-08,   2.75694324e-06,\n",
       "         7.01567140e-06,   4.98923227e-07,   2.94727441e-06,\n",
       "         2.39834255e-06,   1.71530977e-05,   7.99774797e-07,\n",
       "         4.62607301e-05,   1.19844079e-03,   2.61146204e-04,\n",
       "         2.29510828e-02,   9.45671069e-05,   5.12616639e-05,\n",
       "         5.03814116e-06,   1.67624859e-05,   4.15478855e-07,\n",
       "         4.72106037e-06,   7.40921007e-07,   1.57894570e-06,\n",
       "         1.27856361e-07,   2.27052248e-07,   3.90914989e-08,\n",
       "         3.28495461e-07,   6.87736625e-06,   4.72885248e-07,\n",
       "         4.93596906e-07,   8.96991115e-08,   5.72675077e-09,\n",
       "         1.26063161e-07,   7.64392712e-07,   1.44664994e-07,\n",
       "         7.96680259e-06,   3.96459982e-06,   1.10900001e-04,\n",
       "         1.11233982e-02,   3.25052309e-01,   9.27347746e-01,\n",
       "         7.48637614e-01,   1.28501239e-01,   3.45605962e-01,\n",
       "         1.81076467e-01,   1.69822051e-03,   3.39994350e-04,\n",
       "         2.32067985e-05,   2.69757886e-06,   4.98500597e-07,\n",
       "         7.22623870e-06,   1.64874681e-07,   1.05504187e-05,\n",
       "         4.70839960e-08,   1.95497870e-08,   3.63827643e-08,\n",
       "         1.27517404e-08,   1.21087568e-06,   2.08770686e-06,\n",
       "         5.16287229e-06,   3.23342613e-06,   1.66863309e-05,\n",
       "         8.74069816e-06,   3.50378446e-05,   6.18903905e-03,\n",
       "         8.48602365e-02,   9.68073916e-01,   7.67164162e-01,\n",
       "         9.83805897e-01,   9.96448648e-01,   9.99948846e-01,\n",
       "         9.98636127e-01,   9.84919110e-01,   1.10983442e-01,\n",
       "         9.33217196e-04,   1.11137793e-04,   1.89342240e-06,\n",
       "         3.69663299e-07,   1.03478400e-07,   3.86539960e-07,\n",
       "         3.71030481e-06,   2.00310401e-07,   1.87464958e-05,\n",
       "         3.06935872e-07,   1.05395534e-07,   6.98684880e-08,\n",
       "         2.28099208e-05,   7.34944838e-06,   1.64873308e-06,\n",
       "         1.24752182e-06,   1.89030424e-04,   3.37801026e-03,\n",
       "         4.31568891e-02,   5.65700684e-01,   9.95723720e-01,\n",
       "         9.99725991e-01,   9.89151417e-01,   9.99995267e-01,\n",
       "         9.89540978e-01,   9.98502855e-01,   9.99145381e-01,\n",
       "         9.60533817e-01,   1.67439520e-01,   7.57877371e-03,\n",
       "         4.88075282e-04,   5.84057382e-06,   1.35676530e-07,\n",
       "         1.84253162e-07,   1.70836208e-06,   2.54212172e-08,\n",
       "         1.32607766e-08,   1.24669538e-06,   1.74218360e-07,\n",
       "         2.88387969e-06,   1.66517050e-07,   1.28837253e-07,\n",
       "         1.54974184e-05,   5.91458472e-05,   9.26024000e-03,\n",
       "         3.29728303e-02,   6.57515738e-01,   9.75805702e-01,\n",
       "         9.95922202e-01,   9.99828006e-01,   9.99603671e-01,\n",
       "         9.99012774e-01,   9.99023166e-01,   9.99703659e-01,\n",
       "         9.86216974e-01,   8.67691605e-01,   2.45086838e-01,\n",
       "         1.97625443e-03,   9.09704646e-05,   1.91701667e-06,\n",
       "         1.52226144e-06,   2.51428279e-06,   1.30120520e-07,\n",
       "         3.65856962e-07,   1.15562720e-07,   2.86532806e-07,\n",
       "         3.66896514e-08,   2.74162562e-07,   4.63927545e-07,\n",
       "         5.16035469e-08,   1.94277359e-06,   9.14717335e-02,\n",
       "         2.93482670e-02,   4.78042627e-01,   7.50038795e-01,\n",
       "         9.90728406e-01,   9.99026959e-01,   9.99771611e-01,\n",
       "         7.98900020e-01,   9.78959659e-01,   9.98128409e-01,\n",
       "         9.88168482e-01,   9.96901695e-01,   9.31909946e-01,\n",
       "         4.80538077e-01,   1.45359118e-02,   7.21962808e-04,\n",
       "         3.67242080e-07,   1.75893557e-06,   1.14634052e-07,\n",
       "         9.16405981e-07,   4.95064898e-08,   1.73104487e-07,\n",
       "         1.31190882e-07,   2.61466474e-07,   6.29883823e-07,\n",
       "         6.34539365e-08,   1.02556697e-06,   2.65596607e-04,\n",
       "         4.25833177e-05,   9.64015780e-04,   6.10235137e-01,\n",
       "         9.96513998e-01,   9.89329755e-01,   9.99559787e-01,\n",
       "         6.46374088e-01,   9.95535021e-02,   1.84924624e-01,\n",
       "         9.61220143e-01,   9.95458603e-01,   9.85103878e-01,\n",
       "         1.75927762e-01,   3.78807049e-01,   1.99468059e-02,\n",
       "         5.29330450e-05,   3.86093858e-07,   5.09418709e-06,\n",
       "         4.38443780e-08,   2.11705704e-07,   4.41172894e-07,\n",
       "         4.94564315e-07,   5.23887613e-09,   4.26801947e-09,\n",
       "         2.80212964e-06,   1.29263744e-09,   6.34892444e-07,\n",
       "         6.49767397e-07,   9.40008772e-05,   1.85992609e-01,\n",
       "         9.72077954e-01,   9.66012528e-01,   9.98126114e-01,\n",
       "         9.54960412e-01,   3.37367179e-02,   1.12602751e-01,\n",
       "         9.02561052e-01,   9.75149202e-01,   9.99672992e-01,\n",
       "         9.47744563e-01,   1.27590428e-01,   7.00289259e-02,\n",
       "         7.46493970e-04,   3.05701588e-06,   9.99364008e-06,\n",
       "         1.31641673e-06,   7.24549013e-06,   2.38702422e-07,\n",
       "         1.53948864e-07,   5.78686193e-07,   4.97321688e-06,\n",
       "         4.17924498e-06,   8.77735160e-09,   1.10843537e-07,\n",
       "         2.95881366e-06,   4.08651010e-06,   4.35496514e-04,\n",
       "         1.52025122e-01,   6.96064024e-01,   7.42674820e-01,\n",
       "         9.39567109e-01,   3.25682899e-01,   1.34336181e-01,\n",
       "         9.58756270e-01,   9.54661607e-01,   9.97759720e-01,\n",
       "         9.99234633e-01,   8.42320180e-01,   4.16486874e-01,\n",
       "         5.87505513e-03,   1.53055869e-04,   4.42068898e-05,\n",
       "         5.68121663e-05,   1.67920325e-07,   2.23608297e-06,\n",
       "         1.76209378e-06,   1.41499762e-08,   2.20330177e-06,\n",
       "         9.85279700e-09,   3.02221071e-08,   6.11271435e-09,\n",
       "         1.07241148e-07,   2.67557719e-06,   4.20352711e-06,\n",
       "         4.67279926e-03,   6.59354738e-01,   9.98899917e-01,\n",
       "         9.98217779e-01,   6.23875805e-01,   3.32458236e-01,\n",
       "         6.05296610e-01,   3.15082700e-01,   9.99939455e-01,\n",
       "         9.99829550e-01,   9.99224031e-01,   5.07091575e-01,\n",
       "         4.80164499e-01,   7.45035664e-04,   4.15691482e-04,\n",
       "         1.62966360e-05,   4.74890883e-06,   4.34498870e-06,\n",
       "         6.59714725e-09,   1.81739765e-06,   1.03500696e-07,\n",
       "         2.87208542e-06,   5.03063703e-07,   5.74391801e-08,\n",
       "         1.02914573e-07,   1.70117547e-06,   2.33070395e-06,\n",
       "         1.07964408e-06,   4.56393541e-03,   2.92497013e-02,\n",
       "         6.59013965e-01,   4.55413677e-01,   4.94680872e-01,\n",
       "         9.03899376e-01,   9.64069685e-01,   9.99967253e-01,\n",
       "         9.99889695e-01,   9.99899745e-01,   8.83289546e-01,\n",
       "         9.52087013e-01,   1.74029415e-01,   2.64432167e-04,\n",
       "         1.94982776e-05,   3.48555881e-04,   2.35362376e-06,\n",
       "         1.42374432e-05,   8.59941882e-06,   2.80848301e-06,\n",
       "         1.25204247e-07,   3.67015333e-06,   6.40939386e-08,\n",
       "         3.74108527e-07,   3.39896739e-07,   1.83931978e-06,\n",
       "         1.64703754e-06,   8.85698984e-04,   3.18965372e-03,\n",
       "         2.97327043e-01,   6.36189368e-01,   8.59095755e-01,\n",
       "         3.68117044e-01,   9.87827755e-01,   9.99792426e-01,\n",
       "         9.96602577e-01,   9.99377558e-01,   9.98414664e-01,\n",
       "         2.97959588e-01,   9.63134935e-01,   7.34794871e-01,\n",
       "         3.05171807e-01,   1.72867369e-04,   2.39183163e-05,\n",
       "         6.37623927e-06,   1.56490759e-07,   4.77381270e-06,\n",
       "         1.08462577e-05,   1.94476073e-09,   1.03147127e-07,\n",
       "         3.11292121e-07,   1.28259404e-07,   6.56965887e-06,\n",
       "         2.35740114e-05,   1.02385801e-04,   6.12512005e-06,\n",
       "         1.66756095e-02,   2.30319294e-01,   8.42971144e-02,\n",
       "         7.97831808e-01,   9.66415406e-01,   6.19670981e-01,\n",
       "         9.82635529e-01,   9.96636373e-01,   9.88514624e-01,\n",
       "         9.32919749e-01,   9.70210792e-01,   2.88496095e-01,\n",
       "         3.73782774e-01,   2.96264734e-02,   9.98258078e-02,\n",
       "         5.69832459e-04,   2.54853962e-06,   1.48478484e-05,\n",
       "         6.23197938e-08,   1.36962967e-07,   5.23727595e-08,\n",
       "         4.25828267e-07,   4.29808853e-07,   1.76650783e-06,\n",
       "         3.81246726e-07,   2.77195220e-05,   1.02215745e-05,\n",
       "         7.30084906e-04,   1.42098118e-02,   9.23224937e-03,\n",
       "         1.03170435e-02,   6.47183262e-03,   4.51186939e-01,\n",
       "         1.29313442e-01,   8.66817286e-01,   9.83481759e-01,\n",
       "         9.97907084e-01,   9.53964261e-01,   5.63361078e-01,\n",
       "         1.25440335e-01,   1.30157012e-01,   8.90079170e-01,\n",
       "         1.17137158e-02,   2.20738222e-05,   2.83454798e-05,\n",
       "         8.04701961e-09,   2.42722802e-07,   4.01235416e-08,\n",
       "         1.37938928e-07,   1.86391622e-07,   2.05818367e-06,\n",
       "         1.05108063e-08,   4.03901377e-08,   6.67995941e-08,\n",
       "         2.42619562e-05,   8.69053250e-03,   2.29787502e-04,\n",
       "         1.39174596e-03,   4.80770531e-02,   6.58148966e-01,\n",
       "         2.84610964e-01,   4.10829228e-01,   9.40669215e-01,\n",
       "         8.57779585e-01,   9.99787455e-01,   9.36859420e-01,\n",
       "         9.01437389e-01,   5.79905686e-01,   2.67323193e-01,\n",
       "         7.15488789e-02,   7.99974868e-05,   5.38179451e-06,\n",
       "         2.01430924e-06,   5.87086399e-06,   1.44387274e-06,\n",
       "         1.17243281e-06,   4.58633082e-07,   1.98998251e-06,\n",
       "         2.52228290e-05,   2.94538289e-06,   6.01979275e-07,\n",
       "         1.87059849e-05,   5.24980816e-05,   1.38688950e-03,\n",
       "         6.84069596e-04,   1.89960630e-01,   4.61608119e-01,\n",
       "         1.39501517e-02,   8.00898381e-03,   9.20569556e-01,\n",
       "         9.75574272e-01,   9.36300347e-01,   9.97947680e-01,\n",
       "         9.65600432e-01,   9.98537591e-01,   7.01395513e-01,\n",
       "         4.43863046e-01,   1.90893671e-05,   2.00287967e-04,\n",
       "         4.13715338e-06,   5.16211511e-06,   9.63983827e-08,\n",
       "         2.53405100e-09,   1.33140638e-06,   9.76937466e-08,\n",
       "         6.06189511e-08,   1.06701530e-08,   3.29988136e-07,\n",
       "         2.29867969e-06,   4.74117918e-08,   3.78808166e-05,\n",
       "         8.06102804e-06,   2.67847235e-03,   1.38195816e-01,\n",
       "         9.13900046e-01,   1.16018701e-01,   8.01498758e-01,\n",
       "         9.99487248e-01,   9.70979206e-01,   9.98642831e-01,\n",
       "         9.99729121e-01,   9.97574780e-01,   9.96381665e-01,\n",
       "         7.10178698e-01,   2.67671286e-02,   7.44881996e-05,\n",
       "         3.53686519e-05,   1.54607434e-06,   3.40721867e-06,\n",
       "         1.04463664e-07,   9.79015709e-07,   7.13313579e-07,\n",
       "         4.16928958e-06,   5.04833059e-07,   3.82871473e-07,\n",
       "         2.31018429e-06,   1.59894293e-08,   6.17440282e-07,\n",
       "         3.12632530e-05,   3.43077717e-06,   5.70577900e-02,\n",
       "         1.98417494e-01,   9.81686127e-01,   9.95699151e-01,\n",
       "         9.99023234e-01,   9.99828233e-01,   9.99924323e-01,\n",
       "         9.99411607e-01,   9.99100807e-01,   9.85234668e-01,\n",
       "         1.95198817e-01,   2.33392066e-03,   1.53503570e-02,\n",
       "         1.79734470e-05,   4.66539804e-07,   1.26787885e-07,\n",
       "         6.46567068e-06,   9.42311111e-07,   1.95452037e-08,\n",
       "         1.19837561e-07,   1.34598880e-07,   1.22586090e-06,\n",
       "         3.96657709e-07,   9.41392441e-07,   9.96388488e-08,\n",
       "         5.52337327e-09,   3.17821409e-05,   4.90603690e-04,\n",
       "         5.28918799e-06,   8.30707151e-02,   7.35999245e-01,\n",
       "         9.00908842e-01,   9.98320340e-01,   9.99792214e-01,\n",
       "         9.96356642e-01,   9.99706912e-01,   9.84951021e-01,\n",
       "         8.99094680e-01,   3.82507433e-01,   5.48352886e-05,\n",
       "         9.45816396e-07,   1.08866068e-04,   9.54038976e-08,\n",
       "         1.44874720e-05,   1.62293227e-07,   2.95250419e-07,\n",
       "         5.18233563e-08,   1.30385457e-08,   1.45787903e-05,\n",
       "         1.20616725e-06,   2.34197178e-08,   2.27782428e-07,\n",
       "         3.08840399e-06,   1.39912555e-06,   9.73971160e-08,\n",
       "         8.38925658e-06,   6.91491008e-04,   2.69720735e-04,\n",
       "         4.73500757e-02,   5.87554108e-01,   8.99649168e-01,\n",
       "         9.45564020e-01,   4.81091112e-01,   6.92867862e-01,\n",
       "         2.39388577e-01,   2.42092960e-03,   2.10319793e-04,\n",
       "         1.24790943e-05,   7.88010657e-06,   7.90754745e-06,\n",
       "         8.72309510e-08,   2.42322031e-06,   1.14126327e-07,\n",
       "         2.09147369e-07,   1.82172482e-07,   2.13790139e-06,\n",
       "         9.01912973e-09,   4.13652152e-09,   1.48490195e-06,\n",
       "         1.01637475e-07,   1.45353068e-07,   5.64718619e-09,\n",
       "         1.46016518e-05,   5.49680379e-06,   3.68498493e-06,\n",
       "         4.46620526e-05,   1.51359063e-04,   7.27077072e-05,\n",
       "         2.04901888e-02,   7.62837096e-03,   5.33117811e-03,\n",
       "         3.00387014e-03,   2.70279149e-03,   3.43620374e-04,\n",
       "         1.72999717e-05,   5.38189193e-07,   2.56685596e-07,\n",
       "         9.73673281e-07,   2.16318782e-06,   1.18134254e-08,\n",
       "         9.20322181e-08,   1.81885300e-08,   8.32151815e-07,\n",
       "         2.80645025e-07,   2.66552656e-08,   1.65812943e-08,\n",
       "         2.25503001e-06,   2.44557521e-05,   1.48115652e-08,\n",
       "         2.10970813e-07,   1.10305171e-06,   9.19336689e-07,\n",
       "         5.41517577e-09,   2.08390500e-05,   2.31591644e-06,\n",
       "         6.61967532e-05,   1.64416749e-04,   4.31498103e-04,\n",
       "         1.29702038e-05,   1.95725468e-07,   2.01351304e-07,\n",
       "         2.83821403e-08,   7.88286473e-07,   2.03838802e-05,\n",
       "         8.00689038e-07,   8.98571349e-08,   6.42673152e-09,\n",
       "         1.38628278e-07,   5.56353056e-07,   6.55081603e-07,\n",
       "         3.14525813e-05,   3.95953016e-07,   1.53646186e-07,\n",
       "         1.30566452e-05,   2.90402302e-07,   9.43640235e-08,\n",
       "         2.40542399e-07,   7.11807201e-08,   4.11482540e-07,\n",
       "         2.31324597e-06,   2.92863386e-06,   3.73052416e-06,\n",
       "         1.14520492e-07,   5.50627463e-06,   1.30438738e-07,\n",
       "         1.93073491e-06,   8.32184423e-09,   1.01006718e-07,\n",
       "         4.95640190e-08,   9.07831345e-07,   5.05767269e-07,\n",
       "         6.78969394e-07,   7.25746237e-09,   9.44143175e-06,\n",
       "         4.84417318e-08,   1.47767525e-07,   3.65812745e-09,\n",
       "         7.10917774e-06,   2.81080352e-06,   1.10760826e-05,\n",
       "         2.41235586e-07,   1.07586244e-06,   3.12033376e-08,\n",
       "         1.39888184e-06,   2.67589732e-08,   4.01409008e-08,\n",
       "         1.39260938e-06,   6.80896091e-08,   1.07666524e-06,\n",
       "         7.89096588e-08,   1.34202656e-08,   6.57239429e-09,\n",
       "         5.37907837e-06,   1.65375454e-06,   6.36984881e-07,\n",
       "         3.52399649e-08,   3.27379223e-08,   8.72831443e-07,\n",
       "         9.05632544e-07,   7.62270591e-07,   1.84795155e-07,\n",
       "         6.29567299e-07,   1.00716948e-06,   1.11931780e-08,\n",
       "         1.80866677e-06,   1.75748710e-07,   7.47202060e-09,\n",
       "         6.01102520e-08,   9.24443657e-07])"
      ]
     },
     "execution_count": 74,
     "metadata": {},
     "output_type": "execute_result"
    }
   ],
   "source": [
    "sample[1]"
   ]
  },
  {
   "cell_type": "code",
   "execution_count": 94,
   "metadata": {
    "collapsed": true
   },
   "outputs": [],
   "source": [
    "def rbm_and_plot(data, num_hidden, epochs, learning_rate=.3):\n",
    "    num_visible = data.shape[1]\n",
    "    r = RBM(data, num_visible, num_hidden, epochs, learning_rate)\n",
    "    sample = r.CDk()\n",
    "    \n",
    "    f = plt.subplots(10,5, figsize=(15,15))\n",
    "    f[1][0,0].set_title(\"Original Image\", fontsize=18).set_position([.5, 1.35])\n",
    "    f[1][0,1].set_title(\"RBM Probabilities\", fontsize=18).set_position([.5, 1.35])\n",
    "    f[1][0,2].set_title(\"RBM Sample 1\", fontsize=18).set_position([.5, 1.35])\n",
    "    f[1][0,3].set_title(\"RBM Sample 2\", fontsize=18).set_position([.5, 1.35])\n",
    "    f[1][0,4].set_title(\"RBM Sample 3\", fontsize=18).set_position([.5, 1.35])\n",
    "\n",
    "    images = [11, 12002, 15005, 19005, 28005, 32005, 39007, 43004, 49010, 58030]\n",
    "\n",
    "    for i in xrange(0, 10):\n",
    "        for j in xrange(0, 5):\n",
    "            if j == 0:\n",
    "                f[1][i, j].imshow(data_array[images[i]].reshape(28, 28), cmap=\"Greys\")\n",
    "            elif j == 1:\n",
    "                f[1][i, j].imshow(sample[0][images[i]][1:].reshape(28,28), cmap=\"Greys\")            \n",
    "            else:\n",
    "                s = sample[0][images[i]][1:].reshape(28,28)\n",
    "                img = s > np.random.rand(s.shape[0], s.shape[1]) \n",
    "                f[1][i, j].imshow(img, cmap=\"Greys\")\n",
    "\n",
    "            f[1][i, j].get_xaxis().set_visible(False)\n",
    "            f[1][i, j].get_yaxis().set_visible(False)\n",
    "\n",
    "    plt.suptitle(\"RBM Trained on MNIST Dataset\", fontsize=25)\n",
    "    plt.show()\n",
    "    \n",
    "    rcParams['figure.figsize'] = 5, 5\n",
    "    err = sample[1]\n",
    "    plt.plot(err)\n",
    "    plt.ylabel(\"Error\")\n",
    "    plt.xlabel(\"Epoch\")\n",
    "    plt.title(\"Error over Epochs\")\n",
    "    plt.show()"
   ]
  },
  {
   "cell_type": "code",
   "execution_count": null,
   "metadata": {
    "collapsed": false
   },
   "outputs": [],
   "source": [
    "rbm_and_plot(data_array, 300, 10, learning_rate=.4)"
   ]
  },
  {
   "cell_type": "code",
   "execution_count": null,
   "metadata": {
    "collapsed": true
   },
   "outputs": [],
   "source": []
  }
 ],
 "metadata": {
  "kernelspec": {
   "display_name": "Python 2",
   "language": "python",
   "name": "python2"
  },
  "language_info": {
   "codemirror_mode": {
    "name": "ipython",
    "version": 2
   },
   "file_extension": ".py",
   "mimetype": "text/x-python",
   "name": "python",
   "nbconvert_exporter": "python",
   "pygments_lexer": "ipython2",
   "version": "2.7.9"
  }
 },
 "nbformat": 4,
 "nbformat_minor": 0
}
