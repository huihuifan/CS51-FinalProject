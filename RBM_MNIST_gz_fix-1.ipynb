{
 "cells": [
  {
   "cell_type": "code",
   "execution_count": 18,
   "metadata": {
    "collapsed": false
   },
   "outputs": [],
   "source": [
    "%matplotlib inline\n",
    "\n",
    "from __future__ import absolute_import, print_function, unicode_literals, division\n",
    "from sklearn.datasets import fetch_mldata\n",
    "import matplotlib.pyplot as plt\n",
    "import numpy as np\n",
    "import pandas as pd\n",
    "import itertools\n",
    "import random as rand\n",
    "import copy"
   ]
  },
  {
   "cell_type": "code",
   "execution_count": 19,
   "metadata": {
    "collapsed": false
   },
   "outputs": [
    {
     "name": "stdout",
     "output_type": "stream",
     "text": [
      "(70000, 784)\n"
     ]
    }
   ],
   "source": [
    "DATA_PATH = '~/data'\n",
    "mnist = fetch_mldata('MNIST original', data_home=DATA_PATH)\n",
    "print(mnist.data.shape)"
   ]
  },
  {
   "cell_type": "code",
   "execution_count": 35,
   "metadata": {
    "collapsed": false
   },
   "outputs": [
    {
     "name": "stdout",
     "output_type": "stream",
     "text": [
      "[0 0 0 0 0 0 0 0 0 0 0 0 0 0 0 0 0 0 0 0 0 0 0 0 0 0 0 0 0 0 0 0 0 0 0 0 0\n",
      " 0 0 0 0 0 0 0 0 0 0 0 0 0 0 0 0 0 0 0 0 0 0 0 0 0 0 0 0 0 0 0 0 0 0 0 0 0\n",
      " 0 0 0 0 0 0 0 0 0 0 0 0 0 0 0 0 0 0 0 0 0 0 0 0 0 0 0 0 0 0 0 0 0 0 0 0 0\n",
      " 0 0 0 0 0 0 0 0 0 0 0 0 0 0 0 0 0 1 1 1 0 0 0 0 0 0 0 0 0 0 0 0 0 0 0 0 0\n",
      " 0 0 0 0 0 0 0 1 1 1 1 1 0 0 0 0 0 0 0 0 0 0 0 0 0 0 0 0 0 0 0 0 0 0 1 1 1\n",
      " 1 1 1 0 0 0 0 0 0 0 0 0 0 0 0 0 0 0 0 0 0 0 0 0 1 1 1 1 1 0 1 1 1 0 0 0 0\n",
      " 0 0 0 0 0 0 0 0 0 0 0 0 0 1 1 1 1 1 1 1 0 1 1 1 0 0 0 0 0 0 0 0 0 0 0 0 0\n",
      " 0 0 0 0 1 1 1 1 1 1 1 0 0 1 1 0 0 0 0 0 0 0 0 0 0 0 0 0 0 0 0 1 1 1 1 0 0\n",
      " 1 0 0 0 1 1 0 0 0 0 0 0 0 0 0 0 0 0 0 0 0 1 1 1 1 0 0 0 0 0 0 0 1 1 1 0 0\n",
      " 0 0 0 0 0 0 0 0 0 0 0 1 1 1 0 0 0 0 0 0 0 0 0 1 1 1 0 0 0 0 0 0 0 0 0 0 0\n",
      " 0 0 1 1 0 0 0 0 0 0 0 0 0 0 1 1 1 0 0 0 0 0 0 0 0 0 0 0 0 1 1 1 0 0 0 0 0\n",
      " 0 0 0 0 0 1 1 1 0 0 0 0 0 0 0 0 0 0 0 0 1 1 1 0 0 0 0 0 0 0 0 0 0 1 1 1 0\n",
      " 0 0 0 0 0 0 0 0 0 0 0 1 1 0 0 0 0 0 0 0 0 0 0 1 1 1 0 0 0 0 0 0 0 0 0 0 0\n",
      " 0 0 1 1 0 0 0 0 0 0 0 0 0 1 1 1 0 0 0 0 0 0 0 0 0 0 0 0 0 0 1 1 0 0 0 0 0\n",
      " 0 0 0 1 1 1 0 0 0 0 0 0 0 0 0 0 0 0 0 0 0 1 1 0 0 0 0 0 0 1 1 1 1 0 0 0 0\n",
      " 0 0 0 0 0 0 0 0 0 0 0 0 1 1 1 0 0 0 1 1 1 1 1 0 0 0 0 0 0 0 0 0 0 0 0 0 0\n",
      " 0 0 0 1 1 1 1 1 1 1 1 1 1 0 0 0 0 0 0 0 0 0 0 0 0 0 0 0 0 0 0 1 1 1 1 1 1\n",
      " 1 1 0 0 0 0 0 0 0 0 0 0 0 0 0 0 0 0 0 0 0 0 0 1 1 1 1 1 0 0 0 0 0 0 0 0 0\n",
      " 0 0 0 0 0 0 0 0 0 0 0 0 0 0 0 0 0 0 0 0 0 0 0 0 0 0 0 0 0 0 0 0 0 0 0 0 0\n",
      " 0 0 0 0 0 0 0 0 0 0 0 0 0 0 0 0 0 0 0 0 0 0 0 0 0 0 0 0 0 0 0 0 0 0 0 0 0\n",
      " 0 0 0 0 0 0 0 0 0 0 0 0 0 0 0 0 0 0 0 0 0 0 0 0 0 0 0 0 0 0 0 0 0 0 0 0 0\n",
      " 0 0 0 0 0 0 0]\n",
      "(70000, 784)\n"
     ]
    }
   ],
   "source": [
    "data_array = mnist.data\n",
    "print(data_array[0])\n",
    "print(data_array.shape)"
   ]
  },
  {
   "cell_type": "code",
   "execution_count": 21,
   "metadata": {
    "collapsed": false
   },
   "outputs": [
    {
     "data": {
      "image/png": "iVBORw0KGgoAAAANSUhEUgAAAPwAAAD8CAYAAABTq8lnAAAABHNCSVQICAgIfAhkiAAAAAlwSFlz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\n",
      "text/plain": [
       "<matplotlib.figure.Figure at 0x110ee8dd0>"
      ]
     },
     "metadata": {},
     "output_type": "display_data"
    }
   ],
   "source": [
    "plt.imshow(data_array[0].reshape(28, 28), cmap = 'Greys')\n",
    "plt.show()"
   ]
  },
  {
   "cell_type": "code",
   "execution_count": 22,
   "metadata": {
    "collapsed": false
   },
   "outputs": [
    {
     "data": {
      "image/png": "iVBORw0KGgoAAAANSUhEUgAAAPwAAAD8CAYAAABTq8lnAAAABHNCSVQICAgIfAhkiAAAAAlwSFlz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\nYII=\n",
      "text/plain": [
       "<matplotlib.figure.Figure at 0x10cf7df90>"
      ]
     },
     "metadata": {},
     "output_type": "display_data"
    }
   ],
   "source": [
    "#Convert image to binary matrix\n",
    "for img in data_array:\n",
    "    img[img < 100] = 0\n",
    "    img[img > 0] = 1\n",
    "\n",
    "plt.imshow(data_array[0].reshape(28, 28), cmap = 'Greys')\n",
    "plt.show()"
   ]
  },
  {
   "cell_type": "code",
<<<<<<< HEAD
<<<<<<< HEAD
<<<<<<< HEAD
<<<<<<< HEAD
   "execution_count": 6,
=======
   "execution_count": 1,
>>>>>>> aeec22d005296e0653b2975f3b270d5c79a94744
=======
   "execution_count": 68,
>>>>>>> parent of ca69c2f... Andre Better
=======
   "execution_count": 68,
>>>>>>> parent of ca69c2f... Andre Better
=======
   "execution_count": 68,
>>>>>>> parent of ca69c2f... Andre Better
   "metadata": {
    "collapsed": false
   },
   "outputs": [],
   "source": [
    "class RBM(object):\n",
    "    \"\"\"\n",
    "    Implementation of Restricted Boltzmann Machine for binary prediction\n",
    "    \n",
    "    Inputs:\n",
    "    Data\n",
    "    Number of hidden and visible states\n",
    "    Learning rate, default set to 0.1\n",
    "    \n",
    "    Outputs:\n",
    "    Weight matrix\n",
    "    Epoch number and error\n",
    "    \"\"\"\n",
    "\n",
    "    def __init__(self, data, num_visible, num_hidden, num_epochs, learning_rate=0.1):\n",
    "        \n",
    "        self.data = data\n",
    "        self.num_data = data.shape[0]\n",
    "        self.num_hidden = num_hidden\n",
    "        self.num_visible = num_visible\n",
    "        self.learning_rate = learning_rate\n",
    "        self.num_epochs = num_epochs\n",
    "\n",
    "        # weight matrix first row and first column represent the bias\n",
    "        self.weights = np.random.rand(self.num_visible, self.num_hidden) \n",
    "        self.weights = np.insert(self.weights, 0, 0, axis = 0)\n",
    "        self.weights = np.insert(self.weights, 0, 0, axis = 1)\n",
    "    \n",
    "    def _sigmoid(self,x):\n",
    "        return 1.0/(1.0+np.exp(-x))\n",
    "\n",
    "    def _propagate_up(self, vis):\n",
    "        vis_activation = self._sigmoid(np.dot(vis, self.weights))\n",
    "        sample = vis_activation > np.random.rand(self.num_data, self.num_hidden + 1)\n",
    "        return sample\n",
    "\n",
    "    def _propagate_down(self, hid):\n",
    "        hidden_activation = self._sigmoid(np.dot(hid, self.weights.T))\n",
    "        return hidden_activation\n",
    "\n",
    "    def CDk(self, max_epochs=1000):\n",
    "        self.data = np.insert(self.data, 0, 1, axis=1)\n",
    "        \n",
    "        for epoch in xrange(0, max_epochs):\n",
    "            up_activations = np.dot(self.data,self.weights)\n",
    "            up_probs = self._sigmoid(up_activations)\n",
    "            up_states = up_probs > np.random.rand(self.num_data, self.num_hidden + 1)\n",
    "            up_associations = np.dot(self.data.T, up_probs) \n",
    "            \n",
    "            down_activations = np.dot(up_states,self.weights.T)\n",
    "            down_vis_probs = self._sigmoid(down_activations)\n",
    "            down_vis_probs[:,0] = 1 \n",
    "            down_states = np.dot(down_vis_probs, self.weights)\n",
    "            down_associations = self._sigmoid(down_states)\n",
    "            down_associations = np.dot(down_vis_probs.T, down_associations)\n",
    "            \n",
    "            self.weights += self.learning_rate * \\\n",
    "                ((up_associations - down_associations)/self.num_data)\n",
    "                \n",
    "            error = np.sum((self.data - down_vis_probs) ** 2)\n",
    "            print(\"Epoch: \", epoch, \", Error: \", error)\n",
    "            if epoch == num_epochs:\n",
    "                return down_vis_probs\n",
    "   "
   ]
  },
  {
   "cell_type": "code",
<<<<<<< HEAD
<<<<<<< HEAD
<<<<<<< HEAD
<<<<<<< HEAD
   "execution_count": 76,
=======
   "execution_count": 2,
>>>>>>> aeec22d005296e0653b2975f3b270d5c79a94744
=======
   "execution_count": 69,
>>>>>>> parent of ca69c2f... Andre Better
=======
   "execution_count": 69,
>>>>>>> parent of ca69c2f... Andre Better
=======
   "execution_count": 69,
>>>>>>> parent of ca69c2f... Andre Better
   "metadata": {
    "collapsed": false
   },
   "outputs": [
    {
<<<<<<< HEAD
     "name": "stdout",
     "output_type": "stream",
     "text": [
      "Epoch:  0 , Error:  31657375.6928\n",
      "Epoch:  1 , Error:  18851062.0998\n",
      "Epoch:  2 , Error:  10720557.8241\n",
      "Epoch:  3 , Error:  12012183.8457\n",
      "Epoch:  4 , Error:  8189742.53814\n",
      "Epoch:  5 , Error:  9394210.14594\n",
      "Epoch:  6 , Error:  7286467.91112\n",
      "Epoch:  7 , Error:  8380745.11868\n",
      "Epoch:  8 , Error:  6904703.49475\n",
      "Epoch:  9 , Error:  7800961.92207\n",
      "Epoch:  10 , Error:  6668494.35206\n",
      "Epoch:  11 , Error:  6636610.50491\n",
      "Epoch:  12 , Error:  6701723.35849\n",
      "Epoch:  13 , Error:  6424713.99038\n",
      "Epoch:  14 , Error:  6418345.43832\n",
      "Epoch:  15 , Error:  6656785.0194\n",
      "Epoch:  16 , Error:  6295972.35837\n",
      "Epoch:  17 , Error:  6344433.40924\n",
      "Epoch:  18 , Error:  6360842.09041\n",
      "Epoch:  19 , Error:  6292936.44107\n",
      "Epoch:  20 , Error:  6319639.18248\n",
      "Epoch:  21 , Error:  6362279.40384\n",
      "Epoch:  22 , Error:  6581475.02001\n",
      "Epoch:  23 , Error:  6324367.33197\n",
      "Epoch:  24 , Error:  6348871.90476\n",
      "Epoch:  25 , Error:  6302474.4185\n",
      "Epoch:  26 , Error:  6292935.18066\n",
      "Epoch:  27 , Error:  6390965.23868\n",
      "Epoch:  28 , Error:  6360967.98828\n",
      "Epoch:  29 , Error:  6242052.84874\n",
      "Epoch:  30 , Error:  6354667.9765\n",
      "Epoch:  31 , Error:  6333126.15839\n",
      "Epoch:  32 , Error:  6393136.55299\n",
      "Epoch:  33 , Error:  6289611.69999\n",
      "Epoch:  34 , Error:  6547902.65934\n",
      "Epoch:  35 , Error:  6395621.36212\n",
      "Epoch:  36 , Error:  6740411.08363\n",
      "Epoch:  37 , Error:  6228638.92195\n",
      "Epoch:  38 , Error:  6201167.0804\n",
      "Epoch:  39 , Error:  6347405.96908\n",
      "Epoch:  40 , Error:  6226382.58221\n",
      "Epoch:  41 , Error:  6408207.78799\n",
      "Epoch:  42 , Error:  6429834.8389\n",
      "Epoch:  43 , Error:  6543277.67597\n",
      "Epoch:  44 , Error:  6621468.56887\n",
      "Epoch:  45 , Error:  6342010.82818\n",
      "Epoch:  46 , Error:  6613351.04134\n",
      "Epoch:  47 , Error:  6288080.32958\n",
      "Epoch:  48 , Error:  6119329.19947\n",
      "Epoch:  49 , Error:  6161742.60946\n",
      "Epoch:  50 , Error:  6002802.35491\n",
      "Epoch:  51 , Error:  5999153.92618\n",
      "Epoch:  52 , Error:  5872019.25913\n",
      "Epoch:  53 , Error:  5880145.03493\n",
      "Epoch:  54 , Error:  5844286.3707\n",
      "Epoch:  55 , Error:  5846420.46123\n",
      "Epoch:  56 , Error:  5828554.83116\n",
      "Epoch:  57 , Error:  5848512.69463\n",
      "Epoch:  58 , Error:  5809997.69343\n",
      "Epoch:  59 , Error:  5806135.65239\n",
      "Epoch:  60 , Error:  5797079.87982\n",
      "Epoch:  61 , Error:  5848957.13929\n",
      "Epoch:  62 , Error:  5792454.20505\n",
      "Epoch:  63 , Error:  5814374.53951\n",
      "Epoch:  64 , Error:  5793541.64541\n",
      "Epoch:  65 , Error:  5829539.47203\n",
      "Epoch:  66 , Error:  5798853.05591\n",
      "Epoch:  67 , Error:  5827691.28741\n",
      "Epoch:  68 , Error:  5809560.68446\n",
      "Epoch:  69 , Error:  5856972.00609\n",
      "Epoch:  70 , Error:  5843721.17196\n",
      "Epoch:  71 , Error:  5883756.5589\n",
      "Epoch:  72 , Error:  5884412.79548\n",
      "Epoch:  73 , Error:  5944819.66589\n",
      "Epoch:  74 , Error:  5931506.35586\n",
      "Epoch:  75 , Error:  5951566.73948\n",
      "Epoch:  76 , Error:  6027262.32907\n",
      "Epoch:  77 , Error:  6011400.59131\n",
      "Epoch:  78 , Error:  6045376.48715\n",
      "Epoch:  79 , Error:  6120310.85205\n",
      "Epoch:  80 , Error:  6105639.52089\n",
      "Epoch:  81 , Error:  6013990.03298\n",
      "Epoch:  82 , Error:  6069418.68733\n",
      "Epoch:  83 , Error:  6134091.56135\n",
      "Epoch:  84 , Error:  5891183.59557\n",
      "Epoch:  85 , Error:  5983456.58513\n",
      "Epoch:  86 , Error:  6046252.20611\n",
      "Epoch:  87 , Error:  6022816.38464\n",
      "Epoch:  88 , Error:  6083868.55369\n",
      "Epoch:  89 , Error:  5835679.06977\n",
      "Epoch:  90 , Error:  5940360.86872\n",
      "Epoch:  91 , Error:  6039321.57843\n",
      "Epoch:  92 , Error:  5803297.58479\n",
      "Epoch:  93 , Error:  5899017.99404\n",
      "Epoch:  94 , Error:  5990438.49349\n",
      "Epoch:  95 , Error:  5784545.84253\n",
      "Epoch:  96 , Error:  5886929.3917\n",
      "Epoch:  97 , Error:  5964691.57141\n",
      "Epoch:  98 , Error:  5746140.17866\n",
      "Epoch:  99 , Error:  5845888.95721\n",
      "Epoch:  100 , Error:  5781720.20996\n",
      "[[  0.88616889  11.47507177  11.40449226  16.29828017]\n",
      " [ -0.24444039  -1.45379999  -1.33542083  -1.84526896]\n",
      " [ -0.18789491  -1.51568945  -1.52451234  -1.68290454]\n",
      " ..., \n",
<<<<<<< HEAD
<<<<<<< HEAD
<<<<<<< HEAD
      " [-0.2000001  -0.63567805 -0.49394978 ..., -0.10685923 -0.02688813\n",
      "  -0.38232587]\n",
      " [-0.20000003 -0.29957549 -0.43148561 ..., -0.74736709 -0.19365017\n",
      "   0.10007938]\n",
      " [-0.20000008 -0.50585418 -0.7813084  ..., -0.03564392 -0.48641454\n",
      "  -0.4375691 ]]\n"
=======
     "ename": "NameError",
     "evalue": "name 'data_array' is not defined",
     "output_type": "error",
     "traceback": [
      "\u001b[0;31m---------------------------------------------------------------------------\u001b[0m",
      "\u001b[0;31mNameError\u001b[0m                                 Traceback (most recent call last)",
      "\u001b[0;32m<ipython-input-2-7b21c212350d>\u001b[0m in \u001b[0;36m<module>\u001b[0;34m()\u001b[0m\n\u001b[0;32m----> 1\u001b[0;31m \u001b[0mr\u001b[0m \u001b[0;34m=\u001b[0m \u001b[0mRBM\u001b[0m\u001b[0;34m(\u001b[0m\u001b[0mdata_array\u001b[0m\u001b[0;34m,\u001b[0m \u001b[0;36m784\u001b[0m\u001b[0;34m,\u001b[0m \u001b[0;36m3\u001b[0m\u001b[0;34m,\u001b[0m \u001b[0;36m100\u001b[0m\u001b[0;34m)\u001b[0m\u001b[0;34m\u001b[0m\u001b[0m\n\u001b[0m\u001b[1;32m      2\u001b[0m \u001b[0msample\u001b[0m \u001b[0;34m=\u001b[0m \u001b[0mr\u001b[0m\u001b[0;34m.\u001b[0m\u001b[0mCDk\u001b[0m\u001b[0;34m(\u001b[0m\u001b[0mmax_epochs\u001b[0m\u001b[0;34m=\u001b[0m\u001b[0;36m101\u001b[0m\u001b[0;34m)\u001b[0m\u001b[0;34m\u001b[0m\u001b[0m\n\u001b[1;32m      3\u001b[0m \u001b[0;32mprint\u001b[0m\u001b[0;34m(\u001b[0m\u001b[0mr\u001b[0m\u001b[0;34m.\u001b[0m\u001b[0mweights\u001b[0m\u001b[0;34m)\u001b[0m\u001b[0;34m\u001b[0m\u001b[0m\n\u001b[1;32m      4\u001b[0m \u001b[0;31m#user = data[11] #np.array([[1, 0, 0, 0, 1, 0]])\u001b[0m\u001b[0;34m\u001b[0m\u001b[0;34m\u001b[0m\u001b[0m\n\u001b[1;32m      5\u001b[0m \u001b[0;31m#print(r._sample_h_given_v(user))\u001b[0m\u001b[0;34m\u001b[0m\u001b[0;34m\u001b[0m\u001b[0m\n",
      "\u001b[0;31mNameError\u001b[0m: name 'data_array' is not defined"
>>>>>>> aeec22d005296e0653b2975f3b270d5c79a94744
=======
      " [ -0.21307077  -1.83515851  -1.25608186  -1.6458953 ]\n",
      " [ -0.19288759  -1.1652058   -1.26433068  -2.14463225]\n",
      " [ -0.19334713  -1.6509444   -1.69785262  -1.46316067]]\n"
>>>>>>> parent of ca69c2f... Andre Better
=======
      " [ -0.21307077  -1.83515851  -1.25608186  -1.6458953 ]\n",
      " [ -0.19288759  -1.1652058   -1.26433068  -2.14463225]\n",
      " [ -0.19334713  -1.6509444   -1.69785262  -1.46316067]]\n"
>>>>>>> parent of ca69c2f... Andre Better
=======
      " [ -0.21307077  -1.83515851  -1.25608186  -1.6458953 ]\n",
      " [ -0.19288759  -1.1652058   -1.26433068  -2.14463225]\n",
      " [ -0.19334713  -1.6509444   -1.69785262  -1.46316067]]\n"
>>>>>>> parent of ca69c2f... Andre Better
     ]
    }
   ],
   "source": [
<<<<<<< HEAD
<<<<<<< HEAD
<<<<<<< HEAD
<<<<<<< HEAD
    "r = RBM(data_array, 784, 300, .4)\n",
=======
    "r = RBM(data_array, 784, 3, 100)\n",
>>>>>>> aeec22d005296e0653b2975f3b270d5c79a94744
=======
    "r = RBM(data_array, 784, 3, .5)\n",
>>>>>>> parent of ca69c2f... Andre Better
=======
    "r = RBM(data_array, 784, 3, .5)\n",
>>>>>>> parent of ca69c2f... Andre Better
=======
    "r = RBM(data_array, 784, 3, .5)\n",
>>>>>>> parent of ca69c2f... Andre Better
    "sample = r.CDk(max_epochs=101)\n",
    "print(r.weights)\n",
    "#user = data[11] #np.array([[1, 0, 0, 0, 1, 0]])\n",
    "#print(r._sample_h_given_v(user))"
   ]
  },
  {
   "cell_type": "code",
   "execution_count": 70,
   "metadata": {
    "collapsed": false
   },
   "outputs": [
    {
     "name": "stdout",
     "output_type": "stream",
     "text": [
      "(785, 4)\n"
     ]
    }
   ],
   "source": [
    "print(r.weights.shape)"
   ]
  },
  {
   "cell_type": "code",
   "execution_count": 71,
   "metadata": {
    "collapsed": false
   },
   "outputs": [
    {
     "data": {
      "image/png": "iVBORw0KGgoAAAANSUhEUgAAAPwAAAD8CAYAAABTq8lnAAAABHNCSVQICAgIfAhkiAAAAAlwSFlz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\n",
      "text/plain": [
       "<matplotlib.figure.Figure at 0x10caf9110>"
      ]
     },
     "metadata": {},
     "output_type": "display_data"
    },
    {
     "name": "stdout",
     "output_type": "stream",
     "text": [
      "[[ 0.13719318  0.15763877  0.12729215  0.10042381  0.12835534  0.12934742\n",
      "   0.13081665  0.15251762  0.10915322  0.1606864   0.10761931  0.11051336\n",
      "   0.14448874  0.13071473  0.13465706  0.1655124   0.12689368  0.12928938\n",
      "   0.12244387  0.11820692  0.10151041  0.16775676  0.11527928  0.1291872\n",
      "   0.11384818  0.15924761  0.15988783  0.10350089]\n",
      " [ 0.13237389  0.18146741  0.13593821  0.13006266  0.15209856  0.15930106\n",
      "   0.11177075  0.1613335   0.11757396  0.14869976  0.14776252  0.11454148\n",
      "   0.14020693  0.16603645  0.13306542  0.18194419  0.1416341   0.12983338\n",
      "   0.12762279  0.12912748  0.13480857  0.12799081  0.10876116  0.13958651\n",
      "   0.11885768  0.14708239  0.1322189   0.1344407 ]\n",
      " [ 0.11611115  0.11123368  0.09192116  0.10878945  0.10085079  0.09989692\n",
      "   0.11777083  0.11608392  0.17437217  0.10843225  0.15549061  0.13776417\n",
      "   0.1583397   0.16624996  0.17642825  0.19138588  0.17063865  0.199287\n",
      "   0.17186244  0.12864194  0.10062279  0.10648958  0.14502746  0.12028881\n",
      "   0.14713747  0.14460503  0.1577868   0.1555507 ]\n",
      " [ 0.14134675  0.11307416  0.16809147  0.13114823  0.13078111  0.11213444\n",
      "   0.15448308  0.12052588  0.14456381  0.1655296   0.20242193  0.18689495\n",
      "   0.19981674  0.17802667  0.27657171  0.20992781  0.26479336  0.20536792\n",
      "   0.16933032  0.17032829  0.17656025  0.17994976  0.14333626  0.12854426\n",
      "   0.15268619  0.1315404   0.13551271  0.15891823]\n",
      " [ 0.10528433  0.12323165  0.12042412  0.12082652  0.1262973   0.14450667\n",
      "   0.13878016  0.16920761  0.19447315  0.24515215  0.24521889  0.35723055\n",
      "   0.39673188  0.41146065  0.40956137  0.46816274  0.5200762   0.45397343\n",
      "   0.39296606  0.33953807  0.25024771  0.21322623  0.17424133  0.11600251\n",
      "   0.17303991  0.10803587  0.10365642  0.09134694]\n",
      " [ 0.10185223  0.13917621  0.11090786  0.13672025  0.15684105  0.15496008\n",
      "   0.17144667  0.22879991  0.2626011   0.41458562  0.4270635   0.5586985\n",
      "   0.6163752   0.68990862  0.71810334  0.68429981  0.75777905  0.67767126\n",
      "   0.61330522  0.49842611  0.42937209  0.27611804  0.22522684  0.16106039\n",
      "   0.14784635  0.14460554  0.10235566  0.12258173]\n",
      " [ 0.12655112  0.11088871  0.14687462  0.15434113  0.1121368   0.19379919\n",
      "   0.22368331  0.23617684  0.40089638  0.51711239  0.58801635  0.70078165\n",
      "   0.79999521  0.78284149  0.81032254  0.71512328  0.78063956  0.72665733\n",
      "   0.6823849   0.61592548  0.51880582  0.40938742  0.25767562  0.28406673\n",
      "   0.18772891  0.16126122  0.15484433  0.08839583]\n",
      " [ 0.15482013  0.1412053   0.12439206  0.14625724  0.13488412  0.15238854\n",
      "   0.30797337  0.3445469   0.45546487  0.55691106  0.70030988  0.7228972\n",
      "   0.73971089  0.78194301  0.68880538  0.75602445  0.68148923  0.72903296\n",
      "   0.65425363  0.6603801   0.61190106  0.49620943  0.38964455  0.26434953\n",
      "   0.16987713  0.15664398  0.13953755  0.13033148]\n",
      " [ 0.17172799  0.12420015  0.15523044  0.13887416  0.16207044  0.16819134\n",
      "   0.2637397   0.36427542  0.52625814  0.6831071   0.7128981   0.74071123\n",
      "   0.73918291  0.67156179  0.60563665  0.57325693  0.60201053  0.58946059\n",
      "   0.67092276  0.71354304  0.62858714  0.58317744  0.38752953  0.32061497\n",
      "   0.17272303  0.12901323  0.167678    0.16134122]\n",
      " [ 0.12795117  0.10718114  0.13370703  0.14572598  0.20963298  0.18471426\n",
      "   0.27491417  0.45413084  0.60539832  0.6158787   0.69240551  0.64258524\n",
      "   0.60424481  0.62053469  0.50533633  0.4565509   0.4069657   0.58788306\n",
      "   0.65491653  0.65264475  0.69077793  0.53831888  0.46271433  0.27217483\n",
      "   0.14101439  0.17441857  0.12913965  0.11196942]\n",
      " [ 0.12192479  0.12427372  0.09904207  0.1624101   0.15964098  0.2072637\n",
      "   0.34890212  0.51880346  0.60492822  0.68746332  0.70378962  0.5836788\n",
      "   0.55187025  0.44277394  0.39956858  0.38133262  0.39949939  0.53867929\n",
      "   0.6096612   0.69963007  0.6486791   0.55668292  0.44656909  0.27565673\n",
      "   0.18528412  0.12297961  0.1184072   0.13371748]\n",
      " [ 0.11945238  0.15292195  0.11590201  0.13317691  0.153933    0.21712753\n",
      "   0.31884498  0.53286405  0.6275864   0.69094211  0.70631676  0.58416446\n",
      "   0.45622908  0.49367636  0.37704908  0.39426499  0.48570478  0.54887379\n",
      "   0.65997132  0.70969311  0.65831357  0.58168644  0.4288521   0.25796905\n",
      "   0.21251386  0.11182456  0.16933719  0.14148973]\n",
      " [ 0.12995984  0.15591921  0.09987646  0.11881949  0.13087771  0.27431291\n",
      "   0.37543095  0.59142336  0.68058826  0.73646723  0.60768864  0.51411267\n",
      "   0.48831812  0.46597631  0.44402692  0.43522285  0.48367777  0.61430056\n",
      "   0.73672079  0.75149935  0.63503735  0.61046481  0.44851455  0.23883127\n",
      "   0.16584189  0.15044106  0.15375114  0.13894051]\n",
      " [ 0.14637264  0.14829179  0.11688889  0.14549995  0.181729    0.2603578\n",
      "   0.38519866  0.64470493  0.769937    0.74008158  0.5984591   0.52461087\n",
      "   0.47393157  0.44524772  0.46788388  0.51463365  0.54817617  0.6965676\n",
      "   0.75931465  0.73174052  0.64395625  0.5791312   0.4870456   0.34944889\n",
      "   0.16856963  0.16093958  0.13972662  0.12808914]\n",
      " [ 0.13831385  0.13910767  0.1656712   0.18322211  0.18148611  0.28628829\n",
      "   0.48891524  0.64566522  0.70927649  0.73218987  0.61521164  0.50917407\n",
      "   0.4559686   0.42255397  0.45697225  0.53218519  0.63187134  0.7456464\n",
      "   0.75574919  0.79817595  0.7135338   0.55421866  0.43026794  0.34575923\n",
      "   0.20384155  0.14505168  0.12666778  0.10763463]\n",
      " [ 0.14107201  0.13999229  0.14649089  0.15846034  0.20155925  0.32961147\n",
      "   0.532709    0.64837931  0.79345536  0.74972091  0.61352239  0.52207653\n",
      "   0.54816764  0.50926646  0.50046862  0.52748446  0.61055672  0.68799943\n",
      "   0.73034059  0.7442323   0.73358397  0.64455717  0.48924254  0.34625715\n",
      "   0.17260288  0.17379445  0.12356855  0.11792341]\n",
      " [ 0.18810003  0.17542338  0.09969525  0.1658083   0.19797139  0.35532494\n",
      "   0.51950701  0.69510602  0.78667154  0.72341459  0.67254702  0.5291818\n",
      "   0.51209004  0.48550979  0.4470965   0.50048288  0.60650216  0.61324092\n",
      "   0.73020851  0.8070867   0.77263778  0.64528521  0.48426276  0.32627354\n",
      "   0.16832125  0.15447667  0.1175569   0.10306447]\n",
      " [ 0.1363162   0.10533631  0.11765659  0.15756851  0.20594459  0.37444668\n",
      "   0.51848599  0.6160487   0.78609529  0.66679212  0.58678353  0.48807395\n",
      "   0.53790492  0.45910625  0.47112535  0.46391404  0.5785792   0.58421571\n",
      "   0.74292355  0.75449435  0.72619977  0.60130202  0.43114954  0.29169189\n",
      "   0.17899275  0.11968848  0.12700172  0.16092773]\n",
      " [ 0.1348635   0.16483429  0.15333531  0.16751519  0.25756424  0.37446277\n",
      "   0.4967133   0.67204915  0.70059615  0.70107398  0.55779235  0.57720744\n",
      "   0.49116064  0.50568701  0.45256184  0.55556134  0.65862821  0.74354816\n",
      "   0.84326922  0.81124831  0.74119656  0.6761742   0.37824478  0.28184075\n",
      "   0.21638284  0.09848621  0.11397352  0.14329082]\n",
      " [ 0.12858193  0.15316869  0.11423145  0.15552726  0.28711773  0.3901181\n",
      "   0.52551764  0.68248106  0.7067941   0.73477813  0.65050163  0.54647326\n",
      "   0.48419715  0.47294831  0.48796066  0.62002515  0.69170888  0.77589597\n",
      "   0.85409364  0.83257638  0.69210957  0.58918081  0.40088132  0.21654999\n",
      "   0.18307788  0.15197688  0.16321385  0.14332602]\n",
      " [ 0.12675801  0.15030762  0.098426    0.14370238  0.22419048  0.42690583\n",
      "   0.51121879  0.71448177  0.74747307  0.71052707  0.71487241  0.70386375\n",
      "   0.68037195  0.63195058  0.58766178  0.66480536  0.77729136  0.81084224\n",
      "   0.83965477  0.79063761  0.63660591  0.44246248  0.30099051  0.19312074\n",
      "   0.14026989  0.15179143  0.12061636  0.10558059]\n",
      " [ 0.11396751  0.15040558  0.12395914  0.14811792  0.19257374  0.2823297\n",
      "   0.47106854  0.63635605  0.70149013  0.71008204  0.79169932  0.72368386\n",
      "   0.76979976  0.7799712   0.75870319  0.74612093  0.77615318  0.7257508\n",
      "   0.77859693  0.66348569  0.44313912  0.32438278  0.2144379   0.21227905\n",
      "   0.12094556  0.17307127  0.13025884  0.1162514 ]\n",
      " [ 0.14311141  0.10621106  0.10570465  0.11198971  0.15151024  0.24245116\n",
      "   0.33929998  0.50634314  0.63836261  0.66212424  0.72329912  0.64709056\n",
      "   0.62786184  0.69488612  0.64103815  0.68496764  0.719682    0.65346047\n",
      "   0.61916506  0.40850745  0.28549149  0.23724654  0.15371797  0.14814526\n",
      "   0.11723694  0.1123607   0.16728412  0.15402815]\n",
      " [ 0.16628044  0.11917292  0.13659091  0.15501005  0.1426105   0.18759821\n",
      "   0.22927739  0.29339111  0.3825756   0.45477557  0.4947527   0.59754917\n",
      "   0.5508117   0.52354416  0.49360785  0.4829044   0.49060263  0.48065722\n",
      "   0.35911471  0.33309522  0.22028717  0.15192842  0.17014299  0.14841365\n",
      "   0.14879645  0.14361681  0.11218641  0.14531217]\n",
      " [ 0.10130444  0.09260391  0.09419784  0.13323518  0.14807654  0.16262163\n",
      "   0.17470198  0.20615748  0.22206755  0.22084389  0.29359529  0.25994062\n",
      "   0.3442533   0.31978652  0.33501211  0.32754604  0.27648128  0.22376926\n",
      "   0.18797447  0.195589    0.17626806  0.17542786  0.13088554  0.16493059\n",
      "   0.13454955  0.14497546  0.15380094  0.158334  ]\n",
      " [ 0.12680381  0.13292803  0.15953087  0.15337422  0.11982788  0.11146383\n",
      "   0.12243419  0.15857472  0.14334367  0.17796902  0.17861957  0.21920371\n",
      "   0.19878366  0.20819235  0.21635241  0.20462618  0.22271292  0.1524685\n",
      "   0.13551081  0.17710294  0.12689746  0.13624362  0.12802688  0.14693111\n",
      "   0.16103793  0.09240778  0.11288244  0.1390356 ]\n",
      " [ 0.12730108  0.13665838  0.1195427   0.14838395  0.1411809   0.15013928\n",
      "   0.10647419  0.1178568   0.13004897  0.13901776  0.14545569  0.19902296\n",
      "   0.13231751  0.15773421  0.16054971  0.17738697  0.17969787  0.14532344\n",
      "   0.14411764  0.14239988  0.09767098  0.18203169  0.11807218  0.13449571\n",
      "   0.11281241  0.09004988  0.11348714  0.09770922]\n",
      " [ 0.15842801  0.12330833  0.165232    0.15618222  0.14524214  0.14428651\n",
      "   0.14515505  0.11949231  0.12257585  0.14542332  0.12894393  0.11808556\n",
      "   0.12675324  0.15182919  0.10999386  0.15943807  0.12847477  0.1630536\n",
      "   0.13082911  0.13654692  0.14115597  0.09120933  0.12978565  0.10209534\n",
      "   0.13759616  0.16262118  0.1053869   0.1891502 ]]\n"
     ]
    }
   ],
   "source": [
    "plt.imshow(sample[11][1:].reshape(28,28), cmap = 'Greys')\n",
    "plt.show()\n",
    "print(sample[11][1:].reshape(28,28))"
   ]
  },
  {
   "cell_type": "code",
   "execution_count": 69,
   "metadata": {
    "collapsed": false
   },
   "outputs": [
    {
     "data": {
      "image/png": "iVBORw0KGgoAAAANSUhEUgAAAPwAAAD8CAYAAABTq8lnAAAABHNCSVQICAgIfAhkiAAAAAlwSFlz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\nUBRE0wcAAAAASUVORK5CYII=\n",
      "text/plain": [
       "<matplotlib.figure.Figure at 0x1138a8990>"
      ]
     },
     "metadata": {},
     "output_type": "display_data"
    }
   ],
   "source": [
    "plt.imshow(data_array[11].reshape(28,28), cmap = 'Greys')\n",
    "plt.show()"
   ]
  },
  {
   "cell_type": "code",
   "execution_count": null,
   "metadata": {
    "collapsed": true
   },
   "outputs": [],
   "source": []
  }
 ],
 "metadata": {
  "kernelspec": {
   "display_name": "Python 2",
   "language": "python",
   "name": "python2"
  },
  "language_info": {
   "codemirror_mode": {
    "name": "ipython",
    "version": 2
   },
   "file_extension": ".py",
   "mimetype": "text/x-python",
   "name": "python",
   "nbconvert_exporter": "python",
   "pygments_lexer": "ipython2",
   "version": "2.7.9"
  }
 },
 "nbformat": 4,
 "nbformat_minor": 0
}
