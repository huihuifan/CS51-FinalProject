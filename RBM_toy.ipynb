{
 "cells": [
  {
   "cell_type": "code",
   "execution_count": 1,
   "metadata": {
    "collapsed": false
   },
   "outputs": [],
   "source": [
    "%matplotlib inline\n",
    "\n",
    "from __future__ import absolute_import, print_function, unicode_literals, division\n",
    "from sklearn.datasets import fetch_mldata\n",
    "import matplotlib.pyplot as plt\n",
    "import numpy as np\n",
    "import pandas as pd\n",
    "import itertools\n",
    "import random as rand\n",
    "import copy"
   ]
  },
  {
   "cell_type": "code",
   "execution_count": 2,
   "metadata": {
    "collapsed": false
   },
   "outputs": [],
   "source": [
    "alice = {\"Interstellar\":1, \"Whiplash\":1, \"Selma\":0, \"Lego Movie\":0, \"Birdman\":0}\n",
    "eric = {\"Interstellar\":0, \"Whiplash\":0, \"Selma\":0, \"Lego Movie\":1, \"Birdman\":0}\n",
    "nancy = {\"Interstellar\":1, \"Whiplash\":1, \"Selma\":1, \"Lego Movie\":0, \"Birdman\":1}\n",
    "sarah = {\"Interstellar\":0, \"Whiplash\":1, \"Selma\":0, \"Lego Movie\":0, \"Birdman\":1}\n",
    "#mike = {\"Interstellar\":1, \"Whiplash\":1, \"Selma\":1, \"Lego Movie\":1, \"Birdman\":1}\n",
    "#bob = {\"Interstellar\":0, \"Whiplash\":1, \"Selma\":1, \"Lego Movie\":0, \"Birdman\":1}\n",
    "\n",
    "data = {\"alice\":alice, \"eric\":eric, \"nancy\":nancy, \"sarah\":sarah} #\"mike\":mike, \"bob\":bob}"
   ]
  },
  {
   "cell_type": "code",
   "execution_count": 66,
   "metadata": {
    "collapsed": false
   },
   "outputs": [
    {
     "data": {
      "text/html": [
       "<div style=\"max-height:1000px;max-width:1500px;overflow:auto;\">\n",
       "<table border=\"1\" class=\"dataframe\">\n",
       "  <thead>\n",
       "    <tr style=\"text-align: right;\">\n",
       "      <th></th>\n",
       "      <th>alice</th>\n",
       "      <th>eric</th>\n",
       "      <th>nancy</th>\n",
       "      <th>sarah</th>\n",
       "    </tr>\n",
       "  </thead>\n",
       "  <tbody>\n",
       "    <tr>\n",
       "      <th>Birdman</th>\n",
       "      <td> 0</td>\n",
       "      <td> 0</td>\n",
       "      <td> 1</td>\n",
       "      <td> 1</td>\n",
       "    </tr>\n",
       "    <tr>\n",
       "      <th>Interstellar</th>\n",
       "      <td> 1</td>\n",
       "      <td> 0</td>\n",
       "      <td> 1</td>\n",
       "      <td> 0</td>\n",
       "    </tr>\n",
       "    <tr>\n",
       "      <th>Lego Movie</th>\n",
       "      <td> 0</td>\n",
       "      <td> 1</td>\n",
       "      <td> 0</td>\n",
       "      <td> 0</td>\n",
       "    </tr>\n",
       "    <tr>\n",
       "      <th>Selma</th>\n",
       "      <td> 0</td>\n",
       "      <td> 0</td>\n",
       "      <td> 1</td>\n",
       "      <td> 0</td>\n",
       "    </tr>\n",
       "    <tr>\n",
       "      <th>Whiplash</th>\n",
       "      <td> 1</td>\n",
       "      <td> 0</td>\n",
       "      <td> 1</td>\n",
       "      <td> 1</td>\n",
       "    </tr>\n",
       "  </tbody>\n",
       "</table>\n",
       "</div>"
      ],
      "text/plain": [
       "              alice  eric  nancy  sarah\n",
       "Birdman           0     0      1      1\n",
       "Interstellar      1     0      1      0\n",
       "Lego Movie        0     1      0      0\n",
       "Selma             0     0      1      0\n",
       "Whiplash          1     0      1      1"
      ]
     },
     "execution_count": 66,
     "metadata": {},
     "output_type": "execute_result"
    }
   ],
   "source": [
    "data = pd.DataFrame.from_dict(data)\n",
    "data.head()"
   ]
  },
  {
   "cell_type": "code",
   "execution_count": 71,
   "metadata": {
    "collapsed": false
   },
   "outputs": [
    {
     "name": "stdout",
     "output_type": "stream",
     "text": [
      "[[0 0 1 1]\n",
      " [1 0 1 0]\n",
      " [0 1 0 0]\n",
      " [0 0 1 0]\n",
      " [1 0 1 1]]\n",
      "(5, 4)\n"
     ]
    }
   ],
   "source": [
    "data_array = np.array(data)\n",
    "print(data_array)\n",
    "print(data_array.shape)"
   ]
  },
  {
   "cell_type": "code",
   "execution_count": 81,
   "metadata": {
    "collapsed": false
   },
   "outputs": [],
   "source": [
    "class RBM(object):\n",
    "    \"\"\"\n",
    "    Implementation of RBM\n",
    "    num_vis and num_hidden do not include bias \n",
    "    \"\"\"\n",
    "\n",
    "    def __init__(self, data, num_hidden, num_visible, learning_rate):\n",
    "        # set variables based on input\n",
    "        self.data = data\n",
    "        self.data_wbias = copy.deepcopy(self.data)\n",
    "        self.num_hidden = num_hidden\n",
    "        self.num_vis = num_visible\n",
    "        self.learning_rate = learning_rate\n",
    "\n",
    "        # set weight matrix first row and first column to be RBM bias\n",
    "        self.hidden_states = np.random.rand(self.num_hidden + 1)\n",
    "        self.num_data = data.shape[0]\n",
    "        self.visible_states = np.concatenate((np.ones((self.num_data,1)), self.data),axis=1)\n",
    "        self.weights = np.random.rand(self.visible_states.shape[1], self.num_hidden + 1)\n",
    "\n",
    "    # Logistic Sigmoid Function\n",
    "    def _sigmoid(self,x):\n",
    "        return 1.0/(1.0+np.exp(-x))\n",
    "    \n",
    "    # Binomial Sampling Function\n",
    "    def _binom_sample(self, a, b):\n",
    "        prob = self._sigmoid(np.dot(a,b))\n",
    "        sample = [np.random.binomial(n=1, p=i) for i in prob]\n",
    "        return np.array(sample)\n",
    "    \n",
    "    # Predict hidden given visible\n",
    "    def _sample_h_given_v(self, v):\n",
    "        return self._binom_sample(self.weights.T, v.T)\n",
    "\n",
    "    # Predict visible given hidden\n",
    "    def _sample_v_given_h(self, h):\n",
    "        return self._binom_sample(self.weights, h)\n",
    "    \n",
    "    def propagate_up(self, vis):\n",
    "        \"\"\"\n",
    "        Propagates visible layer activation to hidden layer\n",
    "        \"\"\"\n",
    "        # add in bias\n",
    "        vis = np.insert(vis, 0, 1, axis=0)\n",
    "        vis = np.insert(vis, 0, 1, axis=1)\n",
    "        \n",
    "        print(\"VIS\")\n",
    "        print(vis), vis.shape\n",
    "        \n",
    "        vis_activation = self._sigmoid(np.dot(vis, self.weights))\n",
    "        sample = [np.random.binomial(n=1, p=i) for i in vis_activation]\n",
    "        \n",
    "        print(\"VIS ACTIVATION\")\n",
    "        print(vis_activation)\n",
    "        \n",
    "        return [vis_activation, sample]\n",
    "\n",
    "    def propagate_down(self, hid):\n",
    "        \"\"\"\n",
    "        Propagates hidden layer activation to visible layer\n",
    "        \"\"\"\n",
    "        print(hid)\n",
    "        hidden_activation = self._sigmoid(np.dot(hid, self.weights.T))\n",
    "        return hidden_activation\n",
    "\n",
    "    \n",
    "    def CDk(self, max_epochs=1000):\n",
    "        \"\"\"\n",
    "        Trains the RBM\n",
    "        \"\"\"\n",
    "        \n",
    "        for epoch in xrange(0,max_epochs):\n",
    "\n",
    "            data = np.insert(self.data, 0, 1, axis=1)\n",
    "            data = np.insert(data, 0, 1, axis=0)\n",
    "            \n",
    "            # CDk positive phase\n",
    "            up_data = self.propagate_up(self.data)\n",
    "            up_associations = np.dot(data.T, up_data[1])\n",
    "            \n",
    "            # CDk negative phase\n",
    "            down_vis_probs = self.propagate_down(up_data[0])\n",
    "            \n",
    "            print(\"DOWN VIS PROBS\")\n",
    "            print(down_vis_probs)\n",
    "            \n",
    "            down_vis_probs = down_vis_probs[1:,:]#remove the bias layer\n",
    "            \n",
    "            print(\"DOWN VIS PROBS REMOVE BIAS\")\n",
    "            print(down_vis_probs)\n",
    "            \n",
    "            down_associations = self.propagate_down(down_vis_probs.T) \n",
    "            down_associations = np.dot(down_vis_probs.T, down_associations)\n",
    "            \n",
    "            self.weights += self.learning_rate * \\\n",
    "                ((up_associations - down_associations)/self.num_data)\n",
    "                \n",
    "            error = np.sum((data - down_vis_probs) ** 2)\n",
    "            if epoch == 1000:\n",
    "                return down_vis_probs\n",
    "            #print(\"Epoch: \", epoch, \", Error: \", error)\n",
    "    \n",
    "    \n",
    "    def Gibbs_alternating(num_gen_samples):\n",
    "        samples = np.ones((num_gen_samples, self.num_vis + 1))\n",
    "        samples[0,1:] = np.random.rand(self.num_vis)\n",
    "        for i in xrange(0, self.num_data-1):\n",
    "            # calculate hidden from visible\n",
    "            v = samples [i,:]\n",
    "            h = _sample_h_given_v(v)\n",
    "            h[0] = 1\n",
    "            # calculate visible\n",
    "            v = _sample_v_given_h(h)\n",
    "            samples[i+1,:] = v      \n",
    "        return samples[:,1:]\n",
    "    "
   ]
  },
  {
   "cell_type": "code",
   "execution_count": 82,
   "metadata": {
    "collapsed": false
   },
   "outputs": [
    {
     "name": "stdout",
     "output_type": "stream",
     "text": [
      "VIS\n",
      "[[1 1 1 1 1]\n",
      " [1 0 0 1 1]\n",
      " [1 1 0 1 0]\n",
      " [1 0 1 0 0]\n",
      " [1 0 0 1 0]\n",
      " [1 1 0 1 1]]\n",
      "VIS ACTIVATION\n",
      "[[ 0.85059376  0.85237934  0.90854644  0.93278191  0.90128655  0.96741815]\n",
      " [ 0.81047483  0.80124824  0.87300753  0.84644308  0.64791178  0.82882799]\n",
      " [ 0.77022768  0.79788111  0.84500552  0.79045187  0.78444256  0.86630338]\n",
      " [ 0.57523079  0.701423    0.75856157  0.58647006  0.77118222  0.81297976]\n",
      " [ 0.72429806  0.74883416  0.82555145  0.67209766  0.62181487  0.72908781]\n",
      " [ 0.84511804  0.84221655  0.8878881   0.91026992  0.80287486  0.92099956]]\n",
      "[[ 0.85059376  0.85237934  0.90854644  0.93278191  0.90128655  0.96741815]\n",
      " [ 0.81047483  0.80124824  0.87300753  0.84644308  0.64791178  0.82882799]\n",
      " [ 0.77022768  0.79788111  0.84500552  0.79045187  0.78444256  0.86630338]\n",
      " [ 0.57523079  0.701423    0.75856157  0.58647006  0.77118222  0.81297976]\n",
      " [ 0.72429806  0.74883416  0.82555145  0.67209766  0.62181487  0.72908781]\n",
      " [ 0.84511804  0.84221655  0.8878881   0.91026992  0.80287486  0.92099956]]\n",
      "DOWN VIS PROBS\n",
      "[[ 0.93310511  0.93762646  0.90319334  0.93117932  0.93107569]\n",
      " [ 0.91467691  0.90931586  0.8650983   0.91630786  0.91370539]\n",
      " [ 0.91735913  0.91666248  0.87843393  0.91190072  0.90975567]\n",
      " [ 0.8966639   0.89370871  0.86029841  0.87539233  0.87210064]\n",
      " [ 0.8998155   0.88576181  0.84168665  0.89274108  0.88597013]\n",
      " [ 0.92699104  0.92893177  0.89067135  0.92686031  0.92616824]]\n",
      "DOWN VIS PROBS REMOVE BIAS\n",
      "[[ 0.91467691  0.90931586  0.8650983   0.91630786  0.91370539]\n",
      " [ 0.91735913  0.91666248  0.87843393  0.91190072  0.90975567]\n",
      " [ 0.8966639   0.89370871  0.86029841  0.87539233  0.87210064]\n",
      " [ 0.8998155   0.88576181  0.84168665  0.89274108  0.88597013]\n",
      " [ 0.92699104  0.92893177  0.89067135  0.92686031  0.92616824]]\n",
      "[[ 0.91467691  0.91735913  0.8966639   0.8998155   0.92699104]\n",
      " [ 0.90931586  0.91666248  0.89370871  0.88576181  0.92893177]\n",
      " [ 0.8650983   0.87843393  0.86029841  0.84168665  0.89067135]\n",
      " [ 0.91630786  0.91190072  0.87539233  0.89274108  0.92686031]\n",
      " [ 0.91370539  0.90975567  0.87210064  0.88597013  0.92616824]]\n"
     ]
    },
    {
     "ename": "ValueError",
     "evalue": "shapes (5,5) and (6,5) not aligned: 5 (dim 1) != 6 (dim 0)",
     "output_type": "error",
     "traceback": [
      "\u001b[0;31m---------------------------------------------------------------------------\u001b[0m\n\u001b[0;31mValueError\u001b[0m                                Traceback (most recent call last)",
      "\u001b[0;32m<ipython-input-82-a129db9da71e>\u001b[0m in \u001b[0;36m<module>\u001b[0;34m()\u001b[0m\n\u001b[1;32m      1\u001b[0m \u001b[0mr\u001b[0m \u001b[0;34m=\u001b[0m \u001b[0mRBM\u001b[0m\u001b[0;34m(\u001b[0m\u001b[0mdata_array\u001b[0m\u001b[0;34m,\u001b[0m \u001b[0mdata_array\u001b[0m\u001b[0;34m.\u001b[0m\u001b[0mshape\u001b[0m\u001b[0;34m[\u001b[0m\u001b[0;36m0\u001b[0m\u001b[0;34m]\u001b[0m\u001b[0;34m,\u001b[0m \u001b[0;36m3\u001b[0m\u001b[0;34m,\u001b[0m \u001b[0;36m.1\u001b[0m\u001b[0;34m)\u001b[0m\u001b[0;34m\u001b[0m\u001b[0m\n\u001b[0;32m----> 2\u001b[0;31m \u001b[0msample\u001b[0m \u001b[0;34m=\u001b[0m \u001b[0mr\u001b[0m\u001b[0;34m.\u001b[0m\u001b[0mCDk\u001b[0m\u001b[0;34m(\u001b[0m\u001b[0mmax_epochs\u001b[0m\u001b[0;34m=\u001b[0m\u001b[0;36m100\u001b[0m\u001b[0;34m)\u001b[0m\u001b[0;34m\u001b[0m\u001b[0m\n\u001b[0m\u001b[1;32m      3\u001b[0m \u001b[0;32mprint\u001b[0m\u001b[0;34m(\u001b[0m\u001b[0mr\u001b[0m\u001b[0;34m.\u001b[0m\u001b[0mweights\u001b[0m\u001b[0;34m)\u001b[0m\u001b[0;34m\u001b[0m\u001b[0m\n\u001b[1;32m      4\u001b[0m \u001b[0muser\u001b[0m \u001b[0;34m=\u001b[0m \u001b[0mnp\u001b[0m\u001b[0;34m.\u001b[0m\u001b[0marray\u001b[0m\u001b[0;34m(\u001b[0m\u001b[0;34m[\u001b[0m\u001b[0;34m[\u001b[0m\u001b[0;36m1\u001b[0m\u001b[0;34m,\u001b[0m \u001b[0;36m0\u001b[0m\u001b[0;34m,\u001b[0m \u001b[0;36m0\u001b[0m\u001b[0;34m,\u001b[0m \u001b[0;36m0\u001b[0m\u001b[0;34m,\u001b[0m \u001b[0;36m1\u001b[0m\u001b[0;34m,\u001b[0m \u001b[0;36m0\u001b[0m\u001b[0;34m]\u001b[0m\u001b[0;34m]\u001b[0m\u001b[0;34m)\u001b[0m\u001b[0;34m\u001b[0m\u001b[0m\n\u001b[1;32m      5\u001b[0m \u001b[0;32mprint\u001b[0m\u001b[0;34m(\u001b[0m\u001b[0mr\u001b[0m\u001b[0;34m.\u001b[0m\u001b[0m_sample_h_given_v\u001b[0m\u001b[0;34m(\u001b[0m\u001b[0muser\u001b[0m\u001b[0;34m)\u001b[0m\u001b[0;34m)\u001b[0m\u001b[0;34m\u001b[0m\u001b[0m\n",
      "\u001b[0;32m<ipython-input-81-0b28b93065b0>\u001b[0m in \u001b[0;36mCDk\u001b[0;34m(self, max_epochs)\u001b[0m\n\u001b[1;32m     90\u001b[0m             \u001b[0;32mprint\u001b[0m\u001b[0;34m(\u001b[0m\u001b[0mdown_vis_probs\u001b[0m\u001b[0;34m)\u001b[0m\u001b[0;34m\u001b[0m\u001b[0m\n\u001b[1;32m     91\u001b[0m \u001b[0;34m\u001b[0m\u001b[0m\n\u001b[0;32m---> 92\u001b[0;31m             \u001b[0mdown_associations\u001b[0m \u001b[0;34m=\u001b[0m \u001b[0mself\u001b[0m\u001b[0;34m.\u001b[0m\u001b[0mpropagate_down\u001b[0m\u001b[0;34m(\u001b[0m\u001b[0mdown_vis_probs\u001b[0m\u001b[0;34m.\u001b[0m\u001b[0mT\u001b[0m\u001b[0;34m)\u001b[0m\u001b[0;34m\u001b[0m\u001b[0m\n\u001b[0m\u001b[1;32m     93\u001b[0m             \u001b[0mdown_associations\u001b[0m \u001b[0;34m=\u001b[0m \u001b[0mnp\u001b[0m\u001b[0;34m.\u001b[0m\u001b[0mdot\u001b[0m\u001b[0;34m(\u001b[0m\u001b[0mdown_vis_probs\u001b[0m\u001b[0;34m.\u001b[0m\u001b[0mT\u001b[0m\u001b[0;34m,\u001b[0m \u001b[0mdown_associations\u001b[0m\u001b[0;34m)\u001b[0m\u001b[0;34m\u001b[0m\u001b[0m\n\u001b[1;32m     94\u001b[0m \u001b[0;34m\u001b[0m\u001b[0m\n",
      "\u001b[0;32m<ipython-input-81-0b28b93065b0>\u001b[0m in \u001b[0;36mpropagate_down\u001b[0;34m(self, hid)\u001b[0m\n\u001b[1;32m     61\u001b[0m         \"\"\"\n\u001b[1;32m     62\u001b[0m         \u001b[0;32mprint\u001b[0m\u001b[0;34m(\u001b[0m\u001b[0mhid\u001b[0m\u001b[0;34m)\u001b[0m\u001b[0;34m\u001b[0m\u001b[0m\n\u001b[0;32m---> 63\u001b[0;31m         \u001b[0mhidden_activation\u001b[0m \u001b[0;34m=\u001b[0m \u001b[0mself\u001b[0m\u001b[0;34m.\u001b[0m\u001b[0m_sigmoid\u001b[0m\u001b[0;34m(\u001b[0m\u001b[0mnp\u001b[0m\u001b[0;34m.\u001b[0m\u001b[0mdot\u001b[0m\u001b[0;34m(\u001b[0m\u001b[0mhid\u001b[0m\u001b[0;34m,\u001b[0m \u001b[0mself\u001b[0m\u001b[0;34m.\u001b[0m\u001b[0mweights\u001b[0m\u001b[0;34m.\u001b[0m\u001b[0mT\u001b[0m\u001b[0;34m)\u001b[0m\u001b[0;34m)\u001b[0m\u001b[0;34m\u001b[0m\u001b[0m\n\u001b[0m\u001b[1;32m     64\u001b[0m         \u001b[0;32mreturn\u001b[0m \u001b[0mhidden_activation\u001b[0m\u001b[0;34m\u001b[0m\u001b[0m\n\u001b[1;32m     65\u001b[0m \u001b[0;34m\u001b[0m\u001b[0m\n",
      "\u001b[0;31mValueError\u001b[0m: shapes (5,5) and (6,5) not aligned: 5 (dim 1) != 6 (dim 0)"
     ]
    }
   ],
   "source": [
    "r = RBM(data_array, data_array.shape[0], 3, .1)\n",
    "sample = r.CDk(max_epochs=100)\n",
    "print(r.weights)\n",
    "user = np.array([[1, 0, 0, 0, 1, 0]])\n",
    "print(r._sample_h_given_v(user))"
   ]
  },
  {
   "cell_type": "code",
   "execution_count": null,
   "metadata": {
    "collapsed": false
   },
   "outputs": [],
   "source": []
  }
 ],
 "metadata": {
  "kernelspec": {
   "display_name": "Python 2",
   "language": "python",
   "name": "python2"
  },
  "language_info": {
   "codemirror_mode": {
    "name": "ipython",
    "version": 2
   },
   "file_extension": ".py",
   "mimetype": "text/x-python",
   "name": "python",
   "nbconvert_exporter": "python",
   "pygments_lexer": "ipython2",
   "version": "2.7.9"
  }
 },
 "nbformat": 4,
 "nbformat_minor": 0
}
