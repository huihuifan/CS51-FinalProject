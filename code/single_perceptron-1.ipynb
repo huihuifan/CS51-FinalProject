{
 "cells": [
  {
   "cell_type": "code",
   "execution_count": 119,
   "metadata": {
    "collapsed": true
   },
   "outputs": [],
   "source": [
    "%matplotlib inline\n",
    "\n",
    "from __future__ import absolute_import, print_function, unicode_literals, division\n",
    "from sklearn.datasets import fetch_mldata\n",
    "import matplotlib.pyplot as plt\n",
    "import numpy as np\n",
    "import pandas as pd\n",
    "import itertools\n",
    "import random as rand\n",
    "import copy"
   ]
  },
  {
   "cell_type": "code",
   "execution_count": 120,
   "metadata": {
    "collapsed": false
   },
   "outputs": [],
   "source": [
    "class MLP(object):\n",
    "    \"\"\"\n",
    "    NOTE: Matrix operations are modified from RBM file\n",
    "    In particular, we have an an an input of n data points with\n",
    "    dimension d as a d-by-n matrix\n",
    "    \n",
    "    \"\"\"\n",
    "    def __init__(self, data, num_hidden, learn_rate):\n",
    "        \"\"\"\n",
    "        Target values in training data are the first row of data \n",
    "        \"\"\"\n",
    "        self.targets = data[0]\n",
    "        self.data = data[1:,:]\n",
    "        self.num_data = data.shape[1]\n",
    "        \n",
    "        self.num_visible = data.shape[0] - 1\n",
    "        self.num_hidden = num_hidden\n",
    "        self.learn_rate = learn_rate\n",
    "        self.state_size = 2 * (np.amax(self.targets) - np.amin(self.targets)) + 4\n",
    "\n",
    "        self.weights = 2 * np.random.rand(self.num_visible + 1, self.num_hidden) - 1\n",
    "        self.data = np.insert(self.data, 0, 1, axis = 0)\n",
    "    \n",
    "    def _sigmoid(self,x):\n",
    "        return 1.0/(1.0+np.exp(-x))\n",
    "        \n",
    "    def _activated(self,mat):\n",
    "        activated = self._sigmoid(self.weights.T.dot(mat))\n",
    "        return activated\n",
    "    \n",
    "    def _gradient(self,mat):\n",
    "        prod = mat - np.multiply(mat,mat)\n",
    "        return prod\n",
    "    \n",
    "    def train(self, iterations=30):\n",
    "        data_copy = copy.deepcopy(self.data)\n",
    "        for j in range(0,iterations):\n",
    "            for i in range(0,self.num_data):\n",
    "\n",
    "                \"\"\"Feed-forward phase\"\"\"\n",
    "                data_col = data_copy[:,i]\n",
    "                data_col = np.reshape(data_col, (-1, 1))\n",
    "                activated_output = (self._activated(data_col))[0]\n",
    "                guess = self.state_size * (2 * activated_output - 1)\n",
    "\n",
    "                \"\"\"Error calculation phase\"\"\"\n",
    "                error = self.targets[i] - guess\n",
    "\n",
    "                \"\"\"Back-propagation phase\"\"\"\n",
    "                grad = (self._gradient(activated_output))[0]\n",
    "                c = (error * self.learn_rate)[0]\n",
    "                wt_change = c * grad * data_col\n",
    "                self.weights = wt_change + self.weights\n",
    "    \n",
    "    def pred(self, test):\n",
    "        \"\"\"\n",
    "        No target values for prediction data so there is one fewer row\n",
    "        than in the training data\n",
    "        \"\"\"\n",
    "        test_copy = copy.deepcopy(test)\n",
    "        test_copy = np.insert(test_copy, 0, 1, axis = 0)\n",
    "        pred_p = self._activated(test_copy)[0]\n",
    "        pred = 2 * pred_p - 1\n",
    "        pred = self.state_size * pred\n",
    "        return pred\n"
   ]
  },
  {
   "cell_type": "code",
   "execution_count": 121,
   "metadata": {
    "collapsed": false
   },
   "outputs": [
    {
     "name": "stdout",
     "output_type": "stream",
     "text": [
      "Weights^T: \n",
      " [[-0.70816771 -0.29493128  0.8096765   0.30764328  0.14108006 -0.74447699\n",
      "  -0.36070218 -0.01232617  0.14024816 -0.37432374]]\n"
     ]
    }
   ],
   "source": [
    "# Reference links:\n",
    "# - www.cse.unsw.edu.au/~cs9417ml/MLP2/\n",
    "# - www.hiit.fi/u/ahonkela/dippa/node41.html\n",
    "\n",
    "# Generate training data (no noise)\n",
    "dims = 10\n",
    "data_pts = 50 * dims\n",
    "sample_data = 2*np.random.rand(dims,data_pts)-1\n",
    "sample_data[0] = (4 * sample_data[1] - 1 * sample_data[2]) \n",
    "\n",
    "# Need to write binary target values for data as well for MLP\n",
    "MLP_1 = MLP(sample_data,1,0.01) #0.035 threshold\n",
    "print(\"Weights^T: \\n\",MLP_1.weights.T)"
   ]
  },
  {
   "cell_type": "code",
   "execution_count": 122,
   "metadata": {
    "collapsed": false
   },
   "outputs": [
    {
     "name": "stdout",
     "output_type": "stream",
     "text": [
      "Weights: \n",
      " [[  1.79901080e-05]\n",
      " [  3.53444997e-01]\n",
      " [ -8.87793129e-02]\n",
      " [ -5.86038602e-05]\n",
      " [  1.05837317e-05]\n",
      " [  7.79664335e-05]\n",
      " [  1.75605806e-05]\n",
      " [ -6.72653392e-05]\n",
      " [ -7.55286328e-05]\n",
      " [ -6.27946120e-05]]\n"
     ]
    }
   ],
   "source": [
    "MLP_1.train(10)\n",
    "print(\"Weights: \\n\", MLP_1.weights)"
   ]
  },
  {
   "cell_type": "code",
   "execution_count": 123,
   "metadata": {
    "collapsed": false
   },
   "outputs": [
    {
     "name": "stdout",
     "output_type": "stream",
     "text": [
      "targets: \n",
      " [ 3.8062859  -2.63614404 -3.54867594  2.04171831  1.10545327 -0.30439306\n",
      "  1.8436519  -3.29094546 -0.4100905   1.63184036]\n",
      "Guesses: \n",
      " [ 3.80039586 -2.64454947 -3.54461537  2.05550002  1.11560882 -0.30252534\n",
      "  1.85207075 -3.29144664 -0.41268897  1.64072505]\n"
     ]
    }
   ],
   "source": [
    "dims = 9\n",
    "test_pts = 10\n",
    "test_data = 2*np.random.rand(dims,test_pts)-1\n",
    "print(\"targets: \\n\", 4 * test_data[0] - 1 * test_data[1] )\n",
    "guesses = MLP_1.pred(test_data)\n",
    "print(\"Guesses: \\n\", guesses)"
   ]
  },
  {
   "cell_type": "code",
   "execution_count": 128,
   "metadata": {
    "collapsed": false
   },
   "outputs": [
    {
     "data": {
      "text/plain": [
       "array([ 0.50858904,  0.50044083,  0.49750052,  0.48934979])"
      ]
     },
     "execution_count": 128,
     "metadata": {},
     "output_type": "execute_result"
    }
   ],
   "source": [
    "# Training on XOR will not yield results since single\n",
    "# perceptron cannot resolve nonlinearity\n",
    "data2 = np.array([[0,1,1,0],[0,0,1,1],[0,1,0,1]])\n",
    "MLP_2 = MLP(data2,1,0.01)\n",
    "MLP_2.train(1000)\n",
    "data2a = np.array([[0,0,1,1],[0,1,0,1]])\n",
    "MLP_2.pred(data2a)"
   ]
  },
  {
   "cell_type": "code",
   "execution_count": null,
   "metadata": {
    "collapsed": true
   },
   "outputs": [],
   "source": []
  }
 ],
 "metadata": {
  "kernelspec": {
   "display_name": "Python 2",
   "language": "python",
   "name": "python2"
  },
  "language_info": {
   "codemirror_mode": {
    "name": "ipython",
    "version": 2
   },
   "file_extension": ".py",
   "mimetype": "text/x-python",
   "name": "python",
   "nbconvert_exporter": "python",
   "pygments_lexer": "ipython2",
   "version": "2.7.9"
  }
 },
 "nbformat": 4,
 "nbformat_minor": 0
}
