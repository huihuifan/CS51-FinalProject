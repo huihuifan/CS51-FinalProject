{
 "cells": [
  {
   "cell_type": "markdown",
   "metadata": {},
   "source": [
    "##Imports"
   ]
  },
  {
   "cell_type": "code",
   "execution_count": 3,
   "metadata": {
    "collapsed": false
   },
   "outputs": [],
   "source": [
    "%matplotlib inline\n",
    "\n",
    "from __future__ import absolute_import, print_function, unicode_literals, division\n",
    "from sklearn.datasets import fetch_mldata\n",
    "import matplotlib.pyplot as plt\n",
    "import numpy as np\n",
    "import pandas as pd\n",
    "import itertools\n",
    "import random as rand\n",
    "import copy"
   ]
  },
  {
   "cell_type": "markdown",
   "metadata": {},
   "source": [
    "##Fetch MNIST Dataset"
   ]
  },
  {
   "cell_type": "code",
   "execution_count": 18,
   "metadata": {
    "collapsed": false
   },
   "outputs": [
    {
     "name": "stdout",
     "output_type": "stream",
     "text": [
      "(70000, 784)\n"
     ]
    }
   ],
   "source": [
    "DATA_PATH = '~/data'\n",
    "mnist = fetch_mldata('MNIST original', data_home=DATA_PATH)\n",
    "print(mnist.data.shape)"
   ]
  },
  {
   "cell_type": "markdown",
   "metadata": {},
   "source": [
    "#### Example Image"
   ]
  },
  {
   "cell_type": "code",
   "execution_count": 6,
   "metadata": {
    "collapsed": false
   },
   "outputs": [
    {
     "data": {
      "image/png": "[encoded data removed]",
      "text/plain": [
       "<matplotlib.figure.Figure at 0x108fed790>"
      ]
     },
     "metadata": {},
     "output_type": "display_data"
    }
   ],
   "source": [
    "data_array = mnist.data\n",
    "plt.imshow(data_array[0].reshape(28, 28), cmap = 'Greys')\n",
    "plt.show()"
   ]
  },
  {
   "cell_type": "markdown",
   "metadata": {},
   "source": [
    "#### Standard basic RBMs take binary inputs only, so we'll convert the image to a binary matrix"
   ]
  },
  {
   "cell_type": "code",
   "execution_count": 7,
   "metadata": {
    "collapsed": false
   },
   "outputs": [
    {
     "data": {
      "image/png": "[encoded data removed]",
      "text/plain": [
       "<matplotlib.figure.Figure at 0x10900bfd0>"
      ]
     },
     "metadata": {},
     "output_type": "display_data"
    }
   ],
   "source": [
    "for img in data_array:\n",
    "    # set arbitrary, reasonable cutoff\n",
    "    img[img < 100] = 0\n",
    "    img[img > 0] = 1\n",
    "\n",
    "# sample image after converting to binary matrix\n",
    "plt.imshow(data_array[0].reshape(28, 28), cmap = 'Greys')\n",
    "plt.show()"
   ]
  },
  {
   "cell_type": "markdown",
   "metadata": {},
   "source": [
    "# RBM Implementation"
   ]
  },
  {
   "cell_type": "code",
   "execution_count": 8,
   "metadata": {
    "collapsed": false
   },
   "outputs": [],
   "source": [
    "class RBM(object):\n",
    "    \"\"\"\n",
    "    Implementation of Restricted Boltzmann Machine for binary prediction\n",
    "    \n",
    "    Inputs:\n",
    "    Data\n",
    "    Number of hidden and visible states\n",
    "    Learning rate, default set to 0.1\n",
    "    Number of Epochs to train for\n",
    "    \n",
    "    Outputs:\n",
    "    Weight matrix\n",
    "    Epoch number and error\n",
    "    \"\"\"\n",
    "\n",
    "    def __init__(self, data, num_visible, num_hidden, num_epochs, learning_rate=0.1):\n",
    "        \n",
    "        self.data = data\n",
    "        self.num_data = data.shape[0]\n",
    "        self.num_hidden = num_hidden\n",
    "        self.num_visible = num_visible\n",
    "        self.learning_rate = learning_rate\n",
    "        self.num_epochs = num_epochs\n",
    "\n",
    "        # weight matrix first row and first column represent the bias\n",
    "        self.weights = np.random.rand(self.num_visible, self.num_hidden) \n",
    "        self.weights = np.insert(self.weights, 0, 0, axis = 0)\n",
    "        self.weights = np.insert(self.weights, 0, 0, axis = 1)\n",
    "    \n",
    "    def _sigmoid(self,x):\n",
    "        \"\"\"\n",
    "        Sigmoid Binary Activation function\n",
    "        \"\"\"\n",
    "        return 1.0/(1.0+np.exp(-x))\n",
    "    \n",
    "    def _gen_prob(self,a,b):\n",
    "        return self._sigmoid(np.dot(a,b))\n",
    "    \n",
    "    def _gen_assoc(self,a):\n",
    "        probs = self._gen_prob(a,self.weights)\n",
    "        return np.dot(a.T,probs)\n",
    "    \n",
    "    def CDk(self):\n",
    "        \"\"\"\n",
    "        Implementation of CD-k iterative training algorithm\n",
    "        \"\"\"\n",
    "        max_epochs = self.num_epochs + 1\n",
    "        \n",
    "        # array \n",
    "        error_array = []\n",
    "        \n",
    "        # insert the bias layer into the data\n",
    "        self.data = np.insert(self.data, 0, 1, axis=1)\n",
    "        \n",
    "        # iterate for each epoch\n",
    "        for epoch in xrange(0, max_epochs):\n",
    "            \n",
    "            # CD-k positive phase\n",
    "            up_probs = self._gen_prob(self.data,self.weights)\n",
    "            up_associations = self._gen_assoc(self.data)\n",
    "            up_states = up_probs > np.random.rand(self.num_data, self.num_hidden + 1)\n",
    "            \n",
    "            # CD-k negative phase\n",
    "            down_probs = self._gen_prob(up_states,self.weights.T)\n",
    "            down_probs[:,0] = 1 \n",
    "            down_associations = self._gen_assoc(down_probs)\n",
    "            \n",
    "            # Update weights iteratively based on positive and negative phases\n",
    "            self.weights += self.learning_rate * \\\n",
    "                ((up_associations - down_associations)/self.num_data)\n",
    "                \n",
    "            # Calculate error\n",
    "            error = np.sum((self.data - down_probs) ** 2)\n",
    "            \n",
    "            error_array.append(error)\n",
    "\n",
    "            # Print information about the last epoch\n",
    "            if epoch == self.num_epochs:\n",
    "                print(\"Layers: \", self.num_hidden, \"Rate: \", self.learning_rate, \"Epoch: \", epoch, \", Error: \", error)\n",
    "                return down_probs, error_array\n"
   ]
  },
  {
   "cell_type": "markdown",
   "metadata": {},
   "source": [
    "#### Run RBM on MNIST dataset"
   ]
  },
  {
   "cell_type": "code",
   "execution_count": 10,
   "metadata": {
    "collapsed": false
   },
   "outputs": [
    {
     "name": "stdout",
     "output_type": "stream",
     "text": [
      "Layers:  300 Rate:  0.4 Epoch:  2 , Error:  7367410.50308\n",
      "[[  3.21438805e-04  -2.48814926e-01  -1.56405595e-01 ...,  -1.70629746e-01\n",
      "   -6.58054659e-02  -6.68862448e-02]\n",
      " [ -2.00000000e-01  -4.77581260e-01   8.99217855e-03 ...,  -3.62902924e-01\n",
      "   -3.06184888e-01   1.47398410e-01]\n",
      " [ -2.00000000e-01  -7.74416582e-02  -3.88403706e-01 ...,   6.13304089e-03\n",
      "    1.06605882e-01  -5.13690037e-01]\n",
      " ..., \n",
      " [ -2.00000000e-01  -6.82291506e-01  -4.14497005e-01 ...,  -7.34400773e-01\n",
      "   -1.34211649e-01  -1.36529374e-01]\n",
      " [ -2.00000000e-01   1.76771530e-01  -4.38260470e-01 ...,  -4.84866201e-01\n",
      "    6.71490121e-02  -3.05193755e-01]\n",
      " [ -2.00000000e-01  -4.67679532e-01  -4.23807854e-02 ...,  -2.61282774e-01\n",
      "   -5.95545627e-01  -1.87658296e-01]]\n"
     ]
    }
   ],
   "source": [
    "visible_units = data_array.shape[1]\n",
    "epochs = 2\n",
    "hidden_layers = 300\n",
    "learning_rate = 0.4\n",
    "\n",
    "r = RBM(data_array, visible_units, hidden_layers, epochs, learning_rate)\n",
    "sample = r.CDk()\n",
    "print(r.weights)"
   ]
  },
  {
   "cell_type": "markdown",
   "metadata": {},
   "source": [
    "## Parameter Optimization using Cross Validation "
   ]
  },
  {
   "cell_type": "code",
   "execution_count": 6,
   "metadata": {
    "collapsed": false
   },
   "outputs": [
    {
     "name": "stdout",
     "output_type": "stream",
     "text": [
      "Layers:  100 Rate:  0.1 Epoch:  100 , Error:  2924093.40296\n",
      "Layers:  100 Rate:  0.2 Epoch:  100 , Error:  2590810.49885\n",
      "Layers:  100 Rate:  0.3 Epoch:  100 , Error:  2419529.13044\n",
      "Layers:  100 Rate:  0.4 Epoch:  100 , Error:  2953467.43609\n",
      "Layers:  100 Rate:  0.5 Epoch:  100 , Error:  3080931.4865\n",
      "Layers:  100 Rate:  0.6 Epoch:  100 , Error:  4649189.5418\n",
      "Layers:  100 Rate:  0.7 Epoch:  100 , Error:  13714638.9772\n",
      "Layers:  100 Rate:  0.8 Epoch:  100 , Error:  7172705.9948\n",
      "Layers:  100 Rate:  0.9 Epoch:  100 , Error:  2575479.49496\n",
      "Layers:  200 Rate:  0.1 Epoch:  100 , Error:  2379539.26787\n",
      "Layers:  200 Rate:  0.2 Epoch:  100 , Error:  2171885.90979\n",
      "Layers:  200 Rate:  0.3 Epoch:  100 , Error:  2084536.22896\n",
      "Layers:  200 Rate:  0.4 Epoch:  100 , Error:  2846840.70569\n",
      "Layers:  200 Rate:  0.5 Epoch:  100 , Error:  3097520.46994\n",
      "Layers:  200 Rate:  0.6 Epoch:  100 , Error:  4288084.20697\n",
      "Layers:  200 Rate:  0.7 Epoch:  100 , Error:  13712224.226\n",
      "Layers:  200 Rate:  0.8 Epoch:  100 , Error:  13710518.5787\n",
      "Layers:  200 Rate:  0.9 Epoch:  100 , Error:  2787005.78354\n",
      "Layers:  300 Rate:  0.1 Epoch:  100 , Error:  2046802.3657\n",
      "Layers:  300 Rate:  0.2 Epoch:  100 , Error:  1926056.93459\n",
      "Layers:  300 Rate:  0.3 Epoch:  100 , Error:  1981525.25896\n",
      "Layers:  300 Rate:  0.4 Epoch:  100 , Error:  2847273.69118\n",
      "Layers:  300 Rate:  0.5 Epoch:  100 , Error:  3006773.68455\n",
      "Layers:  300 Rate:  0.6 Epoch:  100 , Error:  4303682.89814\n",
      "Layers:  300 Rate:  0.7 Epoch:  100 , Error:  13708779.3511\n",
      "Layers:  300 Rate:  0.8 Epoch:  100 , Error:  13704324.2519\n",
      "Layers:  300 Rate:  0.9 Epoch:  100 , Error:  2887347.75473\n",
      "Layers:  400 Rate:  0.1 Epoch:  100 , Error:  1823233.01865\n",
      "Layers:  400 Rate:  0.2 Epoch:  100 , Error:  1811815.23658\n",
      "Layers:  400 Rate:  0.3 Epoch:  100 , Error:  1953322.35286\n",
      "Layers:  400 Rate:  0.4 Epoch:  100 , Error:  2823419.13375\n",
      "Layers:  400 Rate:  0.5 Epoch:  100 , Error:  3112308.75366\n",
      "Layers:  400 Rate:  0.6 Epoch:  100 , Error:  4004538.25567\n",
      "Layers:  400 Rate:  0.7 Epoch:  100 , Error:  13707391.2001\n",
      "Layers:  400 Rate:  0.8 Epoch:  100 , Error:  5856242.82855\n",
      "Layers:  400 Rate:  0.9 Epoch:  100 , Error:  2938582.10929\n",
      "Layers:  500 Rate:  0.1 Epoch:  100 , Error:  1665085.94043\n",
      "Layers:  500 Rate:  0.2 Epoch:  100 , Error:  1693769.41771\n",
      "Layers:  500 Rate:  0.3 Epoch:  100 , Error:  1994401.03571\n",
      "Layers:  500 Rate:  0.4 Epoch:  100 , Error:  2757157.05699\n",
      "Layers:  500 Rate:  0.5 Epoch:  100 , Error:  3040905.88826\n",
      "Layers:  500 Rate:  0.6 Epoch:  100 , Error:  4021528.28946\n",
      "Layers:  500 Rate:  0.7 Epoch:  100 , Error:  13701012.5046\n",
      "Layers:  500 Rate:  0.8 Epoch:  100 , Error:  7713463.47162\n",
      "Layers:  500 Rate:  0.9 Epoch:  100 , Error:  3019489.99364\n",
      "Layers:  600 Rate:  0.1 Epoch:  100 , Error:  1517256.18041\n",
      "Layers:  600 Rate:  0.2 Epoch:  100 , Error:  1623650.97196\n",
      "Layers:  600 Rate:  0.3 Epoch:  100 , Error:  2031870.18235\n",
      "Layers:  600 Rate:  0.4 Epoch:  100 , Error:  2673211.05165\n",
      "Layers:  600 Rate:  0.5 Epoch:  100 , Error:  3029560.25283\n",
      "Layers:  600 Rate:  0.6 Epoch:  100 , Error:  4120259.65396\n",
      "Layers:  600 Rate:  0.7 Epoch:  100 , Error:  12973760.2982\n",
      "Layers:  600 Rate:  0.8 Epoch:  100 , Error:  13708310.9063\n",
      "Layers:  600 Rate:  0.9 Epoch:  100 , Error:  3061058.60966\n",
      "Layers:  700 Rate:  0.1 Epoch:  100 , Error:  1392642.47766\n",
      "Layers:  700 Rate:  0.2 Epoch:  100 , Error:  1575408.88239\n",
      "Layers:  700 Rate:  0.3 Epoch:  100 , Error:  2006883.43541\n",
      "Layers:  700 Rate:  0.4 Epoch:  100 , Error:  2577767.73441\n",
      "Layers:  700 Rate:  0.5 Epoch:  100 , Error:  3028673.28099\n",
      "Layers:  700 Rate:  0.6 Epoch:  100 , Error:  4208326.47134\n",
      "Layers:  700 Rate:  0.7 Epoch:  100 , Error:  13697172.7609\n",
      "Layers:  700 Rate:  0.8 Epoch:  100 , Error:  13702494.5764\n",
      "Layers:  700 Rate:  0.9 Epoch:  100 , Error:  3120012.07861\n",
      "Layers:  800 Rate:  0.1 Epoch:  100 , Error:  1304321.50455\n",
      "Layers:  800 Rate:  0.2 Epoch:  100 , Error:  1510795.68692\n",
      "Layers:  800 Rate:  0.3 Epoch:  100 , Error:  1992585.13496\n",
      "Layers:  800 Rate:  0.4 Epoch:  100 , Error:  2794973.80131\n",
      "Layers:  800 Rate:  0.5 Epoch:  100 , Error:  3037067.13637\n",
      "Layers:  800 Rate:  0.6 Epoch:  100 , Error:  4204442.84024\n",
      "Layers:  800 Rate:  0.7 Epoch:  100 , Error:  13697688.5876\n",
      "Layers:  800 Rate:  0.8 Epoch:  100 , Error:  6379077.53415\n",
      "Layers:  800 Rate:  0.9 Epoch:  100 , Error:  3113164.94272\n",
      "Layers:  900 Rate:  0.1 Epoch:  100 , Error:  1214494.4646\n",
      "Layers:  900 Rate:  0.2 Epoch:  100 , Error:  1505160.8842\n",
      "Layers:  900 Rate:  0.3 Epoch:  100 , Error:  2025026.10274\n",
      "Layers:  900 Rate:  0.4 Epoch:  100 , Error:  2773367.08028\n",
      "Layers:  900 Rate:  0.5 Epoch:  100 , Error:  3025297.073\n",
      "Layers:  900 Rate:  0.6 Epoch:  100 , Error:  3828491.85944\n",
      "Layers:  900 Rate:  0.7 Epoch:  100 , Error:  13577745.8639\n",
      "Layers:  900 Rate:  0.8 Epoch:  100 , Error:  13707472.0032\n",
      "Layers:  900 Rate:  0.9 Epoch:  100 , Error:  2994094.75661\n",
      "Layers:  1000 Rate:  0.1 Epoch:  100 , Error:  1150992.26364\n",
      "Layers:  1000 Rate:  0.2 Epoch:  100 , Error:  1468622.8789\n",
      "Layers:  1000 Rate:  0.3 Epoch:  100 , Error:  2017326.42266\n",
      "Layers:  1000 Rate:  0.4 Epoch:  100 , Error:  2754985.45371\n",
      "Layers:  1000 Rate:  0.5 Epoch:  100 , Error:  2977904.51228\n",
      "Layers:  1000 Rate:  0.6 Epoch:  100 , Error:  3899638.33585\n",
      "Layers:  1000 Rate:  0.7 Epoch:  100 , Error:  13686136.7052\n",
      "Layers:  1000 Rate:  0.8 Epoch:  100 , Error:  7229825.41059\n",
      "Layers:  1000 Rate:  0.9 Epoch:  100 , Error:  2939076.78688\n"
     ]
    }
   ],
   "source": [
    "visible_units = data_array.shape[1]\n",
    "max_epochs = 100\n",
    "max_hidden_layers = 11\n",
    "max_learning_rate = 10\n",
    "\n",
    "# cross validation\n",
    "for hidden_layers in xrange(1, max_hidden_layers):\n",
    "    for learning_rate in xrange(1, max_learning_rate):\n",
    "        r = RBM(data_array, visible_units, 100*hidden_layers, max_epochs, learning_rate/float(10))\n",
    "        r.CDk()"
   ]
  },
  {
   "cell_type": "markdown",
   "metadata": {},
   "source": [
    "#### Can also read our results from this text file"
   ]
  },
  {
   "cell_type": "code",
   "execution_count": 9,
   "metadata": {
    "collapsed": true
   },
   "outputs": [],
   "source": [
    "txt = open(\"crossval.txt\").read()"
   ]
  },
  {
   "cell_type": "code",
   "execution_count": 20,
   "metadata": {
    "collapsed": false
   },
   "outputs": [
    {
     "name": "stdout",
     "output_type": "stream",
     "text": [
      "  2924093.40296\n",
      "  2590810.49885\n",
      "  2419529.13044\n",
      "  2953467.43609\n",
      "  3080931.4865\n",
      "  4649189.5418\n",
      "  13714638.9772\n",
      "  7172705.9948\n",
      "  2575479.49496\n",
      "  2379539.26787\n",
      "  2171885.90979\n",
      "  2084536.22896\n",
      "  2846840.70569\n",
      "  3097520.46994\n",
      "  4288084.20697\n",
      "  13712224.226\n",
      "  13710518.5787\n",
      "  2787005.78354\n",
      "  2046802.3657\n",
      "  1926056.93459\n",
      "  1981525.25896\n",
      "  2847273.69118\n",
      "  3006773.68455\n",
      "  4303682.89814\n",
      "  13708779.3511\n",
      "  13704324.2519\n",
      "  2887347.75473\n",
      "  1823233.01865\n",
      "  1811815.23658\n",
      "  1953322.35286\n",
      "  2823419.13375\n",
      "  3112308.75366\n",
      "  4004538.25567\n",
      "  13707391.2001\n",
      "  5856242.82855\n",
      "  2938582.10929\n",
      "  1665085.94043\n",
      "  1693769.41771\n",
      "  1994401.03571\n",
      "  2757157.05699\n",
      "  3040905.88826\n",
      "  4021528.28946\n",
      "  13701012.5046\n",
      "  7713463.47162\n",
      "  3019489.99364\n",
      "  1517256.18041\n",
      "  1623650.97196\n",
      "  2031870.18235\n",
      "  2673211.05165\n",
      "  3029560.25283\n",
      "  4120259.65396\n",
      "  12973760.2982\n",
      "  13708310.9063\n",
      "  3061058.60966\n",
      "  1392642.47766\n",
      "  1575408.88239\n",
      "  2006883.43541\n",
      "  2577767.73441\n",
      "  3028673.28099\n",
      "  4208326.47134\n",
      "  13697172.7609\n",
      "  13702494.5764\n",
      "  3120012.07861\n",
      "  1304321.50455\n",
      "  1510795.68692\n",
      "  1992585.13496\n",
      "  2794973.80131\n",
      "  3037067.13637\n",
      "  4204442.84024\n",
      "  13697688.5876\n",
      "  6379077.53415\n",
      "  3113164.94272\n",
      "  1214494.4646\n",
      "  1505160.8842\n",
      "  2025026.10274\n",
      "  2773367.08028\n",
      "  3025297.073\n",
      "  3828491.85944\n",
      "  13577745.8639\n",
      "  13707472.0032\n",
      "  2994094.75661\n",
      "  1150992.26364\n",
      "  1468622.8789\n",
      "  2017326.42266\n",
      "  2754985.45371\n",
      "  2977904.51228\n",
      "  3899638.33585\n",
      "  13686136.7052\n",
      "  7229825.41059\n",
      "  2939076.78688\n"
     ]
    }
   ],
   "source": [
    "with open(\"crossval.txt\") as f:\n",
    "    content = f.readlines()\n",
    "    sep = \"r:\"\n",
    "    for line in content:\n",
    "        print((line.rstrip()).split(sep, 1)[1])"
   ]
  },
  {
   "cell_type": "markdown",
   "metadata": {},
   "source": [
    "## Visualizing our RBM Output"
   ]
  },
  {
   "cell_type": "code",
   "execution_count": 9,
   "metadata": {
    "collapsed": true
   },
   "outputs": [],
   "source": [
    "def rbm_and_plot(data, num_hidden, epochs, learning_rate=.3):\n",
    "    \"\"\"\n",
    "    Trains and plots RBM output on MNIST dataset\n",
    "    \n",
    "    Inputs:\n",
    "    data \n",
    "    number of hidden states\n",
    "    number of epochs\n",
    "    RBM learning rate, default set to 0.3\n",
    "    \n",
    "    Outputs:\n",
    "    Trained RBM weight matrix\n",
    "    Example of RBM prediction on an example digit from the MNIST dataset\n",
    "    Graph of error as a function of epoch\n",
    "    \"\"\"\n",
    "    \n",
    "    # Set up RBM\n",
    "    num_visible = data.shape[1]\n",
    "    r = RBM(data, num_visible, num_hidden, epochs, learning_rate)\n",
    "    # Train RBM\n",
    "    sample = r.CDk()\n",
    "    \n",
    "    # Set up subplots and titles for the columns\n",
    "    f = plt.subplots(10,5, figsize=(15,15))\n",
    "    f[1][0,0].set_title(\"Original Image\", fontsize=18).set_position([.5, 1.35])\n",
    "    f[1][0,1].set_title(\"RBM Probabilities\", fontsize=18).set_position([.5, 1.35])\n",
    "    f[1][0,2].set_title(\"RBM Sample 1\", fontsize=18).set_position([.5, 1.35])\n",
    "    f[1][0,3].set_title(\"RBM Sample 2\", fontsize=18).set_position([.5, 1.35])\n",
    "    f[1][0,4].set_title(\"RBM Sample 3\", fontsize=18).set_position([.5, 1.35])\n",
    "\n",
    "    # Vector of image numbers to plot\n",
    "    images = [11, 12002, 15005, 19005, 28005, 32005, 39007, 43004, 49010, 58030]\n",
    "\n",
    "    # Iterate over digits\n",
    "    for i in xrange(0, 10):\n",
    "        # Iterate over columns\n",
    "        for j in xrange(0, 5):\n",
    "            \n",
    "            # First column is original image\n",
    "            if j == 0:\n",
    "                f[1][i, j].imshow(data_array[images[i]].reshape(28, 28), cmap=\"Greys\")\n",
    "            # Second column is RBM prediction\n",
    "            elif j == 1:\n",
    "                f[1][i, j].imshow(sample[0][images[i]][1:].reshape(28,28), cmap=\"Greys\")            \n",
    "            # Third to Fifth columns are RBM samples\n",
    "            # Note \n",
    "            else:\n",
    "                s = sample[0][images[i]][1:].reshape(28,28)\n",
    "                img = s > np.random.rand(s.shape[0], s.shape[1]) \n",
    "                f[1][i, j].imshow(img, cmap=\"Greys\")\n",
    "\n",
    "            # Get rid of useless axes\n",
    "            f[1][i, j].get_xaxis().set_visible(False)\n",
    "            f[1][i, j].get_yaxis().set_visible(False)\n",
    "\n",
    "    plt.suptitle(\"RBM Trained on MNIST Dataset\", fontsize=25)\n",
    "    plt.show()\n",
    "    \n",
    "    # Plot error linegraph\n",
    "    rcParams['figure.figsize'] = 5, 5\n",
    "    err = sample[1]\n",
    "    plt.plot(err)\n",
    "    plt.ylabel(\"Error\")\n",
    "    plt.xlabel(\"Epoch\")\n",
    "    plt.title(\"Error over Epochs\")\n",
    "    plt.show()\n",
    "    \n",
    "    return r.weights"
   ]
  },
  {
   "cell_type": "code",
   "execution_count": 19,
   "metadata": {
    "collapsed": false
   },
   "outputs": [
    {
     "data": {
      "image/png": "[encoded data removed]",
      "text/plain": [
       "<matplotlib.figure.Figure at 0x119cccf50>"
      ]
     },
     "metadata": {},
     "output_type": "display_data"
    },
    {
     "data": {
      "image/png": "[encoded data removed]",
      "text/plain": [
       "<matplotlib.figure.Figure at 0x11f5c0cd0>"
      ]
     },
     "metadata": {},
     "output_type": "display_data"
    }
   ],
   "source": [
    "data_array = mnist.data\n",
    "plt.imshow(data_array[0].reshape(28, 28), cmap = 'Greys')\n",
    "plt.show()\n",
    "\n",
    "for img in data_array:\n",
    "    img[img < 100] = 0\n",
    "    img[img > 0] = 1\n",
    "\n",
    "plt.imshow(data_array[0].reshape(28, 28), cmap = 'Greys')\n",
    "plt.show()"
   ]
  },
  {
   "cell_type": "code",
   "execution_count": 21,
   "metadata": {
    "collapsed": false
   },
   "outputs": [
    {
     "name": "stdout",
     "output_type": "stream",
     "text": [
      "Layers:  300 Rate:  0.4 Epoch:  1 , Error:  47051392.9914\n"
     ]
    },
    {
     "ename": "TypeError",
     "evalue": "'NoneType' object has no attribute '__getitem__'",
     "output_type": "error",
     "traceback": [
      "\u001b[0;31m---------------------------------------------------------------------------\u001b[0m",
      "\u001b[0;31mTypeError\u001b[0m                                 Traceback (most recent call last)",
      "\u001b[0;32m<ipython-input-21-41434da57aa1>\u001b[0m in \u001b[0;36m<module>\u001b[0;34m()\u001b[0m\n\u001b[0;32m----> 1\u001b[0;31m \u001b[0mrbm_and_plot\u001b[0m\u001b[0;34m(\u001b[0m\u001b[0mdata_array\u001b[0m\u001b[0;34m,\u001b[0m \u001b[0mnum_hidden\u001b[0m\u001b[0;34m=\u001b[0m\u001b[0;36m300\u001b[0m\u001b[0;34m,\u001b[0m \u001b[0mepochs\u001b[0m\u001b[0;34m=\u001b[0m\u001b[0;36m1\u001b[0m\u001b[0;34m,\u001b[0m \u001b[0mlearning_rate\u001b[0m\u001b[0;34m=\u001b[0m\u001b[0;36m.4\u001b[0m\u001b[0;34m)\u001b[0m\u001b[0;34m\u001b[0m\u001b[0m\n\u001b[0m",
      "\u001b[0;32m<ipython-input-9-ccaf557bfedc>\u001b[0m in \u001b[0;36mrbm_and_plot\u001b[0;34m(data, num_hidden, epochs, learning_rate)\u001b[0m\n\u001b[1;32m     42\u001b[0m             \u001b[0;31m# Second column is RBM prediction\u001b[0m\u001b[0;34m\u001b[0m\u001b[0;34m\u001b[0m\u001b[0m\n\u001b[1;32m     43\u001b[0m             \u001b[0;32melif\u001b[0m \u001b[0mj\u001b[0m \u001b[0;34m==\u001b[0m \u001b[0;36m1\u001b[0m\u001b[0;34m:\u001b[0m\u001b[0;34m\u001b[0m\u001b[0m\n\u001b[0;32m---> 44\u001b[0;31m                 \u001b[0mf\u001b[0m\u001b[0;34m[\u001b[0m\u001b[0;36m1\u001b[0m\u001b[0;34m]\u001b[0m\u001b[0;34m[\u001b[0m\u001b[0mi\u001b[0m\u001b[0;34m,\u001b[0m \u001b[0mj\u001b[0m\u001b[0;34m]\u001b[0m\u001b[0;34m.\u001b[0m\u001b[0mimshow\u001b[0m\u001b[0;34m(\u001b[0m\u001b[0msample\u001b[0m\u001b[0;34m[\u001b[0m\u001b[0;36m0\u001b[0m\u001b[0;34m]\u001b[0m\u001b[0;34m[\u001b[0m\u001b[0mimages\u001b[0m\u001b[0;34m[\u001b[0m\u001b[0mi\u001b[0m\u001b[0;34m]\u001b[0m\u001b[0;34m]\u001b[0m\u001b[0;34m[\u001b[0m\u001b[0;36m1\u001b[0m\u001b[0;34m:\u001b[0m\u001b[0;34m]\u001b[0m\u001b[0;34m.\u001b[0m\u001b[0mreshape\u001b[0m\u001b[0;34m(\u001b[0m\u001b[0;36m28\u001b[0m\u001b[0;34m,\u001b[0m\u001b[0;36m28\u001b[0m\u001b[0;34m)\u001b[0m\u001b[0;34m,\u001b[0m \u001b[0mcmap\u001b[0m\u001b[0;34m=\u001b[0m\u001b[0;34m\"Greys\"\u001b[0m\u001b[0;34m)\u001b[0m\u001b[0;34m\u001b[0m\u001b[0m\n\u001b[0m\u001b[1;32m     45\u001b[0m             \u001b[0;31m# Third to Fifth columns are RBM samples\u001b[0m\u001b[0;34m\u001b[0m\u001b[0;34m\u001b[0m\u001b[0m\n\u001b[1;32m     46\u001b[0m             \u001b[0;32melse\u001b[0m\u001b[0;34m:\u001b[0m\u001b[0;34m\u001b[0m\u001b[0m\n",
      "\u001b[0;31mTypeError\u001b[0m: 'NoneType' object has no attribute '__getitem__'"
     ]
    },
    {
     "data": {
      "image/png": "[encoded data removed]",
      "text/plain": [
       "<matplotlib.figure.Figure at 0x11fc9b150>"
      ]
     },
     "metadata": {},
     "output_type": "display_data"
    }
   ],
   "source": [
    "rbm_and_plot(data_array, num_hidden=300, epochs=1, learning_rate=.4)"
   ]
  },
  {
   "cell_type": "markdown",
   "metadata": {},
   "source": [
    "# Deep Belief Network"
   ]
  },
  {
   "cell_type": "markdown",
   "metadata": {},
   "source": [
    "### Stacking RBMs to perform deep learning"
   ]
  },
  {
   "cell_type": "code",
   "execution_count": null,
   "metadata": {
    "collapsed": true
   },
   "outputs": [],
   "source": [
    "class DBN(object):\n",
    "    \"\"\"\n",
    "    Implementation of Deep Belief Network, made by stacking RBMs\n",
    "    \n",
    "    Inputs:\n",
    "    data\n",
    "    layer_nodes, an array that describes desired network architecture\n",
    "    \n",
    "    Example:\n",
    "    [3, 4, 5, 3] will form a DBN with:\n",
    "    - 3 unit visible layer\n",
    "    - 4 unit hidden layer \n",
    "    - 5 unit hidden layer\n",
    "    - 3 unit hidden layer\n",
    "    \n",
    "    number of epochs to train from\n",
    "    learning rate, default set to 0.1\n",
    "    \n",
    "    Outputs:\n",
    "    set of weights\n",
    "    \"\"\"\n",
    "\n",
    "    def __init__(self, data, layer_nodes, num_epochs, learning_rate=0.1):\n",
    "        \n",
    "        self.data = data\n",
    "        self.num_data = data.shape[0]\n",
    "        self.learning_rate = learning_rate\n",
    "        self.num_epochs = num_epochs\n",
    "        self.layer_nodes = layer_nodes\n",
    "        self.num_layers = len(self.layer_nodes)\n",
    "        \n",
    "        # List of stacked RBMs\n",
    "        self.RBM_layer = range(0,len(self.layer_nodes)-1)  \n",
    "        \n",
    "        # List of messages \n",
    "        self.RBM_layer_messages = range(0,len(self.layer_nodes))  \n",
    "        self.RBM_layer_messages[0] = self.data\n",
    "        \n",
    "    def _build(self):\n",
    "        \"\"\"\n",
    "        Builds the DBN\n",
    "        \"\"\"\n",
    "        \n",
    "        for i in xrange(0,len(self.layer_nodes)-1):\n",
    "            \n",
    "            # create each RBM layer by creating separate RBM objects\n",
    "            self.RBM_layer[i] = RBM(self.RBM_layer_messages[i], \\\n",
    "                                    self.layer_nodes[i], \\\n",
    "                                    self.layer_nodes[i+1], \\\n",
    "                                    self.num_epochs, self.learning_rate)\n",
    "            \n",
    "            # train each RBM layer using RBM implementation of CDk\n",
    "            down_probs = self.RBM_layer[i].CDk()  \n",
    "            \n",
    "            # create messages to pass between the layers\n",
    "            self.RBM_layer_messages[i+1] = self.RBM_layer[i]._sample_h_given_v(self.RBM_layer_messages[i])\n",
    "            \n",
    "            # error\n",
    "            error = np.sum((self.RBM_layer_messages[i] - down_probs[:,1:]) ** 2)\n",
    "            print(\"DBN Layer: \", i, \", DBN Error: \", error)\n",
    "            \n",
    "        return\n",
    "    \n",
    "    def _dbn_sample_v_given_h(self, h):  \n",
    "        # h does not contain bias\n",
    "        \n",
    "        temp = h\n",
    "        for i in xrange(len(self.layer_nodes)-2,-1,-1):\n",
    "            temp = self.RBM_layer[i]._sample_v_given_h(temp)\n",
    "        return temp\n",
    "    \n",
    "    def _dbn_sample_h_given_v(self, v):  \n",
    "        # v does not contain bias\n",
    "        \n",
    "        temp = v\n",
    "        for i in xrange(0,len(self.layer_nodes)-1):\n",
    "            temp = self.RBM_layer[i]._sample_h_given_v_nontrain(temp)\n",
    "        return temp\n"
   ]
  },
  {
   "cell_type": "markdown",
   "metadata": {},
   "source": [
    "#### View some example output from DBN"
   ]
  },
  {
   "cell_type": "code",
   "execution_count": null,
   "metadata": {
    "collapsed": true
   },
   "outputs": [],
   "source": [
    "visible_units = data_array.shape[1]\n",
    "num_epochs = 1000\n",
    "learning_rate = 0.4\n",
    "\n",
    "dbn_learner = DBN(data_array, [visible_units,50,20], num_epochs, learning_rate)\n",
    "dbn_learner._build()"
   ]
  },
  {
   "cell_type": "code",
   "execution_count": null,
   "metadata": {
    "collapsed": true
   },
   "outputs": [],
   "source": [
    "img = 44444\n",
    "\n",
    "h = dbn_learner._dbn_sample_h_given_v(data_array[img])\n",
    "v = dbn_learner._dbn_sample_v_given_h(h)\n",
    "\n",
    "plt.imshow(v.reshape(28,28), cmap = 'Greys')\n",
    "plt.show()\n",
    "\n",
    "plt.imshow(data_array[img].reshape(28,28), cmap = 'Greys')\n",
    "plt.show()"
   ]
  },
  {
   "cell_type": "markdown",
   "metadata": {},
   "source": [
    "## Visualizing the DBN"
   ]
  },
  {
   "cell_type": "code",
   "execution_count": null,
   "metadata": {
    "collapsed": true
   },
   "outputs": [],
   "source": []
  }
 ],
 "metadata": {
  "kernelspec": {
   "display_name": "Python 2",
   "language": "python",
   "name": "python2"
  },
  "language_info": {
   "codemirror_mode": {
    "name": "ipython",
    "version": 2
   },
   "file_extension": ".py",
   "mimetype": "text/x-python",
   "name": "python",
   "nbconvert_exporter": "python",
   "pygments_lexer": "ipython2",
   "version": "2.7.9"
  }
 },
 "nbformat": 4,
 "nbformat_minor": 0
}
