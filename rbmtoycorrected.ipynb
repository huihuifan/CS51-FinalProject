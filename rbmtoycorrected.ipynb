{
 "cells": [
  {
   "cell_type": "code",
   "execution_count": 1,
   "metadata": {
    "collapsed": false
   },
   "outputs": [],
   "source": [
    "%matplotlib inline\n",
    "\n",
    "from __future__ import absolute_import, print_function, unicode_literals, division\n",
    "from sklearn.datasets import fetch_mldata\n",
    "import matplotlib.pyplot as plt\n",
    "import numpy as np\n",
    "import pandas as pd\n",
    "import itertools\n",
    "import random as rand\n",
    "import copy"
   ]
  },
  {
   "cell_type": "code",
   "execution_count": 10,
   "metadata": {
    "collapsed": false
   },
   "outputs": [
    {
     "data": {
      "text/html": [
       "<div style=\"max-height:1000px;max-width:1500px;overflow:auto;\">\n",
       "<table border=\"1\" class=\"dataframe\">\n",
       "  <thead>\n",
       "    <tr style=\"text-align: right;\">\n",
       "      <th></th>\n",
       "      <th>alice</th>\n",
       "      <th>eric</th>\n",
       "      <th>nancy</th>\n",
       "    </tr>\n",
       "  </thead>\n",
       "  <tbody>\n",
       "    <tr>\n",
       "      <th>Birdman</th>\n",
       "      <td> 0</td>\n",
       "      <td> 0</td>\n",
       "      <td> 1</td>\n",
       "    </tr>\n",
       "    <tr>\n",
       "      <th>Interstellar</th>\n",
       "      <td> 1</td>\n",
       "      <td> 0</td>\n",
       "      <td> 1</td>\n",
       "    </tr>\n",
       "    <tr>\n",
       "      <th>Lego Movie</th>\n",
       "      <td> 0</td>\n",
       "      <td> 1</td>\n",
       "      <td> 0</td>\n",
       "    </tr>\n",
       "    <tr>\n",
       "      <th>Selma</th>\n",
       "      <td> 0</td>\n",
       "      <td> 0</td>\n",
       "      <td> 1</td>\n",
       "    </tr>\n",
       "    <tr>\n",
       "      <th>Whiplash</th>\n",
       "      <td> 1</td>\n",
       "      <td> 0</td>\n",
       "      <td> 1</td>\n",
       "    </tr>\n",
       "  </tbody>\n",
       "</table>\n",
       "</div>"
      ],
      "text/plain": [
       "              alice  eric  nancy\n",
       "Birdman           0     0      1\n",
       "Interstellar      1     0      1\n",
       "Lego Movie        0     1      0\n",
       "Selma             0     0      1\n",
       "Whiplash          1     0      1"
      ]
     },
     "execution_count": 10,
     "metadata": {},
     "output_type": "execute_result"
    }
   ],
   "source": [
    "alice = {\"Interstellar\":1, \"Whiplash\":1, \"Selma\":0, \"Lego Movie\":0, \"Birdman\":0}\n",
    "eric = {\"Interstellar\":0, \"Whiplash\":0, \"Selma\":0, \"Lego Movie\":1, \"Birdman\":0}\n",
    "nancy = {\"Interstellar\":1, \"Whiplash\":1, \"Selma\":1, \"Lego Movie\":0, \"Birdman\":1}\n",
    "#sarah = {\"Interstellar\":0, \"Whiplash\":1, \"Selma\":0, \"Lego Movie\":0, \"Birdman\":1}\n",
    "#mike = {\"Interstellar\":1, \"Whiplash\":1, \"Selma\":1, \"Lego Movie\":1, \"Birdman\":1}\n",
    "#bob = {\"Interstellar\":0, \"Whiplash\":1, \"Selma\":1, \"Lego Movie\":0, \"Birdman\":1}\n",
    "\n",
    "data = {\"alice\":alice, \"eric\":eric, \"nancy\":nancy}#, \"sarah\":sarah} \"mike\":mike, \"bob\":bob}\n",
    "\n",
    "data = pd.DataFrame.from_dict(data)\n",
    "data.head()"
   ]
  },
  {
   "cell_type": "code",
   "execution_count": 11,
   "metadata": {
    "collapsed": false
   },
   "outputs": [
    {
     "name": "stdout",
     "output_type": "stream",
     "text": [
      "[[0 0 1]\n",
      " [1 0 1]\n",
      " [0 1 0]\n",
      " [0 0 1]\n",
      " [1 0 1]]\n",
      "(5, 3)\n"
     ]
    }
   ],
   "source": [
    "data_array = np.array(data)\n",
    "print(data_array)\n",
    "print(data_array.shape)"
   ]
  },
  {
   "cell_type": "code",
   "execution_count": 27,
   "metadata": {
    "collapsed": false
   },
   "outputs": [],
   "source": [
    "class RBM(object):\n",
    "    \"\"\"\n",
    "    Implementation of Restricted Boltzmann Machine for binary prediction\n",
    "    \n",
    "    Inputs:\n",
    "    Data\n",
    "    Number of hidden and visible states\n",
    "    Learning rate, default set to 0.1\n",
    "    \n",
    "    Outputs:\n",
    "    Weight matrix\n",
    "    Epoch number and error\n",
    "    \"\"\"\n",
    "\n",
    "    def __init__(self, data, num_visible, num_hidden, learning_rate=0.1):\n",
    "        \n",
    "        self.data = data\n",
    "        self.num_data = data.shape[0]\n",
    "        self.num_hidden = num_hidden\n",
    "        self.num_visible = num_visible\n",
    "        self.learning_rate = learning_rate\n",
    "\n",
    "        # weight matrix first row and first column represent the bias\n",
    "        self.weights = np.random.rand(self.num_visible, self.num_hidden) \n",
    "        self.weights = np.insert(self.weights, 0, 0, axis = 0)\n",
    "        self.weights = np.insert(self.weights, 0, 0, axis = 1)\n",
    "    \n",
    "    def _sigmoid(self,x):\n",
    "        \"\"\"\n",
    "        Logistic Sigmoid Activation Function\n",
    "        \"\"\"\n",
    "        return 1.0/(1.0+np.exp(-x))\n",
    "    \n",
    "    def _sample_h_given_v(self, v):\n",
    "        \"\"\"\n",
    "        Predicts hidden layer given visible layer\n",
    "        \"\"\"\n",
    "        hid = self._sigmoid(np.dot(v, self.weights))\n",
    "        hidden_states = hid > np.random.rand(self.num_hidden + 1)\n",
    "        return hidden_states\n",
    "    \n",
    "    def _sample_v_given_h(self, h):\n",
    "        \"\"\"\n",
    "        Predicts visible layer given hidden layer\n",
    "        \"\"\"\n",
    "        vis = self._sigmoid(np.dot(h, self.weights.T))\n",
    "        visible_states = vis > np.random.rand(self.num_visible + 1)\n",
    "\n",
    "        return visible_states\n",
    "    \n",
    "    def _propagate_up(self, vis):\n",
    "        \"\"\"\n",
    "        Propagates visible layer activation to hidden layer\n",
    "        \"\"\"\n",
    "        vis_activation = self._sigmoid(np.dot(vis, self.weights))\n",
    "        sample = vis_activation > np.random.rand(self.num_data, self.num_hidden + 1)\n",
    "        return sample\n",
    "\n",
    "    def _propagate_down(self, hid):\n",
    "        \"\"\"\n",
    "        Propagates hidden layer activation to visible layer\n",
    "        \"\"\"\n",
    "        hidden_activation = self._sigmoid(np.dot(hid, self.weights.T))\n",
    "        return hidden_activation\n",
    "\n",
    "    \n",
    "    def CDk(self, max_epochs=1000):\n",
    "        \"\"\"\n",
    "        Trains the RBM\n",
    "        \"\"\"\n",
    "        self.data = np.insert(self.data, 0, 1, axis=1)\n",
    "        \n",
    "        for epoch in xrange(0, max_epochs):\n",
    "            \n",
    "            # CDk positive phase\n",
    "            up_data = self._propagate_up(self.data)\n",
    "            up_associations = np.dot(self.data.T, up_data)\n",
    "            \n",
    "            # CDk negative phase\n",
    "            down_vis_probs = self._propagate_down(up_data)\n",
    "            #remove the bias layer\n",
    "            down_vis_probs[:,0] = 1 \n",
    "            down_associations = self._sigmoid(np.dot(down_vis_probs, self.weights))            \n",
    "            down_associations = np.dot(down_vis_probs.T, down_associations)\n",
    "            \n",
    "            self.weights += self.learning_rate * \\\n",
    "                ((up_associations - down_associations)/self.num_data)\n",
    "                \n",
    "            error = np.sum((self.data - down_vis_probs) ** 2)\n",
    "            #print(\"Epoch: \", epoch, \", Error: \", error)\n",
    "            if epoch == 100000:\n",
    "                return down_vis_probs"
   ]
  },
  {
   "cell_type": "code",
   "execution_count": 28,
   "metadata": {
    "collapsed": false
   },
   "outputs": [
    {
     "name": "stdout",
     "output_type": "stream",
     "text": [
      "ORIGINAL ARRAY\n",
      "[[0 0 1]\n",
      " [1 0 1]\n",
      " [0 1 0]\n",
      " [0 0 1]\n",
      " [1 0 1]]\n",
      "[[  1.00591977   8.15772717   3.13936072   0.19460555]\n",
      " [ -3.56526119 -20.1365942    2.37252106   6.10564137]\n",
      " [ 10.40493423   0.97435142  -5.95476714  -9.73160209]\n",
      " [-12.4850535    1.16562851   7.60490638   8.90149943]]\n"
     ]
    }
   ],
   "source": [
    "print(\"ORIGINAL ARRAY\")\n",
    "print(data_array)\n",
    "r = RBM(data_array, 3, 3, .8)\n",
    "sample = r.CDk(max_epochs=100001)\n",
    "print(r.weights)"
   ]
  },
  {
   "cell_type": "code",
   "execution_count": 29,
   "metadata": {
    "collapsed": false
   },
   "outputs": [
    {
     "data": {
      "text/plain": [
       "array([[  8.64474052e-06,   9.99792056e-01,   5.08649994e-11,\n",
       "          8.64474052e-06,   9.99792056e-01],\n",
       "       [  4.11759526e-07,   1.55416303e-07,   9.99988570e-01,\n",
       "          4.11759526e-07,   1.55416303e-07],\n",
       "       [  9.99999979e-01,   9.99999932e-01,   1.21345724e-05,\n",
       "          9.99999979e-01,   9.99999932e-01]])"
      ]
     },
     "execution_count": 29,
     "metadata": {},
     "output_type": "execute_result"
    }
   ],
   "source": [
    "sample[:,1:].T"
   ]
  },
  {
   "cell_type": "code",
   "execution_count": null,
   "metadata": {
    "collapsed": true
   },
   "outputs": [],
   "source": []
  }
 ],
 "metadata": {
  "kernelspec": {
   "display_name": "Python 2",
   "language": "python",
   "name": "python2"
  },
  "language_info": {
   "codemirror_mode": {
    "name": "ipython",
    "version": 2
   },
   "file_extension": ".py",
   "mimetype": "text/x-python",
   "name": "python",
   "nbconvert_exporter": "python",
   "pygments_lexer": "ipython2",
   "version": "2.7.8"
  }
 },
 "nbformat": 4,
 "nbformat_minor": 0
}
