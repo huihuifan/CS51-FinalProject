{
 "cells": [
  {
   "cell_type": "code",
   "execution_count": 3,
   "metadata": {
    "collapsed": true
   },
   "outputs": [],
   "source": [
    "%matplotlib inline\n",
    "\n",
    "from __future__ import absolute_import, print_function, unicode_literals, division\n",
    "from sklearn.datasets import fetch_mldata\n",
    "import matplotlib.pyplot as plt\n",
    "import numpy as np\n",
    "import pandas as pd\n",
    "import itertools\n",
    "import random as rand\n",
    "import copy"
   ]
  },
  {
   "cell_type": "code",
   "execution_count": 4,
   "metadata": {
    "collapsed": true
   },
   "outputs": [],
   "source": [
    "def mat_dbg(x):\n",
    "    print(x.shape, \": \\n\", x)"
   ]
  },
  {
   "cell_type": "code",
   "execution_count": 50,
   "metadata": {
    "collapsed": false
   },
   "outputs": [],
   "source": [
    "class MLP(object):\n",
    "    \"\"\"\n",
    "    NOTE: Matrix operations are modified from RBM file\n",
    "    In particular, we have an an an input of n data points with\n",
    "    dimension d as a d-by-n matrix\n",
    "    \"\"\"\n",
    "    def __init__(self, data, num_hidden, learn_rate):\n",
    "        # First row are the target values\n",
    "        self.targets = data[0]\n",
    "        self.data = data[1:,:]\n",
    "        self.num_data = data.shape[1]\n",
    "        self.num_visible = data.shape[0] - 1\n",
    "        self.num_hidden = num_hidden\n",
    "        self.learn_rate = learn_rate\n",
    "        self.state_size = 2 * (np.amax(self.targets) - np.amin(self.targets)) + 4\n",
    "\n",
    "        self.weights = 2 * np.random.rand(self.num_visible + 1, self.num_hidden) - 1\n",
    "        self.data = np.insert(self.data, 0, 1, axis = 0)\n",
    "    \n",
    "    def _sigmoid(self,x):\n",
    "        return 1.0/(1.0+np.exp(-x))\n",
    "        \n",
    "    def _activated(self,mat):\n",
    "        activated = self._sigmoid(np.dot(self.weights.T,mat))\n",
    "        return activated\n",
    "    \n",
    "    def _gradient(self,mat):\n",
    "        w = copy.deepcopy(mat)\n",
    "        for elt in np.nditer(w,op_flags=['readwrite']):\n",
    "            elt[...] = elt - elt * elt\n",
    "        return w\n",
    "    \n",
    "    def train(self, iterations=3):\n",
    "        data_copy = copy.deepcopy(self.data)\n",
    "        for j in range(0,iterations):\n",
    "            for i in range(0,self.num_data):\n",
    "\n",
    "                \"\"\"Feed-forward phase\"\"\"\n",
    "                data_col = data_copy[:,i]\n",
    "                data_col = np.reshape(data_col, (-1, 1))\n",
    "\n",
    "                activated_output = (self._activated(data_col))[0]\n",
    "                guess = self.state_size * (2 * activated_output - 1)\n",
    "\n",
    "                \"\"\"Error calculation phase\"\"\"\n",
    "                error = self.targets[i] - guess\n",
    "\n",
    "                \"\"\"Back-propagation phase\"\"\"\n",
    "                grad = (self._gradient(activated_output))[0]\n",
    "\n",
    "                c = (error * self.learn_rate)[0]\n",
    "                wt_change = c * grad * data_col\n",
    "\n",
    "                self.weights = wt_change + self.weights\n",
    "    \n",
    "    def pred(self, test):\n",
    "        test_copy = copy.deepcopy(test)\n",
    "        test_copy = np.insert(test_copy, 0, 1, axis = 0)\n",
    "        pred_p = self._activated(test_copy)\n",
    "        pred = 2 * pred_p - 1\n",
    "        pred = self.state_size * pred\n",
    "        return pred\n"
   ]
  },
  {
   "cell_type": "code",
   "execution_count": 83,
   "metadata": {
    "collapsed": false
   },
   "outputs": [
    {
     "name": "stdout",
     "output_type": "stream",
     "text": [
      "Weights^T: \n",
      " [[-0.91796034  0.9163448  -0.37576023 -0.06045506  0.68782146  0.28630357\n",
      "  -0.76020405  0.92430764  0.78151779 -0.8989808 ]]\n",
      "Targets: \n",
      " [ 5.  3.  3. ...,  5.  5.  3.]\n",
      "Data sample: \n",
      " [[ 1.  1.  1. ..., -1.  1. -1.]\n",
      " [ 1. -1. -1. ...,  1.  1. -1.]\n",
      " [ 1.  1.  1. ...,  1. -1. -1.]\n",
      " [-1.  1.  1. ..., -1. -1.  1.]]\n"
     ]
    }
   ],
   "source": [
    "# See www.cse.unsw.edu.au/~cs9417ml/MLP2/\n",
    "# See https://www.hiit.fi/u/ahonkela/dippa/node41.html\n",
    "\n",
    "# Generate training data (no noise)\n",
    "dims = 10\n",
    "data_pts = 300 * dims\n",
    "sample_data = np.sign(2*np.random.rand(dims,data_pts)-1)\n",
    "sample_data[0] = (4 * sample_data[1] ** 2 + 1 * sample_data[2]) \n",
    "# Need to write binary target values for data as well for MLP\n",
    "# mat_dbg(sample_data)\n",
    "MLP_1 = MLP(sample_data,1,0.01) #0.035 threshold\n",
    "print(\"Weights^T: \\n\",MLP_1.weights.T)\n",
    "print(\"Targets: \\n\",MLP_1.targets)\n",
    "print(\"Data sample: \\n\",MLP_1.data[1:5])"
   ]
  },
  {
   "cell_type": "code",
   "execution_count": 84,
   "metadata": {
    "collapsed": false
   },
   "outputs": [
    {
     "name": "stdout",
     "output_type": "stream",
     "text": [
      "Weights: \n",
      " [[  1.12739721e+00]\n",
      " [  7.67541712e-16]\n",
      " [  3.38939854e-01]\n",
      " [  4.23928828e-16]\n",
      " [ -7.49775764e-17]\n",
      " [  6.91097314e-16]\n",
      " [ -6.61724269e-16]\n",
      " [ -4.82791299e-16]\n",
      " [ -1.93727390e-16]\n",
      " [  7.68328969e-16]]\n",
      "Targets: \n",
      " [ 5.  3.  3. ...,  5.  5.  3.]\n"
     ]
    }
   ],
   "source": [
    "MLP_1.train(5)\n",
    "print(\"Weights: \\n\", MLP_1.weights)\n",
    "print(\"Targets: \\n\", MLP_1.targets)"
   ]
  },
  {
   "cell_type": "code",
   "execution_count": 85,
   "metadata": {
    "collapsed": false
   },
   "outputs": [
    {
     "name": "stdout",
     "output_type": "stream",
     "text": [
      "Test data: \n",
      " [[ 1. -1. -1.  1. -1. -1.  1.  1. -1. -1.]\n",
      " [ 1.  1. -1.  1.  1.  1.  1. -1. -1.  1.]\n",
      " [-1. -1.  1. -1. -1.  1. -1. -1. -1. -1.]\n",
      " [-1.  1.  1. -1. -1. -1.  1. -1.  1. -1.]\n",
      " [-1. -1. -1.  1.  1.  1. -1. -1.  1. -1.]\n",
      " [ 1. -1.  1. -1. -1.  1.  1.  1. -1.  1.]\n",
      " [ 1. -1. -1.  1.  1.  1.  1.  1.  1. -1.]\n",
      " [ 1. -1.  1. -1. -1. -1. -1.  1.  1.  1.]\n",
      " [-1. -1. -1.  1.  1. -1.  1.  1. -1. -1.]]\n",
      "Shape: (1, 10)\n",
      "targets: \n",
      " [ 5.  5.  3.  5.  5.  5.  5.  3.  3.  5.]\n",
      "Guesses: \n",
      " [[ 5.  5.  3.  5.  5.  5.  5.  3.  3.  5.]]\n"
     ]
    }
   ],
   "source": [
    "dims = 9\n",
    "test_pts = 10\n",
    "test_data = np.sign(2*np.random.rand(dims,test_pts)-1)\n",
    "print(\"Test data: \\n\",test_data)\n",
    "print(\"Shape:\",np.shape(a))\n",
    "print(\"targets: \\n\", 4 * test_data[0] ** 2 + 1 * test_data[1] )\n",
    "guesses = MLP_1.pred(test_data)\n",
    "print(\"Guesses: \\n\", guesses)"
   ]
  },
  {
   "cell_type": "code",
   "execution_count": 86,
   "metadata": {
    "collapsed": false
   },
   "outputs": [
    {
     "data": {
      "text/plain": [
       "0.05714285714285714"
      ]
     },
     "execution_count": 86,
     "metadata": {},
     "output_type": "execute_result"
    }
   ],
   "source": [
    "30 / 7 / 75"
   ]
  },
  {
   "cell_type": "code",
   "execution_count": null,
   "metadata": {
    "collapsed": true
   },
   "outputs": [],
   "source": []
  }
 ],
 "metadata": {
  "kernelspec": {
   "display_name": "Python 2",
   "language": "python",
   "name": "python2"
  },
  "language_info": {
   "codemirror_mode": {
    "name": "ipython",
    "version": 2
   },
   "file_extension": ".py",
   "mimetype": "text/x-python",
   "name": "python",
   "nbconvert_exporter": "python",
   "pygments_lexer": "ipython2",
   "version": "2.7.9"
  }
 },
 "nbformat": 4,
 "nbformat_minor": 0
}
