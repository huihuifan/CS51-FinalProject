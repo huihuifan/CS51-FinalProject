{
 "cells": [
  {
   "cell_type": "code",
   "execution_count": 1,
   "metadata": {
    "collapsed": true
   },
   "outputs": [],
   "source": [
    "%matplotlib inline\n",
    "\n",
    "from __future__ import absolute_import, print_function, unicode_literals, division\n",
    "from sklearn.datasets import fetch_mldata\n",
    "import matplotlib.pyplot as plt\n",
    "import numpy as np\n",
    "import pandas as pd\n",
    "import itertools\n",
    "import random as rand\n",
    "import copy"
   ]
  },
  {
   "cell_type": "code",
   "execution_count": 2,
   "metadata": {
    "collapsed": true
   },
   "outputs": [],
   "source": [
    "def mat_dbg(x):\n",
    "    print(x.shape, \": \\n\", x)"
   ]
  },
  {
   "cell_type": "code",
   "execution_count": 3,
   "metadata": {
    "collapsed": false
   },
   "outputs": [],
   "source": [
    "class MLP(object):\n",
    "    \"\"\"\n",
    "    NOTE: Matrix operations are modified from RBM file\n",
    "    In particular, we have an an an input of n data points with\n",
    "    dimension d as a d-by-n matrix\n",
    "    \"\"\"\n",
    "    def __init__(self, data, num_hidden, learn_rate):\n",
    "        # First row are the target values\n",
    "        self.targets = data[0]\n",
    "        self.data = data[1:,:]\n",
    "        self.num_data = data.shape[1]\n",
    "        self.num_visible = data.shape[0] - 1\n",
    "        self.num_hidden = num_hidden\n",
    "        self.learn_rate = learn_rate\n",
    "        \n",
    "        self.weights = np.random.rand(self.num_visible + 1, self.num_hidden)/500\n",
    "        self.data = np.insert(self.data, 0, 1, axis = 0)\n",
    "    \n",
    "    def _sigmoid(self,x):\n",
    "        return 1.0/(1.0+np.exp(-x))\n",
    "        \n",
    "    def _activated(self,mat):\n",
    "        activated = self._sigmoid(np.dot(self.weights.T,mat))\n",
    "        return activated\n",
    "    \n",
    "    def _gradient(self,mat):\n",
    "        w = copy.deepcopy(mat)\n",
    "        for elt in np.nditer(w,op_flags=['readwrite']):\n",
    "            elt[...] = elt - elt * elt\n",
    "        return w\n",
    "    \n",
    "    def _feed_forward(self):\n",
    "        data_copy = copy.deepcopy(self.data)\n",
    "        for i in range(0,self.num_data):\n",
    "            data_col = data_copy[:,i]\n",
    "            data_col = np.reshape(data_col, (-1, 1))\n",
    "            \n",
    "            activated_output = (self._activated(data_col))[0]\n",
    "            guess = 1 - 2*activated_output\n",
    "            #print(\"Guess: \", guess)\n",
    "            \n",
    "            error = self.targets[i] - guess\n",
    "            grad = (self._gradient(activated_output))[0]\n",
    "            \n",
    "            c = (error * self.learn_rate)[0]\n",
    "            wt_change = c * grad * data_col\n",
    "            \n",
    "            self.weights = wt_change + self.weights\n",
    "            self.weights = self.weights / (np.amax(np.absolute(self.weights)))\n",
    "        \n",
    "        #print(\"New weights: \",self.weights)            \n",
    "        \n",
    "    def _prop_backward(self):\n",
    "        return None\n",
    "    \n",
    "    def _calc_error(self,mat):\n",
    "        return None\n"
   ]
  },
  {
   "cell_type": "code",
   "execution_count": 70,
   "metadata": {
    "collapsed": false
   },
   "outputs": [
    {
     "name": "stdout",
     "output_type": "stream",
     "text": [
      "(4, 1200) : \n",
      " [[ 2.  0. -2. ...,  0.  0.  0.]\n",
      " [ 1.  1. -1. ..., -1. -1. -1.]\n",
      " [ 1. -1. -1. ...,  1.  1.  1.]\n",
      " [ 1. -1.  1. ...,  1.  1. -1.]]\n",
      "Weights^T: \n",
      " [[ 0.00083429  0.0010595   0.00148689  0.00176546]]\n",
      "Data sample: \n",
      " [[ 1.  1. -1. ..., -1. -1. -1.]\n",
      " [ 1. -1. -1. ...,  1.  1.  1.]\n",
      " [ 1. -1.  1. ...,  1.  1. -1.]]\n"
     ]
    }
   ],
   "source": [
    "# See www.cse.unsw.edu.au/~cs9417ml/MLP2/\n",
    "dims = 4\n",
    "data_pts = 300 * dims\n",
    "sample_data = np.sign(1-2*np.random.rand(dims,data_pts))\n",
    "sample_data[0] = (1 * sample_data[1] + 1 * sample_data[2]) \n",
    "# Need to write binary target values for data as well for MLP\n",
    "mat_dbg(sample_data)\n",
    "MLP_1 = MLP(sample_data,1,0.001)\n",
    "print(\"Weights^T: \\n\",MLP_1.weights.T)\n",
    "#print(\"Targets: \")\n",
    "#print(MLP_1.targets)\n",
    "print(\"Data sample: \\n\",MLP_1.data[1:5])"
   ]
  },
  {
   "cell_type": "code",
   "execution_count": 71,
   "metadata": {
    "collapsed": false
   },
   "outputs": [
    {
     "name": "stdout",
     "output_type": "stream",
     "text": [
      "Weights: \n",
      " [[ 0.05163147]\n",
      " [ 0.91088098]\n",
      " [ 1.        ]\n",
      " [ 0.02916911]]\n",
      "Targets: \n",
      " [ 2.  0. -2. ...,  0.  0.  0.]\n",
      "Results: \n",
      " [[ 1.99168156 -0.06665666 -1.8300804  ...,  0.1699196   0.1699196\n",
      "   0.11158138]]\n"
     ]
    }
   ],
   "source": [
    "iterations = 10\n",
    "for i in range(0,10):\n",
    "    MLP_1._feed_forward()\n",
    "#MLP_1._feed_forward()\n",
    "print(\"Weights: \\n\", MLP_1.weights)\n",
    "results = np.dot(MLP_1.weights.T,MLP_1.data)\n",
    "print(\"Targets: \\n\", MLP_1.targets)\n",
    "print(\"Results: \\n\", results)"
   ]
  },
  {
   "cell_type": "code",
   "execution_count": null,
   "metadata": {
    "collapsed": true
   },
   "outputs": [],
   "source": []
  },
  {
   "cell_type": "code",
   "execution_count": null,
   "metadata": {
    "collapsed": true
   },
   "outputs": [],
   "source": []
  }
 ],
 "metadata": {
  "kernelspec": {
   "display_name": "Python 2",
   "language": "python",
   "name": "python2"
  },
  "language_info": {
   "codemirror_mode": {
    "name": "ipython",
    "version": 2
   },
   "file_extension": ".py",
   "mimetype": "text/x-python",
   "name": "python",
   "nbconvert_exporter": "python",
   "pygments_lexer": "ipython2",
   "version": "2.7.9"
  }
 },
 "nbformat": 4,
 "nbformat_minor": 0
}
